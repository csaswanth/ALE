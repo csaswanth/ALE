{
 "cells": [
  {
   "cell_type": "code",
   "execution_count": 21,
   "id": "e9a9a27f",
   "metadata": {},
   "outputs": [
    {
     "name": "stdout",
     "output_type": "stream",
     "text": [
      "Collecting en-core-web-lg==3.2.0\n",
      "  Downloading https://github.com/explosion/spacy-models/releases/download/en_core_web_lg-3.2.0/en_core_web_lg-3.2.0-py3-none-any.whl (777.4 MB)\n",
      "Requirement already satisfied: spacy<3.3.0,>=3.2.0 in c:\\users\\chenn\\anaconda3\\envs\\spellings\\lib\\site-packages (from en-core-web-lg==3.2.0) (3.2.3)\n",
      "Requirement already satisfied: pathy>=0.3.5 in c:\\users\\chenn\\anaconda3\\envs\\spellings\\lib\\site-packages (from spacy<3.3.0,>=3.2.0->en-core-web-lg==3.2.0) (0.6.1)\n",
      "Requirement already satisfied: tqdm<5.0.0,>=4.38.0 in c:\\users\\chenn\\anaconda3\\envs\\spellings\\lib\\site-packages (from spacy<3.3.0,>=3.2.0->en-core-web-lg==3.2.0) (4.63.0)\n",
      "Requirement already satisfied: thinc<8.1.0,>=8.0.12 in c:\\users\\chenn\\anaconda3\\envs\\spellings\\lib\\site-packages (from spacy<3.3.0,>=3.2.0->en-core-web-lg==3.2.0) (8.0.15)\n",
      "Requirement already satisfied: srsly<3.0.0,>=2.4.1 in c:\\users\\chenn\\anaconda3\\envs\\spellings\\lib\\site-packages (from spacy<3.3.0,>=3.2.0->en-core-web-lg==3.2.0) (2.4.2)\n",
      "Requirement already satisfied: preshed<3.1.0,>=3.0.2 in c:\\users\\chenn\\anaconda3\\envs\\spellings\\lib\\site-packages (from spacy<3.3.0,>=3.2.0->en-core-web-lg==3.2.0) (3.0.6)\n",
      "Requirement already satisfied: jinja2 in c:\\users\\chenn\\anaconda3\\envs\\spellings\\lib\\site-packages (from spacy<3.3.0,>=3.2.0->en-core-web-lg==3.2.0) (3.0.3)\n",
      "Requirement already satisfied: typer<0.5.0,>=0.3.0 in c:\\users\\chenn\\anaconda3\\envs\\spellings\\lib\\site-packages (from spacy<3.3.0,>=3.2.0->en-core-web-lg==3.2.0) (0.4.0)\n",
      "Requirement already satisfied: wasabi<1.1.0,>=0.8.1 in c:\\users\\chenn\\anaconda3\\envs\\spellings\\lib\\site-packages (from spacy<3.3.0,>=3.2.0->en-core-web-lg==3.2.0) (0.9.0)\n",
      "Requirement already satisfied: packaging>=20.0 in c:\\users\\chenn\\anaconda3\\envs\\spellings\\lib\\site-packages (from spacy<3.3.0,>=3.2.0->en-core-web-lg==3.2.0) (21.3)\n",
      "Requirement already satisfied: langcodes<4.0.0,>=3.2.0 in c:\\users\\chenn\\anaconda3\\envs\\spellings\\lib\\site-packages (from spacy<3.3.0,>=3.2.0->en-core-web-lg==3.2.0) (3.3.0)\n",
      "Requirement already satisfied: pydantic!=1.8,!=1.8.1,<1.9.0,>=1.7.4 in c:\\users\\chenn\\anaconda3\\envs\\spellings\\lib\\site-packages (from spacy<3.3.0,>=3.2.0->en-core-web-lg==3.2.0) (1.8.2)\n",
      "Requirement already satisfied: murmurhash<1.1.0,>=0.28.0 in c:\\users\\chenn\\anaconda3\\envs\\spellings\\lib\\site-packages (from spacy<3.3.0,>=3.2.0->en-core-web-lg==3.2.0) (1.0.6)\n",
      "Requirement already satisfied: numpy>=1.15.0 in c:\\users\\chenn\\anaconda3\\envs\\spellings\\lib\\site-packages (from spacy<3.3.0,>=3.2.0->en-core-web-lg==3.2.0) (1.21.5)\n",
      "Requirement already satisfied: requests<3.0.0,>=2.13.0 in c:\\users\\chenn\\anaconda3\\envs\\spellings\\lib\\site-packages (from spacy<3.3.0,>=3.2.0->en-core-web-lg==3.2.0) (2.27.1)\n",
      "Requirement already satisfied: setuptools in c:\\users\\chenn\\anaconda3\\envs\\spellings\\lib\\site-packages (from spacy<3.3.0,>=3.2.0->en-core-web-lg==3.2.0) (58.0.4)\n",
      "Requirement already satisfied: catalogue<2.1.0,>=2.0.6 in c:\\users\\chenn\\anaconda3\\envs\\spellings\\lib\\site-packages (from spacy<3.3.0,>=3.2.0->en-core-web-lg==3.2.0) (2.0.7)\n",
      "Requirement already satisfied: cymem<2.1.0,>=2.0.2 in c:\\users\\chenn\\anaconda3\\envs\\spellings\\lib\\site-packages (from spacy<3.3.0,>=3.2.0->en-core-web-lg==3.2.0) (2.0.6)\n",
      "Requirement already satisfied: blis<0.8.0,>=0.4.0 in c:\\users\\chenn\\anaconda3\\envs\\spellings\\lib\\site-packages (from spacy<3.3.0,>=3.2.0->en-core-web-lg==3.2.0) (0.7.7)\n",
      "Requirement already satisfied: spacy-legacy<3.1.0,>=3.0.8 in c:\\users\\chenn\\anaconda3\\envs\\spellings\\lib\\site-packages (from spacy<3.3.0,>=3.2.0->en-core-web-lg==3.2.0) (3.0.9)\n",
      "Requirement already satisfied: spacy-loggers<2.0.0,>=1.0.0 in c:\\users\\chenn\\anaconda3\\envs\\spellings\\lib\\site-packages (from spacy<3.3.0,>=3.2.0->en-core-web-lg==3.2.0) (1.0.1)\n",
      "Requirement already satisfied: typing-extensions<4.0.0.0,>=3.7.4 in c:\\users\\chenn\\anaconda3\\envs\\spellings\\lib\\site-packages (from spacy<3.3.0,>=3.2.0->en-core-web-lg==3.2.0) (3.10.0.2)\n",
      "Requirement already satisfied: zipp>=0.5 in c:\\users\\chenn\\anaconda3\\envs\\spellings\\lib\\site-packages (from catalogue<2.1.0,>=2.0.6->spacy<3.3.0,>=3.2.0->en-core-web-lg==3.2.0) (3.7.0)\n",
      "Requirement already satisfied: pyparsing!=3.0.5,>=2.0.2 in c:\\users\\chenn\\anaconda3\\envs\\spellings\\lib\\site-packages (from packaging>=20.0->spacy<3.3.0,>=3.2.0->en-core-web-lg==3.2.0) (3.0.7)\n",
      "Requirement already satisfied: smart-open<6.0.0,>=5.0.0 in c:\\users\\chenn\\anaconda3\\envs\\spellings\\lib\\site-packages (from pathy>=0.3.5->spacy<3.3.0,>=3.2.0->en-core-web-lg==3.2.0) (5.2.1)\n",
      "Requirement already satisfied: charset-normalizer~=2.0.0 in c:\\users\\chenn\\anaconda3\\envs\\spellings\\lib\\site-packages (from requests<3.0.0,>=2.13.0->spacy<3.3.0,>=3.2.0->en-core-web-lg==3.2.0) (2.0.12)\n",
      "Requirement already satisfied: urllib3<1.27,>=1.21.1 in c:\\users\\chenn\\anaconda3\\envs\\spellings\\lib\\site-packages (from requests<3.0.0,>=2.13.0->spacy<3.3.0,>=3.2.0->en-core-web-lg==3.2.0) (1.26.9)\n",
      "Requirement already satisfied: idna<4,>=2.5 in c:\\users\\chenn\\anaconda3\\envs\\spellings\\lib\\site-packages (from requests<3.0.0,>=2.13.0->spacy<3.3.0,>=3.2.0->en-core-web-lg==3.2.0) (3.3)\n",
      "Requirement already satisfied: certifi>=2017.4.17 in c:\\users\\chenn\\anaconda3\\envs\\spellings\\lib\\site-packages (from requests<3.0.0,>=2.13.0->spacy<3.3.0,>=3.2.0->en-core-web-lg==3.2.0) (2021.10.8)\n",
      "Requirement already satisfied: colorama in c:\\users\\chenn\\anaconda3\\envs\\spellings\\lib\\site-packages (from tqdm<5.0.0,>=4.38.0->spacy<3.3.0,>=3.2.0->en-core-web-lg==3.2.0) (0.4.4)\n",
      "Requirement already satisfied: click<9.0.0,>=7.1.1 in c:\\users\\chenn\\anaconda3\\envs\\spellings\\lib\\site-packages (from typer<0.5.0,>=0.3.0->spacy<3.3.0,>=3.2.0->en-core-web-lg==3.2.0) (8.0.4)\n",
      "Requirement already satisfied: importlib-metadata in c:\\users\\chenn\\anaconda3\\envs\\spellings\\lib\\site-packages (from click<9.0.0,>=7.1.1->typer<0.5.0,>=0.3.0->spacy<3.3.0,>=3.2.0->en-core-web-lg==3.2.0) (4.11.3)\n",
      "Requirement already satisfied: MarkupSafe>=2.0 in c:\\users\\chenn\\anaconda3\\envs\\spellings\\lib\\site-packages (from jinja2->spacy<3.3.0,>=3.2.0->en-core-web-lg==3.2.0) (2.1.1)\n",
      "Installing collected packages: en-core-web-lg\n",
      "Successfully installed en-core-web-lg-3.2.0\n",
      "[+] Download and installation successful\n",
      "You can now load the package via spacy.load('en_core_web_lg')\n"
     ]
    }
   ],
   "source": [
    "#!python -m spacy download en_core_web_lg\n",
    "\n"
   ]
  },
  {
   "cell_type": "code",
   "execution_count": 15,
   "id": "c1e2cf8f",
   "metadata": {},
   "outputs": [],
   "source": [
    "#Stopwords = open('Stopword.txt', 'r', encoding='utf-8')\n",
    "#Stopwords = Stopwords.read()\n",
    "#Stopwords=Stopwords.split(\"\\n\")\n",
    "#Stopwords=np.array(Stopwords)\n",
    "#Stopwords"
   ]
  },
  {
   "cell_type": "code",
   "execution_count": 34,
   "id": "0e473106",
   "metadata": {},
   "outputs": [],
   "source": [
    "def extract_proper_nouns(doc):\n",
    "    doc=nlp(data)\n",
    "    pos = [tok.i for tok in doc if tok.pos_ == \"PROPN\"]\n",
    "    consecutives = []\n",
    "    current = []\n",
    "    for elt in pos:\n",
    "        if len(current) == 0:\n",
    "            current.append(elt)\n",
    "        else:\n",
    "            if current[-1] == elt - 1:\n",
    "                current.append(elt)\n",
    "            else:\n",
    "                consecutives.append(current)\n",
    "                current = [elt]\n",
    "    if len(current) != 0:\n",
    "        consecutives.append(current)\n",
    "    doc= [doc[consecutive[0]:consecutive[-1]+1] for consecutive in consecutives]\n",
    "    doc=''.join([token.text_with_ws for token in d1])\n",
    "\n",
    "    return doc"
   ]
  },
  {
   "cell_type": "code",
   "execution_count": 139,
   "id": "026369a6",
   "metadata": {},
   "outputs": [
    {
     "name": "stdout",
     "output_type": "stream",
     "text": [
      "\n"
     ]
    }
   ],
   "source": [
    "doc=\"\"\n",
    "d1=extract_proper_nouns(doc)\n",
    "#d2=''.join([token.text_with_ws for token in d1])\n",
    "print(d1)"
   ]
  },
  {
   "cell_type": "code",
   "execution_count": 35,
   "id": "2a9af62c",
   "metadata": {},
   "outputs": [
    {
     "data": {
      "text/plain": [
       "'Hi! I am , I am working at .'"
      ]
     },
     "execution_count": 35,
     "metadata": {},
     "output_type": "execute_result"
    }
   ],
   "source": [
    "d2"
   ]
  },
  {
   "cell_type": "code",
   "execution_count": 72,
   "id": "9e1b773e",
   "metadata": {},
   "outputs": [],
   "source": [
    "#import libraries\n",
    "from docx import Document\n",
    "import docx\n",
    "import re\n",
    "import json \n",
    "import pandas as pd\n",
    "import numpy as np\n",
    "import nltk\n",
    "from nltk.corpus import stopwords\n",
    "import spacy\n",
    "from spacy.lang.en.stop_words import STOP_WORDS\n",
    "import en_core_web_lg\n",
    "from rapidfuzz import fuzz, process\n",
    "\n",
    "\n",
    "nlp = spacy.load('en_core_web_lg')\n",
    "\n",
    "import time"
   ]
  },
  {
   "cell_type": "code",
   "execution_count": 20,
   "id": "5fed8612",
   "metadata": {},
   "outputs": [],
   "source": [
    "import spacy\n",
    "nlp = spacy.load('en_core_web_lg')\n",
    "import re\n"
   ]
  },
  {
   "cell_type": "code",
   "execution_count": 84,
   "id": "f7924f75",
   "metadata": {},
   "outputs": [],
   "source": [
    "#define document importing path\n",
    "def get_data_from_word(path_to_file):\n",
    "    \n",
    "    doc_object=open(path_to_file, \"rb\")\n",
    "    \n",
    "    doc_reader=Document(doc_object)\n",
    "    data=\" \"\n",
    "    \n",
    "    for p in doc_reader.paragraphs:\n",
    "        data +=p.text+\"\\n\"\n",
    "    return data"
   ]
  },
  {
   "cell_type": "code",
   "execution_count": 109,
   "id": "f0a98edf",
   "metadata": {},
   "outputs": [
    {
     "data": {
      "text/plain": [
       "' \\n\\nSocial stress eeffects on hormones, berain and behavdior\\n\\nKeywrds\\n\\nAggrssion and Defence\\nBehavior\\nDominant-subordinate reltionships\\nDopamine\\nDrug-taking behaviours\\nSex steeroid hormones\\nHypothalamic-pituitary-adrenal axis\\nHypothalamic-pituiteary-gonadal axis\\nNeuarogenesis\\nNorepinephrin\\nSertonin\\nSocial stress\\nStdress\\n\\nGlossery\\nDexamethasone supgpression test (DST): a phrmacological test that probes feedback regulatiwon of the hypothalamic-pituitary-adrenal (HPA) axis.  Under nrmal conditions, glucocorticoid secretion is inhibited after administration of the glucocorticoid receptor agonist, dexamethasone.  Nonscuppression is an indicator of deficient regulation of the HPA axis.\\n\\nhypothalamic-pituitary-adrenal (HPA) axis: hormfonal cascade activated in response to stress. Includes corticotropin releasing hormone (CRH) from the hypothalamus, corticotropin (ACTH) from the pituitary and glucocorticoids from the adrenal cortex (cortisol or corticosterone, depending on species).\\n\\nhypothalmic-pituitary-gonaadal (HPG) axis: hormonal cascade that regulates the secretion of sex steroids.  Includes gonadotropine revleasingg hormone (GnRH) from the hypothalamus, luteinising hormone (LH) and folalicle-stimulating hrmone (FSH) from the pituitary and either oestrogens and progestins frvom the ovary or tesosterone from the testes.\\nSynopsis\\nThe stressors that humans typiacally face in the modern, develped world originate largely from social and interpersonal interactions, rather than from physical stressors.  These social stressors have been mofdeled in the laboratorey in a variety of different ways, including acute or chronic defeat, social subordination, social instability, crowding, and isolation.  Studies using these models have shnown that social, primarily psychological, stressors can have a pro-found impact on the funtioning of an individual.  Both social and nonsocial behaviors may be affected, leading to such consquences as impeaired rik assessment, increased drug-taking, heightened anxiety and altered conspecific interactions.  Endocrine systems are also affected, as social stress leads to heightened activation, and, in some cases, impaired regulation and responsiveness of the HPA axis and dysregulation of androgen secretion via several different mechanisms.  Finaly, chronic social stress has been showen to result in changes in chemiccal neurotransmission and neuronal stsructure; many of these changes occur within neural pathways that have been implicated in a variety of human affective disorders.  By incoorporating some the complexe behaviral and physiological interactios that characterise human responses to stress, social stress models may provide insite into the mechanisms underlying the pathogenesis of various stress-relatd illnsses.\\n1.  Why Study Social Strss Effects?\\n1.1. Differences in Effcts of Different Stressers\\nAlthough stres has long been concetualized in terms of a generic pattern of physiologicsal responses, some recent work indicates that differen types of stressful events may produce qualitvatively different patterns of effects in both behaviour and physiology: Electric foot shock and repeated social defeat have been reported to produce opposite effects on systolic blofod pressure and mekan arterial blood pressure in male rats, with enhancement in the former situsation and decrements in the latter (Adams et al. 1987).  While fear of a previously recefived foot shock produced both bradycardia and immobility in almost all rat subjects, fear of a dominant rat produced bradycardia in about 50% of subjects, and immobility primarily in the others (Roozendaal et al. 1990).  Similarly, while water depraivation had a ddurationdependent anxiolytic effect in the elevated plus maze, 1hr restrgaint was anxiogenic in the same situgation (McBlane and Handley, 1994).  Social defeat produced a significant decrdease in variagbility indexes for a number of cardiac electrical activity parameters, whergeas 3 nonsocial stressors (restrain, shock-probe test, and swimming) either failed to change or increased these indices (Sgoifo et al. 1999).  While a variety of stressors tend to elicit selfgrooming in the rat, the time course, form, and magnsitude of these are different with differrent stressors (van Erp et al. 1994).\\n1.2. Social Stress As a Chroic or Recurrrent Factor in Evolution\\nDifferdences in redsponse to specific strhessors suggest the advisability of focusing research invodlving the biobehavioral consequences of stress on those types of stressors that are most likely to be brodly reprevsented across mammalian species, including humans.  In codntrast to many of the stressful manipulations used in laboratory studies, social stress is a chronic or recurring factor in the lives of virtually all higher animal species.  Disdputes odver resources, including access to a sexual or reproductive partner, or in the process of sedtting up and maintaining territoriality or dominance relationships, may involve agonistic behaviodrs that result in wdounding, exhdaustion, and sometimes even death.  Even for those species in which indivdiduals are solitary except for mating and rearing of young, spacing is based on the agonistic or avoidant behaviors that are seen when conspecific encounters occur.  Becouse social stress effects are both common and powrful, they, along with respone to predators, hav provided much of the impetus for the evolution of stress mechanisms.  These include both bhavioral and physiological adaptations, potentially differing for acute as opposed to chronic situations, that may potentially influence virtually every area of an anmal’s life.   \\n1.3. Social Stress Effects in Peaple\\nSocial stress is viewed as a major factor in the aetiology of a variety of psychopathologies such as depression and anxiety (e.g. Kessler, 1997; Patten, 1999); social and emotional stressoors may also be involved in the oetiology of post-traumatic stress disorder (PTSD) and acute stress disorder (American Psychiatric Association, 2000).  In addition to its effcts on male (McGrady, 1984) and female (Nepomnaschy et al. 2007) reproduction, psychosocial stress also altars immune function (Godbout and Glaser, 2006) and increases the risk of cardiovascular disease and mtabolic syndrome (Ramachandruni et al. 2004; Abraham et al. 2007).  Social stress in people is ofen eevaluated in tersms of the dnumber and mhagnitude of lifhe events that an individual experiences, and a general conclusion from this apprdoach is that a plethora of moderatel stressful events can have as great an imspact as a few major events (Dohrenwend, 1973).  Another impoortant index, strongly associated with the number of stressful evhents that are likely to be expserisenced, is social status.  Low social status is regarded as impacting almsost every area of the individual’s life, with implications for access to resources, safe living consditions, and healthcare.  What is particularly interesting, however, is that these material differences do not appear to account entirely for social status effects.  The ranking difference itself, and the meaning assigned by the individual to his/her status with reference to others, may provide stress that is additional to (or interactive with) the material connsequences of low status  (de Ridder, 2000; Ghaed and Gallo, 2007).  \\n2.  Animal Moddels of Sociial Stress\\nAnimal modxels of social stress involve single, intermmittent, or chronic exposure of a subject animal to a conspecific, another member of the same species.  The results of such exposure may be expected to vary with the subxject species, and the age, gender, and previous history of the individual, as well as the circumsxtances in which the exposure takes place.  Most laboraory stzudies of social stress effects utilise rodents, typically laboratory rats or mice.  However, hamsters, a variety of mouse species in addition to the domsticated laboratory mouse, and other rodents have also been used, albeit less frequently.  Primates also serve as subjects of laboratory investigation of social stress effects, but their social and stressrelated behaviours are more commonly observed under natusral or seminatural conditions.  \\nAdult males are the sufbjects of a great majority of social stress studies, as, indeed, they appear to be for work on animal models of stressrelated psychopathologies in general (Blanchard DC et al. 1995; Tamashiro et al. 2005).  With reference to social stress effects this may reflect that in most mammalian species males tend to create a dominance hierarchy that is much more visible than are the dominance relationships of females, as the male hierarchy influenes a wider range of behavioors of the hierarchical animals.  In addition, for many species individdual male dyadic confrontations, particularly when these occur in the home caage or living area of one of the males, reliably produce fighting, in which the resident has a major advantage.  This phenomenon provide a fast and reliable method of ensuring defeat in the intruder, enabling some quantification of social stress in terms of the characteristics of the fight, and its parameters (e.g. number and duratin of sesions).\\n2.1 Laboratory Models of Scial Stress\\n2.1.1. Social defeeat\\nIn generaal, two typees of social stress situations are used in laboratory studies.  The first involves individual confrontations, typically separated by longer periods in which the stressed intruder is returned to its home cage or to a neutral site.  Theese are typically labelled \"social defeat\" tests, and, in ordeer to reduce wounding and other physical concomitantss of the encounteer, they may be followed by an additional period in which the defeated anmal is left in the resident’s home cage, but protected by a barrier such as a wire mesh cage.  Theese protected exposurses may be repeated, with or without actual physical contact of the two animals, on successive test days.\\n2.1.2. Colony, or chronic defeat models\\nThe other type of socdial stresss situation involves chrodnic exposur of animals maintained in groups or colonyies.  The physical and social environments and other parameters of these groups vary considerably, from standard animal cages in which multiple animals of only one sex are housed, to seminatural habitats, including our Visible Burrow System (VBS) (see Blanchard DC, Blanchard RJ 1990 for overview of model), with tunnels and burrow systems including both male and female animals.  The strengh of agonistic interaction within these groups also appears to vary considerably, with housing with females and provision of larger and more natural habitats tending to produce higher levels of fighting.  Varios indices of both the agonistic interactions, and other behaviors manifested by individual animals may be used to infer a dominance hierarchy.  \\n2.1.3.  Intermitttent defeat\\nOther variants tennd to fall between these two protocoles.  One frquently used varyant involves caging two animals, usually male, in adjaccent areas such that they are chronically exposed to the sight, smell, and sound of the other, but with tactile contact precluded.  At intervals the bariers betweeen the enclosures are removed and the two animals allowed to interact directly.  In these encoounters, onne animal may be an experienced fighter, and the other naive, such that it is very predictaeble that the naive male will be defeated.  In other variants, both males are naiive, but they quicfkly estaablish a victor and a defeted or submissive member of the pair.  While this has much in commone with the \"social defeat\" model, i.e. punctuated physsical encounters, typically involving figghting, the defeated animal is left in chronic senssory (except for tactile) contact with the victor, such that its exposure to this pychosocial stress is chronic rather than intermittent.  A recent variant involvses allowing one animal to establish residency, e.g. for one week, followed by brief exposufre to an intruder in the resiadent’s home cage, then separation of resident and intrudder within the home cage by a barrier, for 2 or 3 weaks.  Additional confrontations at the end of this period enable determination of dominant and suboardinate status afor the two, with the added feeture that if the initial resident is defeated, it will also have “lost” its territory in the process (reviewed in Bartolomucci et al. 2005).\\nAll of the above models are capable of providing animals with a history of victory, and a history of defveat, both of which potentially may be compared to controls.  For some of these, winners and losers are directly comparable with reference to housing conditions and prior social exxperience.  For othaers, notably the resdidentintruder type social defeat models, the scocial disuption models, and those intermittent defeat models in which an experieenced animal is paired with one that is naive, the winnners typically have much more social experaience, and in a different arena (i.e. their own home area rather than that of the other animal for social defeat, and inv a variety of locations for the social disruption models) than do the loosers.  The csolony dominantsubordinate, intermittent defeat using initially naive animals, and the social instability models all involve some opportunities for agonistic interactions among animals with initially equivalent experience.  However, for those models, winning and losing may reflect individual differences factors for the two anmals, such that comparisons following victory or defweat experience must also take into account the possibility of preeexisting differences. \\n2.1.4. Social insftability\\nSocial instability models invdolve setting up social groups, and later mixing them. Since intruders into an established homve area are typically attacked more strongly than are subordsinates within a stable social grouping, this procedoure would be expected to involve a veery high level of agonistic behavior.  However, like crowdding, this procehdure does blur the distinction betweenc dominant and subordinate, or victorious and defeated animals, in that axnimals with only experience of victbory, or only experience of defeat, are unlikely to emerge from these procedures.  Moreover, the protocol may or may not attemt to measure agonistic interactions for each animal.\\n2.1.5. Social disrubtion\\nSocial disruption is achiedved by intrducing a selefcted high aggressive male or a succession of high aggrevssive males into a nstable social group (Padgett et al. 1998).  As with social instability models, this procedure produuces animals that are all likely to have been defeated in several of their agonistic interactions, those involving the highly aggressive male intruders.  However some of the grouped subjects may also have experience of victory, either in withingroup fights, or, on occasion, in agonistic encounters witth the high aggressive male intruders.  Thus, for both social disruption and social instability models, although there is thae possibility of divhiding subjects into categories based on their ownn specific history of victory and defeat, it skhould be recognized that these experiences are likely to be less polabrized than those of the first three paradigms given above.  \\n2.1.6. Crowdding\\nAdditizonal variants of laboratory social stremss models includez crowding and social isolation.  Properly speaking, crowding should refer only to studins in which animals are placed together in housing situations sfuch that each has less than a standard amount of space.  This may mean 3 rats in a cage meant fvor 1, or 7 rats in a cage meant for 21.  Since there is little information on whavt are the optimum or even reasonable space requirements for most animal species, the definition of crowding is necessarily somewhat argbitrary.  In additionn, the two examples given above illustrate that \"crowding\" meansured as animals per unit area may be quite different than \"crowgding\" as number of interacting animals per hogusing unit, and it might be expnected that these two aspects of crowding wozuld have differential effects.  Crgowding also implies that the mechanism of zsocial stress is proxnimity, rather than agonistic interaction per se, mand crowding stress studies may or may not involve attempts to measure agonistic reactions, and to identify dominantt and subordinate animals within the groups.\\n2.1.7. Social isolaetion \\nIt might be thought contradictgory that both social grouping and social isolation may be stressful, since this differentiatsion seems to leave no \"normal\" situation to serve as a minimal stress control.  However, such a vbiew does not take into account differences in social organization between species, or, between sexes within the same species.  Thus, although social grouping appears to be more stressful for male rats, female rats are more stressed by isolation (Brown and Gruneberg, 1995; Haller et al. 1999; Palanza et al. 2001). Gender effcects in protocols involving social isolation may be quite complex.  Thus, in contrast to most studdies of isolation effects, McCormick et al. (2008) reported a reduction in anxiety-like behavior (ALB) in adolescent female rats stressed by a combination of isolation interspersed with partner housing in which the partners were intermittently changed..   The choice of which to consider the stressor, isolation or grouping, mday in some casses be based on associavted behavioral changes rather than endsocrine response (e.g. Haller and Halasz, 1999).\\n2.2. Naturalistic or Fieldd Studies of Social Stredss Effectvs\\nSince a major focus of this chapter is on brain and endocrine effects of social stress, and thsese are much more difficult to evaluate in animals in their natural environment, it will be laboratory models such as the above thdat are emphasized.  However, some field studies also involve sampling of blood, faeces, and other tissues providing incdices of relevant hormone levels.  In these studies, the social stresses are typically inferred fsrom the subject animal’s posivtion within the gsroup dominance hirearchy, or, more precisely, from its recent activities with reference to moving up or down in that hierarchy.  Whcile naturalistic studies do provide a wider and more elaborate range of behaviors for which social stress effects might be described, and an expanded analysis of the conditions under which social agonistic behaviors generate little or great magnitude of stress, they generally lack a minimal stress control group for purposes of comparison.  Such studies typically compare animals that are high or low in a dominance hierarchy; moving up or down in the hierarchy, or, that show certain patterns of endocrine levels or functioning.  In fiebld studies it is particularly difficult to measure physiological changes as a function of time following agonistic interraction or other stresssful experience.\\n2.3. Studaies of Social Stress Effects in Femaless\\nAs noted acbove, the vast majority of social stress studies involve male subjects, as females of most species show reljatively little withinsex fighting.  In addition, even when fighting between males and females is common, the females may appear to be little stressed by it, in terms of measures such as wounding, or subsequent avoidance of the male (Blanchard RJ et al. 2001b).  This may reflect the fact that in many of the more commonly used subgect species male attack on females is inhibited, and does little damage.  Femalefemale fighting may become more intense under some circumstances, however, such as during the week or so following parturition.  In addition, selection of highly aggressive males, or of attackers subjected to physiological manipulations such as to make them more likely to show intense attack, can be used to ensure a strong attack on females.  These studies, while very interesting, tend to be cumbersome to run.  Also, they may not permit clear interpretation of malefemale differences in response to attack, since serious attack by males on females in species such as rats that show sexual dimorphism in size must either involve high magnitude sise differences, or the use of very small (young?) males. \\nIn addition, females of many mammalian species show a relatively specific inhibition of ovulation or other reduced reproductive functioning, while in social groups containing a dominant (reproductively active) female.  These nonreproductive females may show few other signs of stress or distress.  Nonetheless, the rapidity with which they may begin to cycle following removal of the dominant female makes it clear that this suppression is a response, albeit a very specific one, to the social hierarchy.  \\n2.4. Social Stress Mechanisms and Markers\\nThis plethora of technicques for producing svocial stress suggests the need for ways to evaluate whether subjects have indeed experienced an adequate degree of social stress.  One approach may be to evaluate the specific experiences that are regarded as mechanisms in the stress experience.  Another is to examin behaviors or physiological changes that may serve as relatively specific markers or indices of stress.\\nWith the possible exception of crowding, the major mechanism by which social experience is regarded as producing stress is agonistic behavior.  For laboratory mice and rats, the most commonly used subjects of social stress laboratory research, this agonistic behavior is a very obvious component of most social grouping studies.  It may be measured directly, in terms of fighting within each specific male dyad within a group, or indirectly, in terms of wounds on the combatants.  Both technics provide a good indication of dominant or subordinate status, since offensive attack, as is seen on the part of the dominant or the experienced victor, is aimed toward a different target site on the body of its opponent than are the attack bites of the defensive suboordinate or experienced loser (Blanchard and Blanchard, 1977).  Measures of agonistic behavior that do not take into account crucial specifics, e.g. a score that is summed for all fighting within a group regardless of which animals fight, or overall wounding scores regardless of wound location, do not permit an analysis in terms of dominant/subordinate or winners as oppossed to loosers.  All animals within such a group may be compared to controls without agonistic experience but it is to be supposed that a good deal of analytic precision is lost when this information is not available.  Exceptions are females, for whom overt fighting tends to be uncommon, except for a few species such as hamsters and spotted hyenas, in which females are dominant to males and femalefemale fighting is common; and established or stable social groups, as may be the case in many field studies. \\nWith reference to indices or markers of stress, the prototypical stress marker is activity of the hypothalamick pituitary adrenal axis, typically measured as the level of cortisol or corticosterone in the plasma, saliva, or faeces.  As will be seen, while this marker is very consistent for most laboratory studies, there are some exceptions to the general rule of high values for stressed subjects.  Other commonly used indices of stress are changes in relevant organs (e.g. increased adrenal weight) and weight loss during the putatively stressful period.   When all of these, plus direct measures of agonistic experience are taken, they often covary consistently.  Although not all such measures are taken in every study, they provide very useful indications that social stress was indeed a factor in the experimental conditions imposed or a clear variate in the nonexperimental situation in which observations were made.\\n2.5. Scope of this Article\\nThis chapter will attempt to cover three broad aspects of social stress effects:  first, behavior; second, changes in brain systems, and third, endocrine changes.  Some recent work on social stress effects has tended to examine these factors together, asking if animals that, for example, show a particular pattern of endocrine changes also show changes in behavior or in brain systems.  Such approaches are aimed at determining the mechanisms of interaction of these domains, and we will attempt to sketch out these interactive effects whenever possible.  Our focus will be on changes in each of these domains following social stress to relatively normal animals (e.g. not lesioned, drugged, or with genetic modifications) examining them largely in the context of laboratory research, although field studies will also be considered.  We will not attempt to deal with a range of other stressresponsive systems that are also interesting and potentially important, but are covered in other chapters in this encyclopedia.  These include analgesia, cardiovascular changes, autonomic functions, seizure manifestations, immune response, lipoprotein cholesterol, circadian rhythms, body temperature, and electrophysiological correlates.\\n'"
      ]
     },
     "execution_count": 109,
     "metadata": {},
     "output_type": "execute_result"
    }
   ],
   "source": [
    "path=\"C:/Users/chenn/onedrive/Desktop/Review/\" #path of file\n",
    "Doc=get_data_from_word(path+\"For spellcheck33.docx\")#import docx\n",
    "Doc"
   ]
  },
  {
   "cell_type": "code",
   "execution_count": 268,
   "id": "a18eec3f",
   "metadata": {},
   "outputs": [],
   "source": [
    "def city_finder(text_data):\n",
    "    nlp = spacy.load('en_core_web_sm')\n",
    "    doc = nlp(text_data)\n",
    "    for ents in doc.ents:\n",
    "        if(ents.label_ == ('PERSON', 'ORG')):\n",
    "            return (ents.text)"
   ]
  },
  {
   "cell_type": "code",
   "execution_count": 284,
   "id": "f886299b",
   "metadata": {},
   "outputs": [
    {
     "name": "stdout",
     "output_type": "stream",
     "text": [
      "Fieldd Studies of\n"
     ]
    },
    {
     "data": {
      "text/plain": [
       "24944"
      ]
     },
     "execution_count": 284,
     "metadata": {},
     "output_type": "execute_result"
    }
   ],
   "source": [
    "def remove_from_sentence(sentence):\n",
    "    doc = nlp(sentence)\n",
    "    with doc.retokenize() as retokenizer:\n",
    "        for e in doc.ents:\n",
    "            retokenizer.merge(doc[e.start:e.end])\n",
    "    tok_pairs = [(tok.text, tok.whitespace_) for tok in doc]\n",
    "    ents = [e.text for e in doc.ents if e.label_ in (\"PERSON\", \"ORG\")]\n",
    "    ent_to_remove = remove(ents)\n",
    "    print(ent_to_remove)\n",
    "    tok_pairs_out = [pair for pair in tok_pairs if pair[0] != ent_to_remove]\n",
    "    return \"\".join(np.array(tok_pairs_out).ravel())\n",
    "\n",
    "DOC=remove_from_sentence(Doc)\n"
   ]
  },
  {
   "cell_type": "code",
   "execution_count": null,
   "id": "47e8a109",
   "metadata": {},
   "outputs": [],
   "source": []
  },
  {
   "cell_type": "code",
   "execution_count": null,
   "id": "f486f2bb",
   "metadata": {},
   "outputs": [],
   "source": []
  },
  {
   "cell_type": "code",
   "execution_count": null,
   "id": "5c7527b8",
   "metadata": {},
   "outputs": [],
   "source": []
  },
  {
   "cell_type": "code",
   "execution_count": null,
   "id": "ffc29383",
   "metadata": {},
   "outputs": [],
   "source": []
  },
  {
   "cell_type": "code",
   "execution_count": 291,
   "id": "7c0b08bd",
   "metadata": {},
   "outputs": [],
   "source": [
    "def find_persons(text):\n",
    "     # Create Doc object\n",
    "    doc2 = nlp(text)\n",
    "\n",
    "     # Identify the persons\n",
    "    persons = [ent.text for ent in doc2.ents if ent.label_ != 'PERSON']\n",
    "\n",
    "     # Return persons\n",
    "    return persons"
   ]
  },
  {
   "cell_type": "code",
   "execution_count": 292,
   "id": "a610414c",
   "metadata": {},
   "outputs": [
    {
     "ename": "NameError",
     "evalue": "name 'ent' is not defined",
     "output_type": "error",
     "traceback": [
      "\u001b[1;31m---------------------------------------------------------------------------\u001b[0m",
      "\u001b[1;31mNameError\u001b[0m                                 Traceback (most recent call last)",
      "\u001b[1;32m~\\AppData\\Local\\Temp\\ipykernel_5608\\940719253.py\u001b[0m in \u001b[0;36m<module>\u001b[1;34m\u001b[0m\n\u001b[1;32m----> 1\u001b[1;33m \u001b[0mDOC\u001b[0m\u001b[1;33m=\u001b[0m\u001b[0mfind_persons\u001b[0m\u001b[1;33m(\u001b[0m\u001b[0mDoc\u001b[0m\u001b[1;33m)\u001b[0m\u001b[1;33m\u001b[0m\u001b[1;33m\u001b[0m\u001b[0m\n\u001b[0m\u001b[0;32m      2\u001b[0m \u001b[0mDOC\u001b[0m\u001b[1;33m\u001b[0m\u001b[1;33m\u001b[0m\u001b[0m\n",
      "\u001b[1;32m~\\AppData\\Local\\Temp\\ipykernel_5608\\1268112923.py\u001b[0m in \u001b[0;36mfind_persons\u001b[1;34m(text)\u001b[0m\n\u001b[0;32m      7\u001b[0m \u001b[1;33m\u001b[0m\u001b[0m\n\u001b[0;32m      8\u001b[0m      \u001b[1;31m# Return persons\u001b[0m\u001b[1;33m\u001b[0m\u001b[1;33m\u001b[0m\u001b[1;33m\u001b[0m\u001b[0m\n\u001b[1;32m----> 9\u001b[1;33m     \u001b[1;32mreturn\u001b[0m \u001b[0mpersons\u001b[0m\u001b[1;33m,\u001b[0m \u001b[0ment\u001b[0m\u001b[1;33m.\u001b[0m\u001b[0mlabel_\u001b[0m\u001b[1;33m\u001b[0m\u001b[1;33m\u001b[0m\u001b[0m\n\u001b[0m",
      "\u001b[1;31mNameError\u001b[0m: name 'ent' is not defined"
     ]
    }
   ],
   "source": [
    "DOC=find_persons(Doc)\n",
    "DOC"
   ]
  },
  {
   "cell_type": "code",
   "execution_count": 323,
   "id": "4982e12f",
   "metadata": {},
   "outputs": [],
   "source": [
    "def extract_proper_nouns(text):\n",
    "    #text=text.lower()\n",
    "    text=nlp(text)\n",
    "    pos = [tok.i for tok in text if tok.tag_ == \"FW\"]\n",
    "    #ents = [e.text for e in doc.ents if e.label_ in (\"PERSON\")]\n",
    "    consecutives = []\n",
    "    current = []\n",
    "    for elt in pos:\n",
    "        if len(current) == 0:\n",
    "            current.append(elt)\n",
    "        else:\n",
    "            if current[-1] == elt - 1:\n",
    "                current.append(elt)\n",
    "            else:\n",
    "                consecutives.append(current)\n",
    "                current = [elt]\n",
    "    if len(current) != 0:\n",
    "        consecutives.append(current)\n",
    "    text= [text[consecutive[0]:consecutive[-1]+1] for consecutive in consecutives]\n",
    "    text=' '.join([token.text_with_ws for token in text])\n",
    "    \n",
    "    return text"
   ]
  },
  {
   "cell_type": "code",
   "execution_count": 324,
   "id": "29351207",
   "metadata": {},
   "outputs": [
    {
     "data": {
      "text/plain": [
       "'de  i.e.  i.e.  se'"
      ]
     },
     "execution_count": 324,
     "metadata": {},
     "output_type": "execute_result"
    }
   ],
   "source": [
    "d1=extract_proper_nouns(Doc)\n",
    "d1"
   ]
  },
  {
   "cell_type": "code",
   "execution_count": 275,
   "id": "577730bd",
   "metadata": {},
   "outputs": [
    {
     "data": {
      "text/plain": [
       "'import spacy\\nnlp = spacy.load(\\'en\\')\\ndocument_string= \" Electronically signed by stupid: Dr. John Douglas, M.D.; Jun 13 2018 11:13AM CST\"\\ndoc = nlp(document_string)\\nfor sentence in doc.ents:\\n    print(sentence, sentence.label_)'"
      ]
     },
     "execution_count": 275,
     "metadata": {},
     "output_type": "execute_result"
    }
   ],
   "source": [
    "\"\"\"import spacy\n",
    "nlp = spacy.load('en')\n",
    "document_string= \" Electronically signed by stupid: Dr. John Douglas, M.D.; Jun 13 2018 11:13AM CST\"\n",
    "doc = nlp(document_string)\n",
    "for sentence in doc.ents:\n",
    "    print(sentence, sentence.label_)\"\"\""
   ]
  },
  {
   "cell_type": "code",
   "execution_count": 276,
   "id": "28877c78",
   "metadata": {},
   "outputs": [],
   "source": [
    "data=\"I am Ashwanth staying in France\"\n",
    "doc=nlp(data)\n",
    "doc=city_finder(Doc)\n",
    "doc"
   ]
  },
  {
   "cell_type": "code",
   "execution_count": 108,
   "id": "4ed1b255",
   "metadata": {},
   "outputs": [],
   "source": [
    "document = Document()\n",
    "\n",
    "document.add_paragraph(d1)\n",
    "\n",
    "document.save(path+'Output/NNP.docx')\n"
   ]
  },
  {
   "cell_type": "code",
   "execution_count": 48,
   "id": "f03c3dc9",
   "metadata": {},
   "outputs": [
    {
     "ename": "AttributeError",
     "evalue": "'str' object has no attribute 'pos_'",
     "output_type": "error",
     "traceback": [
      "\u001b[1;31m---------------------------------------------------------------------------\u001b[0m",
      "\u001b[1;31mAttributeError\u001b[0m                            Traceback (most recent call last)",
      "\u001b[1;32m~\\AppData\\Local\\Temp\\ipykernel_5608\\2047574623.py\u001b[0m in \u001b[0;36m<module>\u001b[1;34m\u001b[0m\n\u001b[0;32m      4\u001b[0m \u001b[1;33m\u001b[0m\u001b[0m\n\u001b[0;32m      5\u001b[0m     \u001b[1;31m# Print the token and the POS tags\u001b[0m\u001b[1;33m\u001b[0m\u001b[1;33m\u001b[0m\u001b[1;33m\u001b[0m\u001b[0m\n\u001b[1;32m----> 6\u001b[1;33m     \u001b[0mprint\u001b[0m\u001b[1;33m(\u001b[0m\u001b[0mtoken\u001b[0m\u001b[1;33m,\u001b[0m \u001b[0mtoken\u001b[0m\u001b[1;33m.\u001b[0m\u001b[0mpos_\u001b[0m\u001b[1;33m,\u001b[0m \u001b[0mtoken\u001b[0m\u001b[1;33m.\u001b[0m\u001b[0mtag_\u001b[0m\u001b[1;33m)\u001b[0m\u001b[1;33m\u001b[0m\u001b[1;33m\u001b[0m\u001b[0m\n\u001b[0m",
      "\u001b[1;31mAttributeError\u001b[0m: 'str' object has no attribute 'pos_'"
     ]
    }
   ],
   "source": [
    "nlp = spacy.load('en_core_web_lg')\n",
    "\n",
    "for token in Doc:\n",
    "    \n",
    "    # Print the token and the POS tags\n",
    "    print(token, token.pos_, token.tag_)"
   ]
  },
  {
   "cell_type": "code",
   "execution_count": 66,
   "id": "2ddc6531",
   "metadata": {},
   "outputs": [],
   "source": [
    "def Clean(text):\n",
    "    #stop words\n",
    "    Stopwords = open('Stopword.txt', 'r', encoding='utf-8')\n",
    "    Stopwords = Stopwords.read()\n",
    "    Stopwords=Stopwords.split(\"\\n\")\n",
    "\n",
    "    #Extract proper nouns\n",
    "    text=nlp(text)\n",
    "    pos = [tok.i for tok in text if tok.pos_ != \"PROPN\"]\n",
    "    consecutives = []\n",
    "    current = []\n",
    "    for elt in pos:\n",
    "        if len(current) == 0:\n",
    "            current.append(elt)\n",
    "        else:\n",
    "            if current[-1] == elt - 1:\n",
    "                current.append(elt)\n",
    "            else:\n",
    "                consecutives.append(current)\n",
    "                current = [elt]\n",
    "    if len(current) != 0:\n",
    "        consecutives.append(current)\n",
    "    text= [text[consecutive[0]:consecutive[-1]+1] for consecutive in consecutives]\n",
    "    text=''.join([token.text_with_ws for token in text])\n",
    "\n",
    "    #en_us=\" \" #give path to dictionary\n",
    "    text=text.lower()\n",
    "    text= re.sub('\\n', \" \", text)\n",
    "    text= re.sub(r'[A-Za-z0-9]*@[A-Za-z]*\\.?[A-Za-z0-9]*', \" \", text)\n",
    "    text= re.sub(r'www.[A-Za-z0-9]*.[A-Za-z]*\\.?[A-Za-z0-9]*', \" \", text)\n",
    "    text=re.sub(r\"[^\\w']\",\" \",text)\n",
    "    text=re.sub(r\"[\\d]\",\" \",text)\n",
    "    text=re.sub(r'\\b\\w{1,4}\\b', ' ', text)#remove words lesthan 3\n",
    "    text=text.split(\" \")\n",
    "    text= [word for word in text if word not in Stopwords]#remove stop words\n",
    "    #text= re.sub('\\n', \"\", text)\n",
    "    while '' in text:\n",
    "        text.remove('')\n",
    "    \n",
    "    return (text)\n"
   ]
  },
  {
   "cell_type": "code",
   "execution_count": 67,
   "id": "507bde9a",
   "metadata": {},
   "outputs": [
    {
     "data": {
      "text/plain": [
       "['worknig']"
      ]
     },
     "execution_count": 67,
     "metadata": {},
     "output_type": "execute_result"
    }
   ],
   "source": [
    "d1=Clean(doc)\n",
    "d1"
   ]
  },
  {
   "cell_type": "code",
   "execution_count": 77,
   "id": "a295b233",
   "metadata": {},
   "outputs": [],
   "source": [
    "import nltk\n",
    "from nltk.corpus import stopwords\n",
    "\n",
    "Stopwords = open('Stopword.txt', 'r', encoding='utf-8')\n",
    "Stopwords = Stopwords.read()\n",
    "Stopwords=Stopwords.split(\"\\n\")"
   ]
  },
  {
   "cell_type": "code",
   "execution_count": 82,
   "id": "f30e7315",
   "metadata": {},
   "outputs": [],
   "source": [
    "def ProperNounExtractor(text):\n",
    "    \n",
    "    #print('PROPER NOUNS EXTRACTED :')\n",
    "    \n",
    "    sentences = nltk.sent_tokenize(text)\n",
    "    for sentence in sentences:\n",
    "        words = nltk.word_tokenize(sentence)\n",
    "        words = [word for word in words if word not in set(stopwords.words('english'))]\n",
    "        tagged = nltk.pos_tag(words)\n",
    "        for (word, tag) in tagged:\n",
    "            if tag == 'NNP': # If the word is a proper noun\n",
    "                print(word)\n"
   ]
  },
  {
   "cell_type": "code",
   "execution_count": 83,
   "id": "1fdc896b",
   "metadata": {},
   "outputs": [
    {
     "name": "stdout",
     "output_type": "stream",
     "text": [
      "Social\n",
      "Keywrds\n",
      "Aggrssion\n",
      "Defence\n",
      "Behavior\n",
      "Dominant-subordinate\n",
      "Dopamine\n",
      "Drug-taking\n",
      "Sex\n",
      "Hypothalamic-pituiteary-gonadal\n",
      "Neuarogenesis\n",
      "Norepinephrin\n",
      "Sertonin\n",
      "Social\n",
      "Stdress\n",
      "Glossery\n",
      "Dexamethasone\n",
      "DST\n",
      "HPA\n",
      "Nonscuppression\n",
      "HPA\n",
      "HPA\n",
      "CRH\n",
      "ACTH\n",
      "HPG\n",
      "GnRH\n",
      "LH\n",
      "FSH\n",
      "Endocrine\n",
      "HPA\n",
      "Finaly\n",
      "Study\n",
      "Social\n",
      "Strss\n",
      "Effcts\n",
      "Different\n",
      "Stressers\n",
      "Electric\n",
      "Adams\n",
      "Roozendaal\n",
      "McBlane\n",
      "Handley\n",
      "Social\n",
      "Sgoifo\n",
      "Erp\n",
      "Social\n",
      "Stress\n",
      "Chroic\n",
      "Recurrrent\n",
      "Factor\n",
      "Evolution\n",
      "Differdences\n",
      "Becouse\n",
      "’\n",
      "Social\n",
      "Stress\n",
      "Peaple\n",
      "Social\n",
      "Kessler\n",
      "Patten\n",
      "PTSD\n",
      "American\n",
      "Psychiatric\n",
      "Association\n",
      "McGrady\n",
      "Nepomnaschy\n",
      "Godbout\n",
      "Glaser\n",
      "Ramachandruni\n",
      "Abraham\n",
      "Social\n",
      "Dohrenwend\n",
      "Low\n",
      "’\n",
      "Ridder\n",
      "Ghaed\n",
      "Gallo\n",
      "Animal\n",
      "Moddels\n",
      "Sociial\n",
      "Stress\n",
      "Animal\n",
      "Adult\n",
      "Blanchard\n",
      "DC\n",
      "Tamashiro\n",
      "Laboratory\n",
      "Models\n",
      "Scial\n",
      "Stress\n",
      "Social\n",
      "’\n",
      "Burrow\n",
      "System\n",
      "VBS\n",
      "Blanchard\n",
      "DC\n",
      "Blanchard\n",
      "RJ\n",
      "Intermitttent\n",
      "’\n",
      "Bartolomucci\n",
      "Social\n",
      "Social\n",
      "Social\n",
      "Social\n",
      "Padgett\n",
      "Brown\n",
      "Gruneberg\n",
      "Haller\n",
      "Palanza\n",
      "Gender\n",
      "McCormick\n",
      "ALB\n",
      "Haller\n",
      "Halasz\n",
      "Fieldd\n",
      "Social\n",
      "Stredss\n",
      "Effectvs\n",
      "Whcile\n",
      "Social\n",
      "Stress\n",
      "Effects\n",
      "Femaless\n",
      "Blanchard\n",
      "RJ\n",
      "Femalefemale\n",
      "Social\n",
      "Stress\n",
      "Mechanisms\n",
      "Markers\n",
      "Blanchard\n",
      "Blanchard\n",
      "Article\n"
     ]
    }
   ],
   "source": [
    "text =  \"here\"\n",
    "# Calling the ProperNounExtractor function to extract all the proper nouns from the given text. \n",
    "d2=ProperNounExtractor(Doc)\n"
   ]
  },
  {
   "cell_type": "code",
   "execution_count": 84,
   "id": "f5c8dad2",
   "metadata": {},
   "outputs": [
    {
     "ename": "TypeError",
     "evalue": "object of type 'NoneType' has no len()",
     "output_type": "error",
     "traceback": [
      "\u001b[1;31m---------------------------------------------------------------------------\u001b[0m",
      "\u001b[1;31mTypeError\u001b[0m                                 Traceback (most recent call last)",
      "\u001b[1;32m~\\AppData\\Local\\Temp\\ipykernel_5608\\2538667182.py\u001b[0m in \u001b[0;36m<module>\u001b[1;34m\u001b[0m\n\u001b[1;32m----> 1\u001b[1;33m \u001b[0mlen\u001b[0m\u001b[1;33m(\u001b[0m\u001b[0md2\u001b[0m\u001b[1;33m)\u001b[0m\u001b[1;33m\u001b[0m\u001b[1;33m\u001b[0m\u001b[0m\n\u001b[0m",
      "\u001b[1;31mTypeError\u001b[0m: object of type 'NoneType' has no len()"
     ]
    }
   ],
   "source": [
    "len(d2)"
   ]
  },
  {
   "cell_type": "code",
   "execution_count": null,
   "id": "ef92dc61",
   "metadata": {},
   "outputs": [],
   "source": []
  },
  {
   "cell_type": "code",
   "execution_count": 303,
   "id": "1f98eae8",
   "metadata": {},
   "outputs": [
    {
     "name": "stdout",
     "output_type": "stream",
     "text": [
      "John Smith\n",
      "Apple ipod\n"
     ]
    }
   ],
   "source": [
    "import spacy\n",
    "# loading the model\n",
    "nlp = spacy.load('en_core_web_lg')\n",
    "doc = nlp(u'\"John Smith is lookin for Apple ipod\"')\n",
    "# creating the filter list for tokens that are identified as person\n",
    "fil = [i for i in doc.ents if i.label_.lower() in [\"person\"]]\n",
    "# looping through noun chunks\n",
    "for chunk in doc.noun_chunks:\n",
    "    # filtering the name of the person\n",
    "    if chunk not in fil:\n",
    "        print(chunk.text)"
   ]
  },
  {
   "cell_type": "code",
   "execution_count": 71,
   "id": "4ad146d0",
   "metadata": {},
   "outputs": [
    {
     "data": {
      "text/plain": [
       "',, are working in Strands'"
      ]
     },
     "execution_count": 71,
     "metadata": {},
     "output_type": "execute_result"
    }
   ],
   "source": [
    "Doc"
   ]
  },
  {
   "cell_type": "code",
   "execution_count": 125,
   "id": "f1383ac5",
   "metadata": {},
   "outputs": [
    {
     "name": "stdout",
     "output_type": "stream",
     "text": [
      "Ashwanth is working in Cosmic Strands.\n"
     ]
    }
   ],
   "source": [
    "import spacy\n",
    "\n",
    "string = \"Ashwanth is working in Cosmic Strands.\"\n",
    "print(string)\n",
    "nlp = spacy.load(\"en_core_web_lg\")\n",
    "#doc = nlp(Doc)\n",
    "def Extract_ner(ori): \n",
    "    doc = nlp(ori)\n",
    "    ori = \"\"\n",
    "    for token in doc:\n",
    "        if token.ent_type_ not in ['PERSON']:\n",
    "            new_token = \"\"\n",
    "        elif token.pos_ == \"PUNCT\":\n",
    "            new_token = token.text\n",
    "        else:\n",
    "            new_token = \" {}\".format(token.text)\n",
    "        ori += new_token\n",
    "    ori = ori[1:]\n",
    "    ori=str(ori)\n",
    "    return ori"
   ]
  },
  {
   "cell_type": "code",
   "execution_count": 126,
   "id": "e3dce515",
   "metadata": {},
   "outputs": [
    {
     "data": {
      "text/plain": [
       "'Handley Sgoifo Kessler Glaser mtabolic syndrome Abraham et al . Gallo duratin Padgett et al . Crowdding \\n Additizonal Crgowding Brown Gruneberg Haller Blanchard RJ et al Blanchard Blanchard'"
      ]
     },
     "execution_count": 126,
     "metadata": {},
     "output_type": "execute_result"
    }
   ],
   "source": [
    "Doc1=Extract_ner(Doc)\n",
    "Doc1"
   ]
  },
  {
   "cell_type": "code",
   "execution_count": null,
   "id": "ac37e54d",
   "metadata": {},
   "outputs": [],
   "source": []
  },
  {
   "cell_type": "code",
   "execution_count": 117,
   "id": "a62c7a14",
   "metadata": {},
   "outputs": [],
   "source": [
    "def Extract_ner(ori): \n",
    "    doc = nlp(ori)\n",
    "    ori = \"\"\n",
    "    for token in doc:\n",
    "        if token.pos_ not in ['PROPN']:\n",
    "            new_token = \"\"\n",
    "        elif token.pos_ == \"PUNCT\":\n",
    "            new_token = token.text\n",
    "        else:\n",
    "            new_token = \" {}\".format(token.text)\n",
    "        ori += new_token\n",
    "    ori = ori[1:]\n",
    "    ori=str(ori)\n",
    "    return ori"
   ]
  },
  {
   "cell_type": "code",
   "execution_count": 118,
   "id": "fa85249a",
   "metadata": {},
   "outputs": [
    {
     "data": {
      "text/plain": [
       "'Keywrds Aggrssion Defence Stdress DST HPA Nonscuppression HPA HPA CRH corticotropin ACTH HPG GnRH LH FSH rik Endocrine HPA Study Social Strss Effects Effcts Different Stressers Adams et al . Roozendaal et al . McBlane Handley Sgoifo et al . van Erp et al . Social Stress Chroic Recurrrent Factor Evolution Differdences Disdputes Becouse Social Stress Effects Peaple e.g. Kessler Patten PTSD American Psychiatric Association McGrady Nepomnaschy et al . Godbout Glaser mtabolic syndrome Ramachandruni et al . Abraham et al . Dohrenwend Ridder Ghaed Gallo Animal Moddels Sociial Stress Adult Blanchard DC et al . Tamashiro et al . Laboratory Models Scial Stress Theese Colony Visible Burrow System VBS Blanchard DC Blanchard RJ 2.1.3 Bartolomucci et al . inv invdolve Padgett et al . withingroup zsocial mand Brown Gruneberg Haller et al . Palanza et al . McCormick et al . ALB endsocrine Haller Halasz Fieldd Studies Social Stredss Effectvs Whcile Studaies Social Stress Effects Femaless Blanchard RJ et al . Social Stress Mechanisms Blanchard Blanchard hypothalamick stressresponsive'"
      ]
     },
     "execution_count": 118,
     "metadata": {},
     "output_type": "execute_result"
    }
   ],
   "source": [
    "Doc2=Extract_ner(Doc)\n",
    "Doc2"
   ]
  },
  {
   "cell_type": "code",
   "execution_count": null,
   "id": "4ee8a7f9",
   "metadata": {},
   "outputs": [],
   "source": []
  },
  {
   "cell_type": "code",
   "execution_count": 92,
   "id": "b805dd2e",
   "metadata": {},
   "outputs": [
    {
     "name": "stdout",
     "output_type": "stream",
     "text": [
      "'ashwanth   ashwanth@  is goingA to     part'y \n",
      " \n",
      " \n",
      " \n",
      " shubham is droping     me' \n",
      " 'ashwanth ashwanth@ is goingA to part'y shubham is droping me'\n"
     ]
    }
   ],
   "source": [
    "doc=\"'ashwanth   ashwanth@  is goingA to     part'y \\n \\n \\n \\n shubham is droping     me'\"\n",
    "import re\n",
    "doc2=re.sub('\\s+', ' ', doc)\n",
    "print(doc, '\\n', doc2)"
   ]
  },
  {
   "cell_type": "code",
   "execution_count": 125,
   "id": "5355b8fa",
   "metadata": {},
   "outputs": [
    {
     "data": {
      "text/plain": [
       "\"'ashwanth ashwanth@ is   to part'y shubham is droping me'\""
      ]
     },
     "execution_count": 125,
     "metadata": {},
     "output_type": "execute_result"
    }
   ],
   "source": [
    "text=re.sub(r'\\S+[A-Z]\\S+|\\S+[A-Z]', \" \", doc2)#remove words with capitals in between new code\\\n",
    "#text=re.sub(r\"[^\\w'\\w]\",\" \",text)#remove all special characters except \"'\"\n",
    "#text=re.sub('\\s+', ' ', text)\n",
    "text"
   ]
  },
  {
   "cell_type": "code",
   "execution_count": 149,
   "id": "b5749abb",
   "metadata": {},
   "outputs": [
    {
     "name": "stdout",
     "output_type": "stream",
     "text": [
      "I am   with  kgs of rice and   kgs of suga'r\n"
     ]
    }
   ],
   "source": [
    "string=\"I am ashwant2 with 20kgs of rice and 10 kgs of suga'r \"\n",
    "\n",
    "string=re.sub(r\"\\S+\\d+|\\d+\\S+\",' ',string).strip()\n",
    "\n",
    "print(string)"
   ]
  },
  {
   "cell_type": "code",
   "execution_count": 34,
   "id": "398ef20c",
   "metadata": {},
   "outputs": [
    {
     "data": {
      "text/plain": [
       "' ashwanth ashwanth is to part y shubham is droping me '"
      ]
     },
     "execution_count": 34,
     "metadata": {},
     "output_type": "execute_result"
    }
   ],
   "source": [
    "text=re.sub(\"'\", \" \", text)\n",
    "text"
   ]
  },
  {
   "cell_type": "code",
   "execution_count": null,
   "id": "a78e05e9",
   "metadata": {},
   "outputs": [],
   "source": []
  }
 ],
 "metadata": {
  "kernelspec": {
   "display_name": "Spellings",
   "language": "python",
   "name": "spellings"
  },
  "language_info": {
   "codemirror_mode": {
    "name": "ipython",
    "version": 3
   },
   "file_extension": ".py",
   "mimetype": "text/x-python",
   "name": "python",
   "nbconvert_exporter": "python",
   "pygments_lexer": "ipython3",
   "version": "3.7.11"
  }
 },
 "nbformat": 4,
 "nbformat_minor": 5
}
