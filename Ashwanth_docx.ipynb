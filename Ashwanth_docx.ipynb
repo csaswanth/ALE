{
  "cells": [
    {
      "cell_type": "markdown",
      "metadata": {
        "id": "view-in-github",
        "colab_type": "text"
      },
      "source": [
        "<a href=\"https://colab.research.google.com/github/csaswanth/ALE/blob/main/Ashwanth_docx.ipynb\" target=\"_parent\"><img src=\"https://colab.research.google.com/assets/colab-badge.svg\" alt=\"Open In Colab\"/></a>"
      ]
    },
    {
      "cell_type": "code",
      "execution_count": 1,
      "metadata": {
        "colab": {
          "base_uri": "https://localhost:8080/"
        },
        "id": "kbSVKkyX7CBI",
        "outputId": "72beaa6a-286e-410f-deeb-8debe73dc0df"
      },
      "outputs": [
        {
          "output_type": "stream",
          "name": "stdout",
          "text": [
            "Mounted at /content/drive\n"
          ]
        }
      ],
      "source": [
        "from google.colab import drive\n",
        "drive.mount('/content/drive')"
      ]
    },
    {
      "cell_type": "code",
      "source": [
        "pip install python-docx"
      ],
      "metadata": {
        "colab": {
          "base_uri": "https://localhost:8080/"
        },
        "id": "qm4K2Mn29Ikc",
        "outputId": "738ba0e9-d291-4028-c102-77dada33c089"
      },
      "execution_count": 2,
      "outputs": [
        {
          "output_type": "stream",
          "name": "stdout",
          "text": [
            "Looking in indexes: https://pypi.org/simple, https://us-python.pkg.dev/colab-wheels/public/simple/\n",
            "Collecting python-docx\n",
            "  Downloading python-docx-0.8.11.tar.gz (5.6 MB)\n",
            "\u001b[K     |████████████████████████████████| 5.6 MB 4.1 MB/s \n",
            "\u001b[?25hRequirement already satisfied: lxml>=2.3.2 in /usr/local/lib/python3.7/dist-packages (from python-docx) (4.9.1)\n",
            "Building wheels for collected packages: python-docx\n",
            "  Building wheel for python-docx (setup.py) ... \u001b[?25l\u001b[?25hdone\n",
            "  Created wheel for python-docx: filename=python_docx-0.8.11-py3-none-any.whl size=184507 sha256=cfcdea34440670811ebd3ad833e03cb4d8b4c373fb59280e7c70c31a2419db3e\n",
            "  Stored in directory: /root/.cache/pip/wheels/f6/6f/b9/d798122a8b55b74ad30b5f52b01482169b445fbb84a11797a6\n",
            "Successfully built python-docx\n",
            "Installing collected packages: python-docx\n",
            "Successfully installed python-docx-0.8.11\n"
          ]
        }
      ]
    },
    {
      "cell_type": "code",
      "execution_count": 3,
      "metadata": {
        "colab": {
          "base_uri": "https://localhost:8080/"
        },
        "id": "eq2193lsH6hj",
        "outputId": "e608756d-f960-45ac-f991-268c40650e9c"
      },
      "outputs": [
        {
          "output_type": "stream",
          "name": "stdout",
          "text": [
            "Looking in indexes: https://pypi.org/simple, https://us-python.pkg.dev/colab-wheels/public/simple/\n",
            "Collecting transformers\n",
            "  Downloading transformers-4.23.1-py3-none-any.whl (5.3 MB)\n",
            "\u001b[K     |████████████████████████████████| 5.3 MB 4.3 MB/s \n",
            "\u001b[?25hCollecting datasets\n",
            "  Downloading datasets-2.6.1-py3-none-any.whl (441 kB)\n",
            "\u001b[K     |████████████████████████████████| 441 kB 72.2 MB/s \n",
            "\u001b[?25hRequirement already satisfied: tqdm>=4.27 in /usr/local/lib/python3.7/dist-packages (from transformers) (4.64.1)\n",
            "Requirement already satisfied: regex!=2019.12.17 in /usr/local/lib/python3.7/dist-packages (from transformers) (2022.6.2)\n",
            "Collecting tokenizers!=0.11.3,<0.14,>=0.11.1\n",
            "  Downloading tokenizers-0.13.1-cp37-cp37m-manylinux_2_17_x86_64.manylinux2014_x86_64.whl (7.6 MB)\n",
            "\u001b[K     |████████████████████████████████| 7.6 MB 46.3 MB/s \n",
            "\u001b[?25hRequirement already satisfied: numpy>=1.17 in /usr/local/lib/python3.7/dist-packages (from transformers) (1.21.6)\n",
            "Collecting huggingface-hub<1.0,>=0.10.0\n",
            "  Downloading huggingface_hub-0.10.1-py3-none-any.whl (163 kB)\n",
            "\u001b[K     |████████████████████████████████| 163 kB 71.0 MB/s \n",
            "\u001b[?25hRequirement already satisfied: requests in /usr/local/lib/python3.7/dist-packages (from transformers) (2.23.0)\n",
            "Requirement already satisfied: importlib-metadata in /usr/local/lib/python3.7/dist-packages (from transformers) (4.13.0)\n",
            "Requirement already satisfied: packaging>=20.0 in /usr/local/lib/python3.7/dist-packages (from transformers) (21.3)\n",
            "Requirement already satisfied: pyyaml>=5.1 in /usr/local/lib/python3.7/dist-packages (from transformers) (6.0)\n",
            "Requirement already satisfied: filelock in /usr/local/lib/python3.7/dist-packages (from transformers) (3.8.0)\n",
            "Requirement already satisfied: typing-extensions>=3.7.4.3 in /usr/local/lib/python3.7/dist-packages (from huggingface-hub<1.0,>=0.10.0->transformers) (4.1.1)\n",
            "Requirement already satisfied: pyparsing!=3.0.5,>=2.0.2 in /usr/local/lib/python3.7/dist-packages (from packaging>=20.0->transformers) (3.0.9)\n",
            "Requirement already satisfied: aiohttp in /usr/local/lib/python3.7/dist-packages (from datasets) (3.8.3)\n",
            "Requirement already satisfied: fsspec[http]>=2021.11.1 in /usr/local/lib/python3.7/dist-packages (from datasets) (2022.10.0)\n",
            "Requirement already satisfied: dill<0.3.6 in /usr/local/lib/python3.7/dist-packages (from datasets) (0.3.5.1)\n",
            "Collecting responses<0.19\n",
            "  Downloading responses-0.18.0-py3-none-any.whl (38 kB)\n",
            "Collecting multiprocess\n",
            "  Downloading multiprocess-0.70.14-py37-none-any.whl (115 kB)\n",
            "\u001b[K     |████████████████████████████████| 115 kB 72.5 MB/s \n",
            "\u001b[?25hRequirement already satisfied: pandas in /usr/local/lib/python3.7/dist-packages (from datasets) (1.3.5)\n",
            "Collecting xxhash\n",
            "  Downloading xxhash-3.1.0-cp37-cp37m-manylinux_2_17_x86_64.manylinux2014_x86_64.whl (212 kB)\n",
            "\u001b[K     |████████████████████████████████| 212 kB 60.4 MB/s \n",
            "\u001b[?25hRequirement already satisfied: pyarrow>=6.0.0 in /usr/local/lib/python3.7/dist-packages (from datasets) (6.0.1)\n",
            "Requirement already satisfied: multidict<7.0,>=4.5 in /usr/local/lib/python3.7/dist-packages (from aiohttp->datasets) (6.0.2)\n",
            "Requirement already satisfied: async-timeout<5.0,>=4.0.0a3 in /usr/local/lib/python3.7/dist-packages (from aiohttp->datasets) (4.0.2)\n",
            "Requirement already satisfied: charset-normalizer<3.0,>=2.0 in /usr/local/lib/python3.7/dist-packages (from aiohttp->datasets) (2.1.1)\n",
            "Requirement already satisfied: aiosignal>=1.1.2 in /usr/local/lib/python3.7/dist-packages (from aiohttp->datasets) (1.2.0)\n",
            "Requirement already satisfied: attrs>=17.3.0 in /usr/local/lib/python3.7/dist-packages (from aiohttp->datasets) (22.1.0)\n",
            "Requirement already satisfied: frozenlist>=1.1.1 in /usr/local/lib/python3.7/dist-packages (from aiohttp->datasets) (1.3.1)\n",
            "Requirement already satisfied: asynctest==0.13.0 in /usr/local/lib/python3.7/dist-packages (from aiohttp->datasets) (0.13.0)\n",
            "Requirement already satisfied: yarl<2.0,>=1.0 in /usr/local/lib/python3.7/dist-packages (from aiohttp->datasets) (1.8.1)\n",
            "Requirement already satisfied: urllib3!=1.25.0,!=1.25.1,<1.26,>=1.21.1 in /usr/local/lib/python3.7/dist-packages (from requests->transformers) (1.24.3)\n",
            "Requirement already satisfied: chardet<4,>=3.0.2 in /usr/local/lib/python3.7/dist-packages (from requests->transformers) (3.0.4)\n",
            "Requirement already satisfied: idna<3,>=2.5 in /usr/local/lib/python3.7/dist-packages (from requests->transformers) (2.10)\n",
            "Requirement already satisfied: certifi>=2017.4.17 in /usr/local/lib/python3.7/dist-packages (from requests->transformers) (2022.9.24)\n",
            "Collecting urllib3!=1.25.0,!=1.25.1,<1.26,>=1.21.1\n",
            "  Downloading urllib3-1.25.11-py2.py3-none-any.whl (127 kB)\n",
            "\u001b[K     |████████████████████████████████| 127 kB 65.1 MB/s \n",
            "\u001b[?25hRequirement already satisfied: zipp>=0.5 in /usr/local/lib/python3.7/dist-packages (from importlib-metadata->transformers) (3.9.0)\n",
            "Collecting multiprocess\n",
            "  Downloading multiprocess-0.70.13-py37-none-any.whl (115 kB)\n",
            "\u001b[K     |████████████████████████████████| 115 kB 75.1 MB/s \n",
            "\u001b[?25hRequirement already satisfied: python-dateutil>=2.7.3 in /usr/local/lib/python3.7/dist-packages (from pandas->datasets) (2.8.2)\n",
            "Requirement already satisfied: pytz>=2017.3 in /usr/local/lib/python3.7/dist-packages (from pandas->datasets) (2022.5)\n",
            "Requirement already satisfied: six>=1.5 in /usr/local/lib/python3.7/dist-packages (from python-dateutil>=2.7.3->pandas->datasets) (1.15.0)\n",
            "Installing collected packages: urllib3, xxhash, tokenizers, responses, multiprocess, huggingface-hub, transformers, datasets\n",
            "  Attempting uninstall: urllib3\n",
            "    Found existing installation: urllib3 1.24.3\n",
            "    Uninstalling urllib3-1.24.3:\n",
            "      Successfully uninstalled urllib3-1.24.3\n",
            "Successfully installed datasets-2.6.1 huggingface-hub-0.10.1 multiprocess-0.70.13 responses-0.18.0 tokenizers-0.13.1 transformers-4.23.1 urllib3-1.25.11 xxhash-3.1.0\n"
          ]
        }
      ],
      "source": [
        "!pip3 install transformers datasets"
      ]
    },
    {
      "cell_type": "code",
      "execution_count": 4,
      "metadata": {
        "id": "7Lg41GZt16Iq"
      },
      "outputs": [],
      "source": [
        "import torch\n",
        "from transformers import T5ForConditionalGeneration,AutoTokenizer\n",
        "Model_name='model-21-10-22-21:22:08'\n",
        "\n",
        "model=T5ForConditionalGeneration.from_pretrained(f\"/content/drive/MyDrive/model_saving/{Model_name}\")"
      ]
    },
    {
      "cell_type": "code",
      "execution_count": 5,
      "metadata": {
        "colab": {
          "base_uri": "https://localhost:8080/",
          "height": 237,
          "referenced_widgets": [
            "4811c7608cf040ab8741fcc919a91aef",
            "0a72083a862c4a6f80607c8d382315e1",
            "8affb7fcaa754b038ba183d8b776482c",
            "c4632e7a263b41e89530aeb85569dadd",
            "89c708ed76c948b1939718359c545e2c",
            "fd840e38ff4443b3bb4778e69ba37c5b",
            "b099d5b5382e4d0d8092ec66cf32cc05",
            "e54141f663884a2ca7c4c6ab703ac86f",
            "46aed7fcff094c8dbdbfb396cf4739ec",
            "02bd0c1d583b4cf3bd29ae2fd77f1536",
            "07e48238412d4f0ea88b4118394c36d8",
            "db7bc810e57942418f89867e18678de3",
            "4a4ecb7086964a2f81c3384f0d2f629d",
            "86b1e9ab43af4bd7acb4f9240aca12cf",
            "23fc60bd1920471abb7e8c727378be19",
            "661d972312f04758a9045fcb05d1dcbe",
            "6051c60cc3664795a90a4a256f3ece9a",
            "ab47ea68fd37419689177bbfe518685e",
            "30259c3d5e6a4be0b35812047a2b9fb7",
            "b6aa3d85549b497f9df1d839ba845ef7",
            "2cb3b5cde0424f719f537794711d63af",
            "78fc9a7c0a1e4a44a7633a462dc2528e",
            "e516aace20634d9b8aaae8ddf6fd7793",
            "0a1a2e27fe6e4b6bb48250abb032dc91",
            "764a12e0acad48a3af6f2a7d1d6bb1e7",
            "f550d373304a485a949ea163207250e4",
            "96bcd4d4ecc74b6ca88cd4675bdd4d5d",
            "46a2fbc987b549719e472a649c1912f6",
            "c3b5750029a24c3483c30e790558b4ca",
            "f1530a4c12db4b3095311137bcd18698",
            "5777c001186a468d8ae8b6222586eed7",
            "e024071f463a45ba8b5b3ed3a4583f10",
            "bcf2e501773943909ee199d1354be30d"
          ]
        },
        "id": "mRG2xmRg2opJ",
        "outputId": "aff67b17-5b7b-47dd-c73b-531242887e5d"
      },
      "outputs": [
        {
          "output_type": "display_data",
          "data": {
            "text/plain": [
              "Downloading:   0%|          | 0.00/1.20k [00:00<?, ?B/s]"
            ],
            "application/vnd.jupyter.widget-view+json": {
              "version_major": 2,
              "version_minor": 0,
              "model_id": "4811c7608cf040ab8741fcc919a91aef"
            }
          },
          "metadata": {}
        },
        {
          "output_type": "display_data",
          "data": {
            "text/plain": [
              "Downloading:   0%|          | 0.00/792k [00:00<?, ?B/s]"
            ],
            "application/vnd.jupyter.widget-view+json": {
              "version_major": 2,
              "version_minor": 0,
              "model_id": "db7bc810e57942418f89867e18678de3"
            }
          },
          "metadata": {}
        },
        {
          "output_type": "display_data",
          "data": {
            "text/plain": [
              "Downloading:   0%|          | 0.00/1.39M [00:00<?, ?B/s]"
            ],
            "application/vnd.jupyter.widget-view+json": {
              "version_major": 2,
              "version_minor": 0,
              "model_id": "e516aace20634d9b8aaae8ddf6fd7793"
            }
          },
          "metadata": {}
        },
        {
          "output_type": "stream",
          "name": "stderr",
          "text": [
            "/usr/local/lib/python3.7/dist-packages/transformers/models/t5/tokenization_t5_fast.py:166: FutureWarning: This tokenizer was incorrectly instantiated with a model max length of 512 which will be corrected in Transformers v5.\n",
            "For now, this behavior is kept to avoid breaking backwards compatibility when padding/encoding with `truncation is True`.\n",
            "- Be aware that you SHOULD NOT rely on t5-base automatically truncating your input to 512 when padding/encoding.\n",
            "- If you want to encode/pad to sequences longer than 512 you can either instantiate this tokenizer with `model_max_length` or pass `max_length` when encoding/padding.\n",
            "- To avoid this warning, please instantiate this tokenizer with `model_max_length` set to your preferred value.\n",
            "  FutureWarning,\n"
          ]
        }
      ],
      "source": [
        "tokenizer=AutoTokenizer.from_pretrained(\"t5-base\")"
      ]
    },
    {
      "cell_type": "code",
      "source": [
        "#experiment\n",
        "import sys\n",
        "sys.setrecursionlimit(15000)\n",
        "\n",
        "print(sys.getrecursionlimit())"
      ],
      "metadata": {
        "id": "oKtm5A0DXrzs",
        "colab": {
          "base_uri": "https://localhost:8080/"
        },
        "outputId": "ce27660d-d63a-4549-8204-2b371c9d3c06"
      },
      "execution_count": 6,
      "outputs": [
        {
          "output_type": "stream",
          "name": "stdout",
          "text": [
            "15000\n"
          ]
        }
      ]
    },
    {
      "cell_type": "code",
      "source": [
        "from docx import Document\n",
        "import docx\n",
        "import nltk\n",
        "import pandas as pd\n",
        "import math\n",
        "import secrets\n",
        "import re\n",
        "import time\n",
        "from nltk.tokenize import sent_tokenize\n",
        "\n",
        "\n",
        "nltk.download('punkt')"
      ],
      "metadata": {
        "id": "Rcoh0Syz9Ihv",
        "colab": {
          "base_uri": "https://localhost:8080/"
        },
        "outputId": "47977c03-166f-4004-d568-5281505c49e5"
      },
      "execution_count": 7,
      "outputs": [
        {
          "output_type": "stream",
          "name": "stderr",
          "text": [
            "[nltk_data] Downloading package punkt to /root/nltk_data...\n",
            "[nltk_data]   Unzipping tokenizers/punkt.zip.\n"
          ]
        },
        {
          "output_type": "execute_result",
          "data": {
            "text/plain": [
              "True"
            ]
          },
          "metadata": {},
          "execution_count": 7
        }
      ]
    },
    {
      "cell_type": "code",
      "source": [
        "#define document importing path\n",
        "def get_data_from_word(path_to_file):\n",
        "    \n",
        "    doc_object=open(path_to_file, \"rb\")\n",
        "    \n",
        "    doc_reader=Document(doc_object)\n",
        "    data=\" \"\n",
        "    \n",
        "    for p in doc_reader.paragraphs:\n",
        "        data +=p.text+\"\\n\"\n",
        "        \n",
        "        \n",
        "    for table in doc_reader.tables:\n",
        "        for row in table.rows:\n",
        "            for cell in row.cells:\n",
        "                for p in cell.paragraphs:\n",
        "                    data +=p.text+\"\\n\"\n",
        "    return data"
      ],
      "metadata": {
        "id": "hu4ym_EM9Inf"
      },
      "execution_count": 8,
      "outputs": []
    },
    {
      "cell_type": "code",
      "source": [
        "#read Docx\n",
        "Doc_name='For spellcheck'\n",
        "Doc=get_data_from_word(Doc_name+'.docx')#import docx\n",
        "# Doc.strip()\n",
        "Docc=Doc.split(\"\\n\")\n",
        "Docc"
      ],
      "metadata": {
        "colab": {
          "base_uri": "https://localhost:8080/"
        },
        "id": "BlBfiUfY9IqF",
        "outputId": "f0f84816-263c-4dc3-cf04-8381e9c538f5"
      },
      "execution_count": 27,
      "outputs": [
        {
          "output_type": "execute_result",
          "data": {
            "text/plain": [
              "[' ',\n",
              " '',\n",
              " 'Social stress eeffects on hormones, berain and behavdior',\n",
              " '',\n",
              " 'Keywards',\n",
              " '',\n",
              " 'Aggrssion and Defence',\n",
              " 'Behavior',\n",
              " 'Dominant-subordinate reltionships',\n",
              " 'Dopamine',\n",
              " 'Drug-taking beehaviours',\n",
              " 'Sex steeroid hormones',\n",
              " 'Hypothalamic-pituitary-adrenal axis',\n",
              " 'Hypothalamic-pituiteary-gonadal axis',\n",
              " 'Neuarogenesis',\n",
              " 'Norepinephrin',\n",
              " 'Sertonin',\n",
              " 'Social stress',\n",
              " 'Stdress',\n",
              " '',\n",
              " 'Glossery',\n",
              " 'Dexamethasone supgpression test (DST): a phrmacological test that probes feedback regulatiwon of the hypothalamic-pituitary-adrenal (HPA) axis.  Under nrmal conditions, glucocorticoid secretion is inhibited after administration of the glucocorticoid receptor agonist, dexamethasone.  Nonscuppression is an indicator of deficient regulation of the HPA axis.',\n",
              " '',\n",
              " 'hypothalamic-pituitary-adrenal (HPA) axis: hormfonal cascade activated in response to stress. Includes corticotropin releasing hormone (CRH) from the hypothalamus, corticotropin (ACTH) from the pituitary and glucocorticoids from the adrenal cortex (cortisol or corticosterone, depending on species).',\n",
              " '',\n",
              " 'hypothalmic-pituitary-gonaadal (HPG) axis: hormonal cascade that regulates the secretion of sex steroids.  Includes gonadotropine revleasingg hormone (GnRH) from the hypothalamus, luteinising hormone (LH) and folalicle-stimulating hrmone (FSH) from the pituitary and either oestrogens and progestins frvom the ovary or tesosterone from the testes.',\n",
              " 'Synopsis',\n",
              " 'The stressors that humans typiacally face in the modern, develped world originate largely from social and interpersonal interactions, rather than from physical stressors.  These social stressors have been mofdeled in the laboratorey in a variety of different ways, including acute or chronic defeat, social subordination, social instability, crowding, and isolation.  Studies using these models have shnown that social, primarily psychological, stressors can have a pro-found impact on the funtioning of an individual.  Both social and nonsocial behaviors may be affected, leading to such consquences as impeaired rik assessment, increased drug-taking, heightened anxiety and altered conspecific interactions.  Endocrine systems are also affected, as social stress leads to heightened activation, and, in some cases, impaired regulation and responsiveness of the HPA axis and dysregulation of androgen secretion via several different mechanisms.  Finaly, chronic social stress has been showen to result in changes in chemiccal neurotransmission and neuronal stsructure; many of these changes occur within neural pathways that have been implicated in a variety of human affective disorders.  By incoorporating some the complexe behaviral and physiological interactios that characterise human responses to stress, social stress models may provide insite into the mechanisms underlying the pathogenesis of various stress-relatd illnsses.',\n",
              " '1.  Why Study Social Strss Effects?',\n",
              " '1.1. Differences in Effcts of Different Stressers',\n",
              " 'Although stres has long been concetualized in terms of a generic pattern of physiologicsal responses, some recent work indicates that differen types of stressful events may produce qualitvatively different patterns of effects in both behaviour and physiology: Electric foot shock and repeated social defeat have been reported to produce opposite effects on systolic blofod pressure and mekan arterial blood pressure in male rats, with enhancement in the former situsation and decrements in the latter (Adams et al. 1987).  While fear of a previously recefived foot shock produced both bradycardia and immobility in almost all rat subjects, fear of a dominant rat produced bradycardia in about 50% of subjects, and immobility primarily in the others (Roozendaal et al. 1990).  Similarly, while water depraivation had a ddurationdependent anxiolytic effect in the elevated plus maze, 1hr restrgaint was anxiogenic in the same situgation (McBlane and Handley, 1994).  Social defeat produced a significant decrdease in variagbility indexes for a number of cardiac electrical activity parameters, whergeas 3 nonsocial stressors (restrain, shock-probe test, and swimming) either failed to change or increased these indices (Sgoifo et al. 1999).  While a variety of stressors tend to elicit selfgrooming in the rat, the time course, form, and magnsitude of these are different with differrent stressors (van Erp et al. 1994).',\n",
              " '',\n",
              " '']"
            ]
          },
          "metadata": {},
          "execution_count": 27
        }
      ]
    },
    {
      "cell_type": "code",
      "source": [
        "#sentence extraction\n",
        "tokenized_sents = [sent_tokenize(i) for i in Docc]\n",
        "tokenized_sents"
      ],
      "metadata": {
        "colab": {
          "base_uri": "https://localhost:8080/"
        },
        "id": "sz6dhEIUovzA",
        "outputId": "ba8ee60a-a5c1-49c1-81d8-cf3f103442a2"
      },
      "execution_count": 28,
      "outputs": [
        {
          "output_type": "execute_result",
          "data": {
            "text/plain": [
              "[[],\n",
              " [],\n",
              " ['Social stress eeffects on hormones, berain and behavdior'],\n",
              " [],\n",
              " ['Keywards'],\n",
              " [],\n",
              " ['Aggrssion and Defence'],\n",
              " ['Behavior'],\n",
              " ['Dominant-subordinate reltionships'],\n",
              " ['Dopamine'],\n",
              " ['Drug-taking beehaviours'],\n",
              " ['Sex steeroid hormones'],\n",
              " ['Hypothalamic-pituitary-adrenal axis'],\n",
              " ['Hypothalamic-pituiteary-gonadal axis'],\n",
              " ['Neuarogenesis'],\n",
              " ['Norepinephrin'],\n",
              " ['Sertonin'],\n",
              " ['Social stress'],\n",
              " ['Stdress'],\n",
              " [],\n",
              " ['Glossery'],\n",
              " ['Dexamethasone supgpression test (DST): a phrmacological test that probes feedback regulatiwon of the hypothalamic-pituitary-adrenal (HPA) axis.',\n",
              "  'Under nrmal conditions, glucocorticoid secretion is inhibited after administration of the glucocorticoid receptor agonist, dexamethasone.',\n",
              "  'Nonscuppression is an indicator of deficient regulation of the HPA axis.'],\n",
              " [],\n",
              " ['hypothalamic-pituitary-adrenal (HPA) axis: hormfonal cascade activated in response to stress.',\n",
              "  'Includes corticotropin releasing hormone (CRH) from the hypothalamus, corticotropin (ACTH) from the pituitary and glucocorticoids from the adrenal cortex (cortisol or corticosterone, depending on species).'],\n",
              " [],\n",
              " ['hypothalmic-pituitary-gonaadal (HPG) axis: hormonal cascade that regulates the secretion of sex steroids.',\n",
              "  'Includes gonadotropine revleasingg hormone (GnRH) from the hypothalamus, luteinising hormone (LH) and folalicle-stimulating hrmone (FSH) from the pituitary and either oestrogens and progestins frvom the ovary or tesosterone from the testes.'],\n",
              " ['Synopsis'],\n",
              " ['The stressors that humans typiacally face in the modern, develped world originate largely from social and interpersonal interactions, rather than from physical stressors.',\n",
              "  'These social stressors have been mofdeled in the laboratorey in a variety of different ways, including acute or chronic defeat, social subordination, social instability, crowding, and isolation.',\n",
              "  'Studies using these models have shnown that social, primarily psychological, stressors can have a pro-found impact on the funtioning of an individual.',\n",
              "  'Both social and nonsocial behaviors may be affected, leading to such consquences as impeaired rik assessment, increased drug-taking, heightened anxiety and altered conspecific interactions.',\n",
              "  'Endocrine systems are also affected, as social stress leads to heightened activation, and, in some cases, impaired regulation and responsiveness of the HPA axis and dysregulation of androgen secretion via several different mechanisms.',\n",
              "  'Finaly, chronic social stress has been showen to result in changes in chemiccal neurotransmission and neuronal stsructure; many of these changes occur within neural pathways that have been implicated in a variety of human affective disorders.',\n",
              "  'By incoorporating some the complexe behaviral and physiological interactios that characterise human responses to stress, social stress models may provide insite into the mechanisms underlying the pathogenesis of various stress-relatd illnsses.'],\n",
              " ['1.', 'Why Study Social Strss Effects?'],\n",
              " ['1.1.', 'Differences in Effcts of Different Stressers'],\n",
              " ['Although stres has long been concetualized in terms of a generic pattern of physiologicsal responses, some recent work indicates that differen types of stressful events may produce qualitvatively different patterns of effects in both behaviour and physiology: Electric foot shock and repeated social defeat have been reported to produce opposite effects on systolic blofod pressure and mekan arterial blood pressure in male rats, with enhancement in the former situsation and decrements in the latter (Adams et al.',\n",
              "  '1987).',\n",
              "  'While fear of a previously recefived foot shock produced both bradycardia and immobility in almost all rat subjects, fear of a dominant rat produced bradycardia in about 50% of subjects, and immobility primarily in the others (Roozendaal et al.',\n",
              "  '1990).',\n",
              "  'Similarly, while water depraivation had a ddurationdependent anxiolytic effect in the elevated plus maze, 1hr restrgaint was anxiogenic in the same situgation (McBlane and Handley, 1994).',\n",
              "  'Social defeat produced a significant decrdease in variagbility indexes for a number of cardiac electrical activity parameters, whergeas 3 nonsocial stressors (restrain, shock-probe test, and swimming) either failed to change or increased these indices (Sgoifo et al.',\n",
              "  '1999).',\n",
              "  'While a variety of stressors tend to elicit selfgrooming in the rat, the time course, form, and magnsitude of these are different with differrent stressors (van Erp et al.',\n",
              "  '1994).'],\n",
              " [],\n",
              " []]"
            ]
          },
          "metadata": {},
          "execution_count": 28
        }
      ]
    },
    {
      "cell_type": "code",
      "source": [
        "result = sum(tokenized_sents, [])\n",
        "\n",
        "df=pd.DataFrame(result, columns=[\"Original\"])\n",
        "df = df[df['Original'].apply(lambda x: len(x.split()) >= 2)]\n",
        "\n",
        "df.dropna(inplace=True)\n",
        "df=df.reset_index(drop=True)\n",
        "print(df)"
      ],
      "metadata": {
        "colab": {
          "base_uri": "https://localhost:8080/"
        },
        "id": "HTngvZpuTes6",
        "outputId": "202a2f55-9835-40c8-dfda-d495ee70e763"
      },
      "execution_count": 53,
      "outputs": [
        {
          "output_type": "stream",
          "name": "stdout",
          "text": [
            "                                             Original\n",
            "0   Social stress eeffects on hormones, berain and...\n",
            "1                               Aggrssion and Defence\n",
            "2                   Dominant-subordinate reltionships\n",
            "3                             Drug-taking beehaviours\n",
            "4                               Sex steeroid hormones\n",
            "5                 Hypothalamic-pituitary-adrenal axis\n",
            "6                Hypothalamic-pituiteary-gonadal axis\n",
            "7                                       Social stress\n",
            "8   Dexamethasone supgpression test (DST): a phrma...\n",
            "9   Under nrmal conditions, glucocorticoid secreti...\n",
            "10  Nonscuppression is an indicator of deficient r...\n",
            "11  hypothalamic-pituitary-adrenal (HPA) axis: hor...\n",
            "12  Includes corticotropin releasing hormone (CRH)...\n",
            "13  hypothalmic-pituitary-gonaadal (HPG) axis: hor...\n",
            "14  Includes gonadotropine revleasingg hormone (Gn...\n",
            "15  The stressors that humans typiacally face in t...\n",
            "16  These social stressors have been mofdeled in t...\n",
            "17  Studies using these models have shnown that so...\n",
            "18  Both social and nonsocial behaviors may be aff...\n",
            "19  Endocrine systems are also affected, as social...\n",
            "20  Finaly, chronic social stress has been showen ...\n",
            "21  By incoorporating some the complexe behaviral ...\n",
            "22                    Why Study Social Strss Effects?\n",
            "23       Differences in Effcts of Different Stressers\n",
            "24  Although stres has long been concetualized in ...\n",
            "25  While fear of a previously recefived foot shoc...\n",
            "26  Similarly, while water depraivation had a ddur...\n",
            "27  Social defeat produced a significant decrdease...\n",
            "28  While a variety of stressors tend to elicit se...\n"
          ]
        }
      ]
    },
    {
      "cell_type": "code",
      "source": [
        "# "
      ],
      "metadata": {
        "id": "mlP_i872Y8ap"
      },
      "execution_count": 11,
      "outputs": []
    },
    {
      "cell_type": "code",
      "source": [
        "\n",
        "# for i in sentences:\n",
        "#   senteces_list=i.strip()\n",
        "# Doc=Doc.strip()\n",
        "# Doc1=senteces_list.split('\\n')\n",
        "# Doc=\"/n\".join([i for i in Doc.split('/n') if len(i) > 1])\n",
        "\n"
      ],
      "metadata": {
        "id": "loiPSNyBXrwG"
      },
      "execution_count": 12,
      "outputs": []
    },
    {
      "cell_type": "code",
      "source": [
        "# nospaces = Doc.replace(\" \", \"<@#>\")\n",
        "# Doc2=nospaces.split('\\n')\n",
        "# df[\"nospsaces2\"]=Doc2\n",
        "# df.head()\n",
        "# df.dropna(inplace=True)"
      ],
      "metadata": {
        "id": "yYuRB9S3Xrqm"
      },
      "execution_count": 13,
      "outputs": []
    },
    {
      "cell_type": "code",
      "source": [
        "\n",
        "\n",
        "def random_alphanum(length: int) -> str:\n",
        "        text = secrets.token_hex(nbytes=math.ceil(length / 2))\n",
        "        isEven = length % 2 == 0\n",
        "        return text if isEven else text[1:]\n"
      ],
      "metadata": {
        "id": "qu3r3VFT7ZTe"
      },
      "execution_count": 14,
      "outputs": []
    },
    {
      "cell_type": "code",
      "source": [
        "# #giving ID\n",
        "# df['ID'] = df.apply(lambda x: random_alphanum(10), axis=1, result_type=\"expand\")\n",
        "# df.dropna(inplace=True)"
      ],
      "metadata": {
        "id": "aeC6h5sm7ZfX"
      },
      "execution_count": 15,
      "outputs": []
    },
    {
      "cell_type": "code",
      "source": [
        "df.tail()\n"
      ],
      "metadata": {
        "colab": {
          "base_uri": "https://localhost:8080/",
          "height": 206
        },
        "id": "9eTjiJxA7Z-I",
        "outputId": "e2958e05-c7ee-48e0-cc90-c11a80292eb6"
      },
      "execution_count": 16,
      "outputs": [
        {
          "output_type": "execute_result",
          "data": {
            "text/plain": [
              "                                              Original\n",
              "122    (m = 1, 2, 3) measures the short-run impacts...\n",
              "123    and   are depreciation rate and diffusion ra...\n",
              "124    and   are the depreciation rate and the diff...\n",
              "125    and   are the depreciation rate and the diff...\n",
              "126    and   are the depreciation rate and the diff..."
            ],
            "text/html": [
              "\n",
              "  <div id=\"df-283ca20a-720a-4295-863e-7e04f464f4f7\">\n",
              "    <div class=\"colab-df-container\">\n",
              "      <div>\n",
              "<style scoped>\n",
              "    .dataframe tbody tr th:only-of-type {\n",
              "        vertical-align: middle;\n",
              "    }\n",
              "\n",
              "    .dataframe tbody tr th {\n",
              "        vertical-align: top;\n",
              "    }\n",
              "\n",
              "    .dataframe thead th {\n",
              "        text-align: right;\n",
              "    }\n",
              "</style>\n",
              "<table border=\"1\" class=\"dataframe\">\n",
              "  <thead>\n",
              "    <tr style=\"text-align: right;\">\n",
              "      <th></th>\n",
              "      <th>Original</th>\n",
              "    </tr>\n",
              "  </thead>\n",
              "  <tbody>\n",
              "    <tr>\n",
              "      <th>122</th>\n",
              "      <td>(m = 1, 2, 3) measures the short-run impacts...</td>\n",
              "    </tr>\n",
              "    <tr>\n",
              "      <th>123</th>\n",
              "      <td>and   are depreciation rate and diffusion ra...</td>\n",
              "    </tr>\n",
              "    <tr>\n",
              "      <th>124</th>\n",
              "      <td>and   are the depreciation rate and the diff...</td>\n",
              "    </tr>\n",
              "    <tr>\n",
              "      <th>125</th>\n",
              "      <td>and   are the depreciation rate and the diff...</td>\n",
              "    </tr>\n",
              "    <tr>\n",
              "      <th>126</th>\n",
              "      <td>and   are the depreciation rate and the diff...</td>\n",
              "    </tr>\n",
              "  </tbody>\n",
              "</table>\n",
              "</div>\n",
              "      <button class=\"colab-df-convert\" onclick=\"convertToInteractive('df-283ca20a-720a-4295-863e-7e04f464f4f7')\"\n",
              "              title=\"Convert this dataframe to an interactive table.\"\n",
              "              style=\"display:none;\">\n",
              "        \n",
              "  <svg xmlns=\"http://www.w3.org/2000/svg\" height=\"24px\"viewBox=\"0 0 24 24\"\n",
              "       width=\"24px\">\n",
              "    <path d=\"M0 0h24v24H0V0z\" fill=\"none\"/>\n",
              "    <path d=\"M18.56 5.44l.94 2.06.94-2.06 2.06-.94-2.06-.94-.94-2.06-.94 2.06-2.06.94zm-11 1L8.5 8.5l.94-2.06 2.06-.94-2.06-.94L8.5 2.5l-.94 2.06-2.06.94zm10 10l.94 2.06.94-2.06 2.06-.94-2.06-.94-.94-2.06-.94 2.06-2.06.94z\"/><path d=\"M17.41 7.96l-1.37-1.37c-.4-.4-.92-.59-1.43-.59-.52 0-1.04.2-1.43.59L10.3 9.45l-7.72 7.72c-.78.78-.78 2.05 0 2.83L4 21.41c.39.39.9.59 1.41.59.51 0 1.02-.2 1.41-.59l7.78-7.78 2.81-2.81c.8-.78.8-2.07 0-2.86zM5.41 20L4 18.59l7.72-7.72 1.47 1.35L5.41 20z\"/>\n",
              "  </svg>\n",
              "      </button>\n",
              "      \n",
              "  <style>\n",
              "    .colab-df-container {\n",
              "      display:flex;\n",
              "      flex-wrap:wrap;\n",
              "      gap: 12px;\n",
              "    }\n",
              "\n",
              "    .colab-df-convert {\n",
              "      background-color: #E8F0FE;\n",
              "      border: none;\n",
              "      border-radius: 50%;\n",
              "      cursor: pointer;\n",
              "      display: none;\n",
              "      fill: #1967D2;\n",
              "      height: 32px;\n",
              "      padding: 0 0 0 0;\n",
              "      width: 32px;\n",
              "    }\n",
              "\n",
              "    .colab-df-convert:hover {\n",
              "      background-color: #E2EBFA;\n",
              "      box-shadow: 0px 1px 2px rgba(60, 64, 67, 0.3), 0px 1px 3px 1px rgba(60, 64, 67, 0.15);\n",
              "      fill: #174EA6;\n",
              "    }\n",
              "\n",
              "    [theme=dark] .colab-df-convert {\n",
              "      background-color: #3B4455;\n",
              "      fill: #D2E3FC;\n",
              "    }\n",
              "\n",
              "    [theme=dark] .colab-df-convert:hover {\n",
              "      background-color: #434B5C;\n",
              "      box-shadow: 0px 1px 3px 1px rgba(0, 0, 0, 0.15);\n",
              "      filter: drop-shadow(0px 1px 2px rgba(0, 0, 0, 0.3));\n",
              "      fill: #FFFFFF;\n",
              "    }\n",
              "  </style>\n",
              "\n",
              "      <script>\n",
              "        const buttonEl =\n",
              "          document.querySelector('#df-283ca20a-720a-4295-863e-7e04f464f4f7 button.colab-df-convert');\n",
              "        buttonEl.style.display =\n",
              "          google.colab.kernel.accessAllowed ? 'block' : 'none';\n",
              "\n",
              "        async function convertToInteractive(key) {\n",
              "          const element = document.querySelector('#df-283ca20a-720a-4295-863e-7e04f464f4f7');\n",
              "          const dataTable =\n",
              "            await google.colab.kernel.invokeFunction('convertToInteractive',\n",
              "                                                     [key], {});\n",
              "          if (!dataTable) return;\n",
              "\n",
              "          const docLinkHtml = 'Like what you see? Visit the ' +\n",
              "            '<a target=\"_blank\" href=https://colab.research.google.com/notebooks/data_table.ipynb>data table notebook</a>'\n",
              "            + ' to learn more about interactive tables.';\n",
              "          element.innerHTML = '';\n",
              "          dataTable['output_type'] = 'display_data';\n",
              "          await google.colab.output.renderOutput(dataTable, element);\n",
              "          const docLink = document.createElement('div');\n",
              "          docLink.innerHTML = docLinkHtml;\n",
              "          element.appendChild(docLink);\n",
              "        }\n",
              "      </script>\n",
              "    </div>\n",
              "  </div>\n",
              "  "
            ]
          },
          "metadata": {},
          "execution_count": 16
        }
      ]
    },
    {
      "cell_type": "code",
      "source": [
        "# mydict = dict(zip(df[\"Original\"],df['ID']))\n",
        "# mydict"
      ],
      "metadata": {
        "id": "LFqOkZ9o3EgX"
      },
      "execution_count": 17,
      "outputs": []
    },
    {
      "cell_type": "code",
      "source": [],
      "metadata": {
        "id": "UqTiYDBmXrnM"
      },
      "execution_count": 17,
      "outputs": []
    },
    {
      "cell_type": "code",
      "source": [
        "Doc2=Doc\n"
      ],
      "metadata": {
        "id": "-8oy5zVj9Iss"
      },
      "execution_count": 18,
      "outputs": []
    },
    {
      "cell_type": "code",
      "source": [
        "def multiple_replace(adict, text):\n",
        "  # Create a regular expression from all of the dictionary keys\n",
        "  regex = re.compile(\"|\".join(map(re.escape, adict.keys(  ))))\n",
        "\n",
        "  # For each match, look up the corresponding value in the dictionary\n",
        "  return regex.sub(lambda match: adict[match.group(0)], text)\n",
        "\n"
      ],
      "metadata": {
        "id": "s9wpQVK79IwR"
      },
      "execution_count": 19,
      "outputs": []
    },
    {
      "cell_type": "code",
      "source": [
        "# t1 = time.perf_counter()\n",
        "\n",
        "# ### Your code goes here ###\n",
        "\n",
        "# res=multiple_replace(mydict, Doc2)\n",
        "# print(res)\n",
        "# t2 = time.perf_counter()\n",
        "# print('time taken to run:',t2-t1)\n"
      ],
      "metadata": {
        "id": "RYP18ZY49znO"
      },
      "execution_count": 20,
      "outputs": []
    },
    {
      "cell_type": "code",
      "execution_count": 21,
      "metadata": {
        "id": "UoIPzBN7jOzA"
      },
      "outputs": [],
      "source": [
        "start_time = time.time()\n",
        "length=len(df)\n"
      ]
    },
    {
      "cell_type": "code",
      "execution_count": 23,
      "metadata": {
        "colab": {
          "base_uri": "https://localhost:8080/",
          "height": 1000
        },
        "id": "mSInezBU2Eh8",
        "outputId": "0b1b8e34-ae45-4d68-a05c-79f71e1a8107"
      },
      "outputs": [
        {
          "output_type": "stream",
          "name": "stdout",
          "text": [
            "Original    :   Albert Einstein\n",
            "Predictions :  Albert Einstein\n",
            "------------------------------------------\n",
            "Original    :  From Wikipedia, the free encyclopedia\n",
            "Predictions :  From Wikipedia, the free encyclopedia\n",
            "------------------------------------------\n",
            "Original    :  \"Einstein\" redirects here.\n",
            "Predictions :  \"Einstein\" redirects here.\n",
            "------------------------------------------\n",
            "Original    :  For other uses, see  and .\n",
            "Predictions :  For other uses, see and.\n",
            "------------------------------------------\n",
            "Original    :  Albert Einstein ( ; German:  (); 14 March 1879 – 18 April 1955) was a German-born , widely acknowledged to be one of the greatest and most influential physicists of all time.\n",
            "Predictions :  Albert Einstein ( ; German: (); 14 March 1879 – 18 April 1955) was a German-born physicist, widely acknowledged to be one of the greatest and most influential scientists of all time.\n",
            "------------------------------------------\n",
            "Original    :  Einstein is best known for developing the , but he also made important contributions to the development of the theory of .\n",
            "Predictions :  Einstein is best known for developing the, but he also made important contributions to the development of the theory of.\n",
            "------------------------------------------\n",
            "Original    :  Relativity and quantum mechanics are together the two pillars of .\n",
            "Predictions :  Relativity and quantum mechanics are together the two pillars of.\n",
            "------------------------------------------\n",
            "Original    :  His  formula , which arises from relativity theory, has been dubbed \"the world's most famous equation\".\n",
            "Predictions :  His formula, which arises from relativity theory, has been dubbed \"the world's most famous equation.\"\n",
            "------------------------------------------\n",
            "Original    :  His work is also known for its influence on the .\n",
            "Predictions :  His work is also known for its influence on the.\n",
            "------------------------------------------\n",
            "Original    :  He received the 1921  \"for his services to theoretical physics, and especially for his discovery of the law of the \", a pivotal step in the development of quantum theory.\n",
            "Predictions :  He received the 1921 \"for his services to theoretical physics, and especially for his discovery of the law of the,\" a pivotal step in the development of quantum theory.\n",
            "------------------------------------------\n",
            "Original    :  His intellectual achievements and originality resulted in \"Einstein\" becoming synonymous with \"genius\".\n",
            "Predictions :  His intellectual achievements and originality resulted in \"Einstein\" becoming synonymous with \"genius.\"\n",
            "------------------------------------------\n",
            "Original    :  In 1905, a year sometimes described as his  ('miracle year'), Einstein published .\n",
            "Predictions :  In 1905, a year sometimes described as his \"miracle year,\" Einstein published.\n",
            "------------------------------------------\n",
            "Original    :  These outlined the theory of the photoelectric effect, explained , introduced , and demonstrated mass-energy equivalence.\n",
            "Predictions :  These outlined the theory of the photoelectric effect, explained, introduced, and demonstrated mass-energy equivalence.\n",
            "------------------------------------------\n",
            "Original    :  Einstein thought that the laws of  could no longer be reconciled with those of the , which led him to develop his special theory of relativity.\n",
            "Predictions :  Einstein thought that the laws of could no longer be reconciled with those of the, which led him to develop his special theory of relativity.\n",
            "------------------------------------------\n",
            "Original    :  He then extended the theory to gravitational fields; he published a paper on  in 1916, introducing his theory of gravitation.\n",
            "Predictions :  He then extended the theory to gravitational fields; he published a paper on in 1916, introducing his theory of gravitation.\n",
            "------------------------------------------\n",
            "Original    :  In 1917, he applied the general theory of relativity to model the structure of the .\n",
            "Predictions :  In 1917, he applied the general theory of relativity to model the structure of the.\n",
            "------------------------------------------\n",
            "Original    :  He continued to deal with problems of  and quantum theory, which led to his explanations of particle theory and the .\n",
            "Predictions :  He continued to deal with problems of and quantum theory, which led to his explanations of particle theory and the.\n",
            "------------------------------------------\n",
            "Original    :  He also investigated the thermal properties of light and the quantum theory of , which laid the foundation of the  theory of light.\n",
            "Predictions :  He also investigated the thermal properties of light and the quantum theory of, which laid the foundation of the theory of light.\n",
            "------------------------------------------\n",
            "Original    :  However, for much of the later part of his career, he worked on two ultimately unsuccessful endeavors.\n",
            "Predictions :  However, for much of the later part of his career, he worked on two ultimately unsuccessful endeavors.\n",
            "------------------------------------------\n",
            "Original    :  First, despite his great contributions to quantum mechanics, he opposed what it evolved into, objecting that \"God does not play dice\".\n",
            "Predictions :  First, despite his great contributions to quantum mechanics, he opposed what it evolved into, objecting that \"God does not play dice.\"\n",
            "------------------------------------------\n",
            "Original    :  Second, he attempted to devise a  by generalizing his geometric theory of  to include .\n",
            "Predictions :  Second, he attempted to devise a by generalizing his geometric theory to include.\n",
            "------------------------------------------\n",
            "Original    :  As a result, he became increasingly isolated from the mainstream of modern .\n",
            "Predictions :  As a result, he became increasingly isolated from the mainstream of modern.\n",
            "------------------------------------------\n",
            "Original    :  Einstein was born in the , but moved to  in 1895, forsaking his German citizenship (as a subject of the ) the following year.\n",
            "Predictions :  Einstein was born in the, but moved to in 1895, forsaking his German citizenship (as a subject of the ) the following year.\n",
            "------------------------------------------\n",
            "Original    :  In 1897, at the age of 17, he enrolled in the mathematics and physics teaching diploma program at the Swiss  in , graduating in 1900.\n",
            "Predictions :  In 1897, at the age of 17, he enrolled in the mathematics and physics teaching diploma program at the Swiss in, graduating in 1900.\n",
            "------------------------------------------\n",
            "Original    :  In 1901, he acquired Swiss citizenship, which he kept for the rest of his life, and in 1903 he secured a permanent position at the  in Bern.\n",
            "Predictions :  In 1901, he acquired Swiss citizenship, which he kept for the rest of his life, and in 1903 he secured a permanent position at the in Bern.\n",
            "------------------------------------------\n",
            "Original    :  In 1905, he was awarded a PhD by the .\n",
            "Predictions :  In 1905, he was awarded a PhD by the.\n",
            "------------------------------------------\n",
            "Original    :  In 1914, Einstein moved to  in order to join the  and the .\n",
            "Predictions :  In 1914, Einstein moved to in order to join the and the.\n",
            "------------------------------------------\n",
            "Original    :  In 1917, Einstein became director of the ; he also became a German citizen again, this time .\n",
            "Predictions :  In 1917, Einstein became director of the ; he also became a German citizen again, this time.\n",
            "------------------------------------------\n",
            "Original    :  In 1933, while Einstein was visiting the United States,  came to power in Germany.\n",
            "Predictions :  In 1933, while Einstein was visiting the United States, came to power in Germany.\n",
            "------------------------------------------\n",
            "Original    :  Einstein, as , objected to the policies of the newly elected ; he settled in the United States and became an  in 1940.\n",
            "Predictions :  Einstein, as, objected to the policies of the newly elected ; he settled in the United States and became an in 1940.\n",
            "------------------------------------------\n",
            "Original    :  On the eve of , he endorsed  to President  alerting him to the potential  and recommending that the US begin .\n",
            "Predictions :  On the eve of, he endorsed President Obama, alerting him to the potential and recommending that the US begin.\n",
            "------------------------------------------\n",
            "Original    :  Einstein supported the  but generally denounced the idea of .\n",
            "Predictions :  Einstein supported and generally denounced the idea of.\n",
            "------------------------------------------\n",
            "Original    :  Albert Einstein\n",
            "Predictions :  Albert Einstein\n",
            "------------------------------------------\n",
            "Original    :  Albert Einstein\n",
            "Predictions :  Albert Einstein\n",
            "------------------------------------------\n",
            "Original    :  Einstein in 1921, by\n",
            "Predictions :  Einstein in 1921, by Charles Einstein.\n",
            "------------------------------------------\n",
            "Original    :  Einstein in 1921, by\n",
            "Predictions :  Einstein in 1921, by Charles Einstein.\n",
            "------------------------------------------\n",
            "Original    :  Born\n",
            "Predictions :  Born to be\n",
            "------------------------------------------\n",
            "Original    :  14 March 1879\n",
            "Predictions :  14 March 1879\n",
            "------------------------------------------\n",
            "Original    :  , ,\n",
            "Predictions :  ,,\n",
            "------------------------------------------\n",
            "Original    :  Died\n",
            "Predictions :  Died\n",
            "------------------------------------------\n",
            "Original    :  18 April 1955 (aged 76)\n",
            "Predictions :  18 April 1955 (aged 76)\n",
            "------------------------------------------\n",
            "Original    :  , U.S.\n",
            "Predictions :  , U.S.\n",
            "------------------------------------------\n",
            "Original    :  Citizenship\n",
            "Predictions :  Citizenship\n",
            "------------------------------------------\n",
            "Original    :  , part of the German Empire (1879–1896)\n",
            "Predictions :  , part of the German Empire (1879–1896)\n",
            "------------------------------------------\n",
            "Original    :   (1896–1901)\n",
            "Predictions :  (1896–1901)\n",
            "------------------------------------------\n",
            "Original    :   (1901–1955)\n",
            "Predictions :  (1901–1955)\n",
            "------------------------------------------\n",
            "Original    :  , part of the  (1911–1912)\n",
            "Predictions :  , part of the (1911–1912)\n",
            "------------------------------------------\n",
            "Original    :  , part of the German Empire (1914–1918)\n",
            "Predictions :  , part of the German Empire (1914–1918).\n",
            "------------------------------------------\n",
            "Original    :   (, 1918–1933)\n",
            "Predictions :  (, 1918–1933)\n",
            "------------------------------------------\n",
            "Original    :   (1940–1955)\n",
            "Predictions :  (1940–1955)\n",
            "------------------------------------------\n",
            "Original    :  Education\n",
            "Predictions :  Education\n",
            "------------------------------------------\n",
            "Original    :   in  (Federal teaching diploma, 1900)\n",
            "Predictions :  in (Federal teaching diploma, 1900)\n",
            "------------------------------------------\n",
            "Original    :   (PhD, 1905)\n",
            "Predictions :  (PhD, 1905)\n",
            "------------------------------------------\n",
            "Original    :  Known for\n",
            "Predictions :  Known for its sexiness\n",
            "------------------------------------------\n",
            "Original    :  Theory of\n",
            "Predictions :  Theory of the Universe\n",
            "------------------------------------------\n",
            "Original    :  Spouses\n",
            "Predictions :  Spouses\n",
            "------------------------------------------\n"
          ]
        },
        {
          "output_type": "error",
          "ename": "KeyError",
          "evalue": "ignored",
          "traceback": [
            "\u001b[0;31m---------------------------------------------------------------------------\u001b[0m",
            "\u001b[0;31mKeyError\u001b[0m                                  Traceback (most recent call last)",
            "\u001b[0;32m/usr/local/lib/python3.7/dist-packages/pandas/core/indexes/base.py\u001b[0m in \u001b[0;36mget_loc\u001b[0;34m(self, key, method, tolerance)\u001b[0m\n\u001b[1;32m   3360\u001b[0m             \u001b[0;32mtry\u001b[0m\u001b[0;34m:\u001b[0m\u001b[0;34m\u001b[0m\u001b[0;34m\u001b[0m\u001b[0m\n\u001b[0;32m-> 3361\u001b[0;31m                 \u001b[0;32mreturn\u001b[0m \u001b[0mself\u001b[0m\u001b[0;34m.\u001b[0m\u001b[0m_engine\u001b[0m\u001b[0;34m.\u001b[0m\u001b[0mget_loc\u001b[0m\u001b[0;34m(\u001b[0m\u001b[0mcasted_key\u001b[0m\u001b[0;34m)\u001b[0m\u001b[0;34m\u001b[0m\u001b[0;34m\u001b[0m\u001b[0m\n\u001b[0m\u001b[1;32m   3362\u001b[0m             \u001b[0;32mexcept\u001b[0m \u001b[0mKeyError\u001b[0m \u001b[0;32mas\u001b[0m \u001b[0merr\u001b[0m\u001b[0;34m:\u001b[0m\u001b[0;34m\u001b[0m\u001b[0;34m\u001b[0m\u001b[0m\n",
            "\u001b[0;32m/usr/local/lib/python3.7/dist-packages/pandas/_libs/index.pyx\u001b[0m in \u001b[0;36mpandas._libs.index.IndexEngine.get_loc\u001b[0;34m()\u001b[0m\n",
            "\u001b[0;32m/usr/local/lib/python3.7/dist-packages/pandas/_libs/index.pyx\u001b[0m in \u001b[0;36mpandas._libs.index.IndexEngine.get_loc\u001b[0;34m()\u001b[0m\n",
            "\u001b[0;32mpandas/_libs/hashtable_class_helper.pxi\u001b[0m in \u001b[0;36mpandas._libs.hashtable.Int64HashTable.get_item\u001b[0;34m()\u001b[0m\n",
            "\u001b[0;32mpandas/_libs/hashtable_class_helper.pxi\u001b[0m in \u001b[0;36mpandas._libs.hashtable.Int64HashTable.get_item\u001b[0;34m()\u001b[0m\n",
            "\u001b[0;31mKeyError\u001b[0m: 56",
            "\nThe above exception was the direct cause of the following exception:\n",
            "\u001b[0;31mKeyError\u001b[0m                                  Traceback (most recent call last)",
            "\u001b[0;32m<ipython-input-23-5e10519fc8b4>\u001b[0m in \u001b[0;36m<module>\u001b[0;34m\u001b[0m\n\u001b[1;32m      8\u001b[0m \u001b[0;34m\u001b[0m\u001b[0m\n\u001b[1;32m      9\u001b[0m \u001b[0;32mfor\u001b[0m \u001b[0mi\u001b[0m \u001b[0;32min\u001b[0m \u001b[0mrange\u001b[0m\u001b[0;34m(\u001b[0m\u001b[0mlength\u001b[0m\u001b[0;34m)\u001b[0m\u001b[0;34m:\u001b[0m\u001b[0;34m\u001b[0m\u001b[0;34m\u001b[0m\u001b[0m\n\u001b[0;32m---> 10\u001b[0;31m   \u001b[0moriginal\u001b[0m\u001b[0;34m=\u001b[0m\u001b[0mdf\u001b[0m\u001b[0;34m[\u001b[0m\u001b[0;34m'Original'\u001b[0m\u001b[0;34m]\u001b[0m\u001b[0;34m[\u001b[0m\u001b[0mi\u001b[0m\u001b[0;34m]\u001b[0m\u001b[0;34m\u001b[0m\u001b[0;34m\u001b[0m\u001b[0m\n\u001b[0m\u001b[1;32m     11\u001b[0m   \u001b[0;31m# final=df['Final'][i]\u001b[0m\u001b[0;34m\u001b[0m\u001b[0;34m\u001b[0m\u001b[0;34m\u001b[0m\u001b[0m\n\u001b[1;32m     12\u001b[0m   \u001b[0;32mwith\u001b[0m \u001b[0mtorch\u001b[0m\u001b[0;34m.\u001b[0m\u001b[0mno_grad\u001b[0m\u001b[0;34m(\u001b[0m\u001b[0;34m)\u001b[0m\u001b[0;34m:\u001b[0m\u001b[0;34m\u001b[0m\u001b[0;34m\u001b[0m\u001b[0m\n",
            "\u001b[0;32m/usr/local/lib/python3.7/dist-packages/pandas/core/series.py\u001b[0m in \u001b[0;36m__getitem__\u001b[0;34m(self, key)\u001b[0m\n\u001b[1;32m    940\u001b[0m \u001b[0;34m\u001b[0m\u001b[0m\n\u001b[1;32m    941\u001b[0m         \u001b[0;32melif\u001b[0m \u001b[0mkey_is_scalar\u001b[0m\u001b[0;34m:\u001b[0m\u001b[0;34m\u001b[0m\u001b[0;34m\u001b[0m\u001b[0m\n\u001b[0;32m--> 942\u001b[0;31m             \u001b[0;32mreturn\u001b[0m \u001b[0mself\u001b[0m\u001b[0;34m.\u001b[0m\u001b[0m_get_value\u001b[0m\u001b[0;34m(\u001b[0m\u001b[0mkey\u001b[0m\u001b[0;34m)\u001b[0m\u001b[0;34m\u001b[0m\u001b[0;34m\u001b[0m\u001b[0m\n\u001b[0m\u001b[1;32m    943\u001b[0m \u001b[0;34m\u001b[0m\u001b[0m\n\u001b[1;32m    944\u001b[0m         \u001b[0;32mif\u001b[0m \u001b[0mis_hashable\u001b[0m\u001b[0;34m(\u001b[0m\u001b[0mkey\u001b[0m\u001b[0;34m)\u001b[0m\u001b[0;34m:\u001b[0m\u001b[0;34m\u001b[0m\u001b[0;34m\u001b[0m\u001b[0m\n",
            "\u001b[0;32m/usr/local/lib/python3.7/dist-packages/pandas/core/series.py\u001b[0m in \u001b[0;36m_get_value\u001b[0;34m(self, label, takeable)\u001b[0m\n\u001b[1;32m   1049\u001b[0m \u001b[0;34m\u001b[0m\u001b[0m\n\u001b[1;32m   1050\u001b[0m         \u001b[0;31m# Similar to Index.get_value, but we do not fall back to positional\u001b[0m\u001b[0;34m\u001b[0m\u001b[0;34m\u001b[0m\u001b[0;34m\u001b[0m\u001b[0m\n\u001b[0;32m-> 1051\u001b[0;31m         \u001b[0mloc\u001b[0m \u001b[0;34m=\u001b[0m \u001b[0mself\u001b[0m\u001b[0;34m.\u001b[0m\u001b[0mindex\u001b[0m\u001b[0;34m.\u001b[0m\u001b[0mget_loc\u001b[0m\u001b[0;34m(\u001b[0m\u001b[0mlabel\u001b[0m\u001b[0;34m)\u001b[0m\u001b[0;34m\u001b[0m\u001b[0;34m\u001b[0m\u001b[0m\n\u001b[0m\u001b[1;32m   1052\u001b[0m         \u001b[0;32mreturn\u001b[0m \u001b[0mself\u001b[0m\u001b[0;34m.\u001b[0m\u001b[0mindex\u001b[0m\u001b[0;34m.\u001b[0m\u001b[0m_get_values_for_loc\u001b[0m\u001b[0;34m(\u001b[0m\u001b[0mself\u001b[0m\u001b[0;34m,\u001b[0m \u001b[0mloc\u001b[0m\u001b[0;34m,\u001b[0m \u001b[0mlabel\u001b[0m\u001b[0;34m)\u001b[0m\u001b[0;34m\u001b[0m\u001b[0;34m\u001b[0m\u001b[0m\n\u001b[1;32m   1053\u001b[0m \u001b[0;34m\u001b[0m\u001b[0m\n",
            "\u001b[0;32m/usr/local/lib/python3.7/dist-packages/pandas/core/indexes/base.py\u001b[0m in \u001b[0;36mget_loc\u001b[0;34m(self, key, method, tolerance)\u001b[0m\n\u001b[1;32m   3361\u001b[0m                 \u001b[0;32mreturn\u001b[0m \u001b[0mself\u001b[0m\u001b[0;34m.\u001b[0m\u001b[0m_engine\u001b[0m\u001b[0;34m.\u001b[0m\u001b[0mget_loc\u001b[0m\u001b[0;34m(\u001b[0m\u001b[0mcasted_key\u001b[0m\u001b[0;34m)\u001b[0m\u001b[0;34m\u001b[0m\u001b[0;34m\u001b[0m\u001b[0m\n\u001b[1;32m   3362\u001b[0m             \u001b[0;32mexcept\u001b[0m \u001b[0mKeyError\u001b[0m \u001b[0;32mas\u001b[0m \u001b[0merr\u001b[0m\u001b[0;34m:\u001b[0m\u001b[0;34m\u001b[0m\u001b[0;34m\u001b[0m\u001b[0m\n\u001b[0;32m-> 3363\u001b[0;31m                 \u001b[0;32mraise\u001b[0m \u001b[0mKeyError\u001b[0m\u001b[0;34m(\u001b[0m\u001b[0mkey\u001b[0m\u001b[0;34m)\u001b[0m \u001b[0;32mfrom\u001b[0m \u001b[0merr\u001b[0m\u001b[0;34m\u001b[0m\u001b[0;34m\u001b[0m\u001b[0m\n\u001b[0m\u001b[1;32m   3364\u001b[0m \u001b[0;34m\u001b[0m\u001b[0m\n\u001b[1;32m   3365\u001b[0m         \u001b[0;32mif\u001b[0m \u001b[0mis_scalar\u001b[0m\u001b[0;34m(\u001b[0m\u001b[0mkey\u001b[0m\u001b[0;34m)\u001b[0m \u001b[0;32mand\u001b[0m \u001b[0misna\u001b[0m\u001b[0;34m(\u001b[0m\u001b[0mkey\u001b[0m\u001b[0;34m)\u001b[0m \u001b[0;32mand\u001b[0m \u001b[0;32mnot\u001b[0m \u001b[0mself\u001b[0m\u001b[0;34m.\u001b[0m\u001b[0mhasnans\u001b[0m\u001b[0;34m:\u001b[0m\u001b[0;34m\u001b[0m\u001b[0;34m\u001b[0m\u001b[0m\n",
            "\u001b[0;31mKeyError\u001b[0m: 56"
          ]
        }
      ],
      "source": [
        "from typing_extensions import Text\n",
        "df.dropna(inplace=True)\n",
        "df.reset_index(drop=True)\n",
        "\n",
        "#input_text = input()\n",
        "device=\"cuda\" if torch.cuda.is_available() else \"cpu\"\n",
        "predictions=[]\n",
        "\n",
        "for i in range(length):\n",
        "  original=df['Original'][i]\n",
        "  # final=df['Final'][i]\n",
        "  with torch.no_grad():\n",
        "    tokenized_text = tokenizer(original, truncation=True, padding=True, return_tensors='pt')\n",
        "\n",
        "    source_ids = tokenized_text['input_ids'].to(device, dtype = torch.long)\n",
        "    source_mask = tokenized_text['attention_mask'].to(device, dtype = torch.long)\n",
        "\n",
        "    generated_ids = model.generate(\n",
        "        input_ids = source_ids,\n",
        "        attention_mask = source_mask, \n",
        "        max_length=512,\n",
        "        num_beams=3,\n",
        "        repetition_penalty=1, \n",
        "        length_penalty=1,\n",
        "        early_stopping=True,\n",
        "        no_repeat_ngram_size=3\n",
        "    )\n",
        "    pred = tokenizer.decode(generated_ids[0], skip_special_tokens=True, clean_up_tokenization_spaces=True)\n",
        "    predictions.append(pred)\n",
        "\n",
        "    print(\"Original    : \",original)\n",
        "    print(\"Predictions : \",pred)\n",
        "    # print(\"final       : \",final)\n",
        "    # print('\\n\\n')\n",
        "    print(\"------------------------------------------\")\n",
        "    # print('\\n\\n')"
      ]
    },
    {
      "cell_type": "code",
      "execution_count": null,
      "metadata": {
        "id": "qkaUqj4bDhzt"
      },
      "outputs": [],
      "source": [
        "df.insert(loc=1, column='Predictions',value = predictions)"
      ]
    },
    {
      "cell_type": "code",
      "execution_count": null,
      "metadata": {
        "id": "fPgU-bTD0jC7"
      },
      "outputs": [],
      "source": [
        "df.head()"
      ]
    },
    {
      "cell_type": "code",
      "source": [
        "#experimenting"
      ],
      "metadata": {
        "id": "t3qF_GsV8zUt"
      },
      "execution_count": null,
      "outputs": []
    },
    {
      "cell_type": "code",
      "source": [
        "mydict1 = dict(zip(df[\"Original\"],df['Predictions']))\n",
        "mydict1"
      ],
      "metadata": {
        "id": "DSP_8zAZ87wO"
      },
      "execution_count": null,
      "outputs": []
    },
    {
      "cell_type": "code",
      "source": [
        "Doc2"
      ],
      "metadata": {
        "id": "fI2e24IqM2Jw"
      },
      "execution_count": null,
      "outputs": []
    },
    {
      "cell_type": "code",
      "source": [
        "#replace sentences in text\n",
        "t1 = time.perf_counter()\n",
        "\n",
        "### Your code goes here ###\n",
        "\n",
        "res1=multiple_replace(mydict1, Doc2)\n",
        "print(res1)\n",
        "t2 = time.perf_counter()\n",
        "print('time taken to run:',t2-t1)\n",
        "\n"
      ],
      "metadata": {
        "id": "ZbCPnLJuv1iE"
      },
      "execution_count": null,
      "outputs": []
    },
    {
      "cell_type": "code",
      "source": [
        "#save docs\n",
        "doc=docx.Document()\n",
        "for para in res1.split('\\n'):\n",
        "  doc.add_paragraph(para)\n",
        "doc.save(Doc_name+\" edited.docx\")"
      ],
      "metadata": {
        "id": "Uf1-bqeG87p9"
      },
      "execution_count": null,
      "outputs": []
    },
    {
      "cell_type": "code",
      "execution_count": null,
      "metadata": {
        "id": "a0vN86yaodA5"
      },
      "outputs": [],
      "source": [
        "import datetime\n",
        "import pytz"
      ]
    },
    {
      "cell_type": "code",
      "execution_count": null,
      "metadata": {
        "id": "AsuBO-0dod9n"
      },
      "outputs": [],
      "source": [
        "#for dynamic variable\n",
        "UTC=pytz.utc\n",
        "IST=pytz.timezone('Asia/Kolkata')\n",
        "dt=datetime.datetime.now(IST)\n",
        "dt2=dt.strftime(\"%d-%m-%y\")\n",
        "dt3=dt.strftime(\"%H:%M:%S\")"
      ]
    },
    {
      "cell_type": "code",
      "execution_count": null,
      "metadata": {
        "id": "xZ0jJ5vLjrSV"
      },
      "outputs": [],
      "source": [
        "print(\"--- %s seconds ---\" % (time.time() - start_time))"
      ]
    },
    {
      "cell_type": "code",
      "execution_count": null,
      "metadata": {
        "id": "2CCxguVbBBxR"
      },
      "outputs": [],
      "source": [
        "t_time=time.time() - start_time\n",
        "hours = t_time // 3600\n",
        "minutes = t_time // 60 - hours * 60\n",
        "\n",
        "len = \"%d:%02d\" % (hours, minutes)\n",
        "\n",
        "print(f'Execution time Hrs:Min -',len)"
      ]
    },
    {
      "cell_type": "code",
      "execution_count": null,
      "metadata": {
        "id": "7TrnEKi1j5tL"
      },
      "outputs": [],
      "source": [
        "# from spacy.lang.en import English\n",
        "\n",
        "# nlp = English()\n",
        "# sentencizer = nlp.add_pipe(\"sentencizer\")\n",
        "# doc1 = sentencizer(Doc)\n"
      ]
    },
    {
      "cell_type": "code",
      "source": [
        "# print(doc)"
      ],
      "metadata": {
        "id": "nG_hQcMMQH6g"
      },
      "execution_count": null,
      "outputs": []
    },
    {
      "cell_type": "code",
      "source": [
        "a=['Ashwanth shubham nidhi', ' Sefali', 'tara dilip']\n",
        "t=[i for i in a.split(\" \") if len(i) > 2]\n",
        "t"
      ],
      "metadata": {
        "colab": {
          "base_uri": "https://localhost:8080/",
          "height": 200
        },
        "id": "LeTiPb5sQxt-",
        "outputId": "16733163-e603-43fc-87b7-d7c68d1237f2"
      },
      "execution_count": null,
      "outputs": [
        {
          "output_type": "error",
          "ename": "AttributeError",
          "evalue": "ignored",
          "traceback": [
            "\u001b[0;31m---------------------------------------------------------------------------\u001b[0m",
            "\u001b[0;31mAttributeError\u001b[0m                            Traceback (most recent call last)",
            "\u001b[0;32m<ipython-input-24-581cc252319e>\u001b[0m in \u001b[0;36m<module>\u001b[0;34m\u001b[0m\n\u001b[1;32m      1\u001b[0m \u001b[0ma\u001b[0m\u001b[0;34m=\u001b[0m\u001b[0;34m[\u001b[0m\u001b[0;34m'Ashwanth shubham nidhi'\u001b[0m\u001b[0;34m,\u001b[0m \u001b[0;34m' Sefali'\u001b[0m\u001b[0;34m,\u001b[0m \u001b[0;34m'tara dilip'\u001b[0m\u001b[0;34m]\u001b[0m\u001b[0;34m\u001b[0m\u001b[0;34m\u001b[0m\u001b[0m\n\u001b[0;32m----> 2\u001b[0;31m \u001b[0mt\u001b[0m\u001b[0;34m=\u001b[0m\u001b[0;34m[\u001b[0m\u001b[0mi\u001b[0m \u001b[0;32mfor\u001b[0m \u001b[0mi\u001b[0m \u001b[0;32min\u001b[0m \u001b[0ma\u001b[0m\u001b[0;34m.\u001b[0m\u001b[0msplit\u001b[0m\u001b[0;34m(\u001b[0m\u001b[0;34m\" \"\u001b[0m\u001b[0;34m)\u001b[0m \u001b[0;32mif\u001b[0m \u001b[0mlen\u001b[0m\u001b[0;34m(\u001b[0m\u001b[0mi\u001b[0m\u001b[0;34m)\u001b[0m \u001b[0;34m>\u001b[0m \u001b[0;36m2\u001b[0m\u001b[0;34m]\u001b[0m\u001b[0;34m\u001b[0m\u001b[0;34m\u001b[0m\u001b[0m\n\u001b[0m\u001b[1;32m      3\u001b[0m \u001b[0mt\u001b[0m\u001b[0;34m\u001b[0m\u001b[0;34m\u001b[0m\u001b[0m\n",
            "\u001b[0;31mAttributeError\u001b[0m: 'list' object has no attribute 'split'"
          ]
        }
      ]
    },
    {
      "cell_type": "code",
      "source": [],
      "metadata": {
        "id": "3Lsi9gK18-ja"
      },
      "execution_count": null,
      "outputs": []
    }
  ],
  "metadata": {
    "colab": {
      "collapsed_sections": [],
      "machine_shape": "hm",
      "provenance": [],
      "include_colab_link": true
    },
    "gpuClass": "standard",
    "kernelspec": {
      "display_name": "Python 3",
      "name": "python3"
    },
    "language_info": {
      "name": "python"
    },
    "widgets": {
      "application/vnd.jupyter.widget-state+json": {
        "4811c7608cf040ab8741fcc919a91aef": {
          "model_module": "@jupyter-widgets/controls",
          "model_name": "HBoxModel",
          "model_module_version": "1.5.0",
          "state": {
            "_dom_classes": [],
            "_model_module": "@jupyter-widgets/controls",
            "_model_module_version": "1.5.0",
            "_model_name": "HBoxModel",
            "_view_count": null,
            "_view_module": "@jupyter-widgets/controls",
            "_view_module_version": "1.5.0",
            "_view_name": "HBoxView",
            "box_style": "",
            "children": [
              "IPY_MODEL_0a72083a862c4a6f80607c8d382315e1",
              "IPY_MODEL_8affb7fcaa754b038ba183d8b776482c",
              "IPY_MODEL_c4632e7a263b41e89530aeb85569dadd"
            ],
            "layout": "IPY_MODEL_89c708ed76c948b1939718359c545e2c"
          }
        },
        "0a72083a862c4a6f80607c8d382315e1": {
          "model_module": "@jupyter-widgets/controls",
          "model_name": "HTMLModel",
          "model_module_version": "1.5.0",
          "state": {
            "_dom_classes": [],
            "_model_module": "@jupyter-widgets/controls",
            "_model_module_version": "1.5.0",
            "_model_name": "HTMLModel",
            "_view_count": null,
            "_view_module": "@jupyter-widgets/controls",
            "_view_module_version": "1.5.0",
            "_view_name": "HTMLView",
            "description": "",
            "description_tooltip": null,
            "layout": "IPY_MODEL_fd840e38ff4443b3bb4778e69ba37c5b",
            "placeholder": "​",
            "style": "IPY_MODEL_b099d5b5382e4d0d8092ec66cf32cc05",
            "value": "Downloading: 100%"
          }
        },
        "8affb7fcaa754b038ba183d8b776482c": {
          "model_module": "@jupyter-widgets/controls",
          "model_name": "FloatProgressModel",
          "model_module_version": "1.5.0",
          "state": {
            "_dom_classes": [],
            "_model_module": "@jupyter-widgets/controls",
            "_model_module_version": "1.5.0",
            "_model_name": "FloatProgressModel",
            "_view_count": null,
            "_view_module": "@jupyter-widgets/controls",
            "_view_module_version": "1.5.0",
            "_view_name": "ProgressView",
            "bar_style": "success",
            "description": "",
            "description_tooltip": null,
            "layout": "IPY_MODEL_e54141f663884a2ca7c4c6ab703ac86f",
            "max": 1199,
            "min": 0,
            "orientation": "horizontal",
            "style": "IPY_MODEL_46aed7fcff094c8dbdbfb396cf4739ec",
            "value": 1199
          }
        },
        "c4632e7a263b41e89530aeb85569dadd": {
          "model_module": "@jupyter-widgets/controls",
          "model_name": "HTMLModel",
          "model_module_version": "1.5.0",
          "state": {
            "_dom_classes": [],
            "_model_module": "@jupyter-widgets/controls",
            "_model_module_version": "1.5.0",
            "_model_name": "HTMLModel",
            "_view_count": null,
            "_view_module": "@jupyter-widgets/controls",
            "_view_module_version": "1.5.0",
            "_view_name": "HTMLView",
            "description": "",
            "description_tooltip": null,
            "layout": "IPY_MODEL_02bd0c1d583b4cf3bd29ae2fd77f1536",
            "placeholder": "​",
            "style": "IPY_MODEL_07e48238412d4f0ea88b4118394c36d8",
            "value": " 1.20k/1.20k [00:00&lt;00:00, 35.1kB/s]"
          }
        },
        "89c708ed76c948b1939718359c545e2c": {
          "model_module": "@jupyter-widgets/base",
          "model_name": "LayoutModel",
          "model_module_version": "1.2.0",
          "state": {
            "_model_module": "@jupyter-widgets/base",
            "_model_module_version": "1.2.0",
            "_model_name": "LayoutModel",
            "_view_count": null,
            "_view_module": "@jupyter-widgets/base",
            "_view_module_version": "1.2.0",
            "_view_name": "LayoutView",
            "align_content": null,
            "align_items": null,
            "align_self": null,
            "border": null,
            "bottom": null,
            "display": null,
            "flex": null,
            "flex_flow": null,
            "grid_area": null,
            "grid_auto_columns": null,
            "grid_auto_flow": null,
            "grid_auto_rows": null,
            "grid_column": null,
            "grid_gap": null,
            "grid_row": null,
            "grid_template_areas": null,
            "grid_template_columns": null,
            "grid_template_rows": null,
            "height": null,
            "justify_content": null,
            "justify_items": null,
            "left": null,
            "margin": null,
            "max_height": null,
            "max_width": null,
            "min_height": null,
            "min_width": null,
            "object_fit": null,
            "object_position": null,
            "order": null,
            "overflow": null,
            "overflow_x": null,
            "overflow_y": null,
            "padding": null,
            "right": null,
            "top": null,
            "visibility": null,
            "width": null
          }
        },
        "fd840e38ff4443b3bb4778e69ba37c5b": {
          "model_module": "@jupyter-widgets/base",
          "model_name": "LayoutModel",
          "model_module_version": "1.2.0",
          "state": {
            "_model_module": "@jupyter-widgets/base",
            "_model_module_version": "1.2.0",
            "_model_name": "LayoutModel",
            "_view_count": null,
            "_view_module": "@jupyter-widgets/base",
            "_view_module_version": "1.2.0",
            "_view_name": "LayoutView",
            "align_content": null,
            "align_items": null,
            "align_self": null,
            "border": null,
            "bottom": null,
            "display": null,
            "flex": null,
            "flex_flow": null,
            "grid_area": null,
            "grid_auto_columns": null,
            "grid_auto_flow": null,
            "grid_auto_rows": null,
            "grid_column": null,
            "grid_gap": null,
            "grid_row": null,
            "grid_template_areas": null,
            "grid_template_columns": null,
            "grid_template_rows": null,
            "height": null,
            "justify_content": null,
            "justify_items": null,
            "left": null,
            "margin": null,
            "max_height": null,
            "max_width": null,
            "min_height": null,
            "min_width": null,
            "object_fit": null,
            "object_position": null,
            "order": null,
            "overflow": null,
            "overflow_x": null,
            "overflow_y": null,
            "padding": null,
            "right": null,
            "top": null,
            "visibility": null,
            "width": null
          }
        },
        "b099d5b5382e4d0d8092ec66cf32cc05": {
          "model_module": "@jupyter-widgets/controls",
          "model_name": "DescriptionStyleModel",
          "model_module_version": "1.5.0",
          "state": {
            "_model_module": "@jupyter-widgets/controls",
            "_model_module_version": "1.5.0",
            "_model_name": "DescriptionStyleModel",
            "_view_count": null,
            "_view_module": "@jupyter-widgets/base",
            "_view_module_version": "1.2.0",
            "_view_name": "StyleView",
            "description_width": ""
          }
        },
        "e54141f663884a2ca7c4c6ab703ac86f": {
          "model_module": "@jupyter-widgets/base",
          "model_name": "LayoutModel",
          "model_module_version": "1.2.0",
          "state": {
            "_model_module": "@jupyter-widgets/base",
            "_model_module_version": "1.2.0",
            "_model_name": "LayoutModel",
            "_view_count": null,
            "_view_module": "@jupyter-widgets/base",
            "_view_module_version": "1.2.0",
            "_view_name": "LayoutView",
            "align_content": null,
            "align_items": null,
            "align_self": null,
            "border": null,
            "bottom": null,
            "display": null,
            "flex": null,
            "flex_flow": null,
            "grid_area": null,
            "grid_auto_columns": null,
            "grid_auto_flow": null,
            "grid_auto_rows": null,
            "grid_column": null,
            "grid_gap": null,
            "grid_row": null,
            "grid_template_areas": null,
            "grid_template_columns": null,
            "grid_template_rows": null,
            "height": null,
            "justify_content": null,
            "justify_items": null,
            "left": null,
            "margin": null,
            "max_height": null,
            "max_width": null,
            "min_height": null,
            "min_width": null,
            "object_fit": null,
            "object_position": null,
            "order": null,
            "overflow": null,
            "overflow_x": null,
            "overflow_y": null,
            "padding": null,
            "right": null,
            "top": null,
            "visibility": null,
            "width": null
          }
        },
        "46aed7fcff094c8dbdbfb396cf4739ec": {
          "model_module": "@jupyter-widgets/controls",
          "model_name": "ProgressStyleModel",
          "model_module_version": "1.5.0",
          "state": {
            "_model_module": "@jupyter-widgets/controls",
            "_model_module_version": "1.5.0",
            "_model_name": "ProgressStyleModel",
            "_view_count": null,
            "_view_module": "@jupyter-widgets/base",
            "_view_module_version": "1.2.0",
            "_view_name": "StyleView",
            "bar_color": null,
            "description_width": ""
          }
        },
        "02bd0c1d583b4cf3bd29ae2fd77f1536": {
          "model_module": "@jupyter-widgets/base",
          "model_name": "LayoutModel",
          "model_module_version": "1.2.0",
          "state": {
            "_model_module": "@jupyter-widgets/base",
            "_model_module_version": "1.2.0",
            "_model_name": "LayoutModel",
            "_view_count": null,
            "_view_module": "@jupyter-widgets/base",
            "_view_module_version": "1.2.0",
            "_view_name": "LayoutView",
            "align_content": null,
            "align_items": null,
            "align_self": null,
            "border": null,
            "bottom": null,
            "display": null,
            "flex": null,
            "flex_flow": null,
            "grid_area": null,
            "grid_auto_columns": null,
            "grid_auto_flow": null,
            "grid_auto_rows": null,
            "grid_column": null,
            "grid_gap": null,
            "grid_row": null,
            "grid_template_areas": null,
            "grid_template_columns": null,
            "grid_template_rows": null,
            "height": null,
            "justify_content": null,
            "justify_items": null,
            "left": null,
            "margin": null,
            "max_height": null,
            "max_width": null,
            "min_height": null,
            "min_width": null,
            "object_fit": null,
            "object_position": null,
            "order": null,
            "overflow": null,
            "overflow_x": null,
            "overflow_y": null,
            "padding": null,
            "right": null,
            "top": null,
            "visibility": null,
            "width": null
          }
        },
        "07e48238412d4f0ea88b4118394c36d8": {
          "model_module": "@jupyter-widgets/controls",
          "model_name": "DescriptionStyleModel",
          "model_module_version": "1.5.0",
          "state": {
            "_model_module": "@jupyter-widgets/controls",
            "_model_module_version": "1.5.0",
            "_model_name": "DescriptionStyleModel",
            "_view_count": null,
            "_view_module": "@jupyter-widgets/base",
            "_view_module_version": "1.2.0",
            "_view_name": "StyleView",
            "description_width": ""
          }
        },
        "db7bc810e57942418f89867e18678de3": {
          "model_module": "@jupyter-widgets/controls",
          "model_name": "HBoxModel",
          "model_module_version": "1.5.0",
          "state": {
            "_dom_classes": [],
            "_model_module": "@jupyter-widgets/controls",
            "_model_module_version": "1.5.0",
            "_model_name": "HBoxModel",
            "_view_count": null,
            "_view_module": "@jupyter-widgets/controls",
            "_view_module_version": "1.5.0",
            "_view_name": "HBoxView",
            "box_style": "",
            "children": [
              "IPY_MODEL_4a4ecb7086964a2f81c3384f0d2f629d",
              "IPY_MODEL_86b1e9ab43af4bd7acb4f9240aca12cf",
              "IPY_MODEL_23fc60bd1920471abb7e8c727378be19"
            ],
            "layout": "IPY_MODEL_661d972312f04758a9045fcb05d1dcbe"
          }
        },
        "4a4ecb7086964a2f81c3384f0d2f629d": {
          "model_module": "@jupyter-widgets/controls",
          "model_name": "HTMLModel",
          "model_module_version": "1.5.0",
          "state": {
            "_dom_classes": [],
            "_model_module": "@jupyter-widgets/controls",
            "_model_module_version": "1.5.0",
            "_model_name": "HTMLModel",
            "_view_count": null,
            "_view_module": "@jupyter-widgets/controls",
            "_view_module_version": "1.5.0",
            "_view_name": "HTMLView",
            "description": "",
            "description_tooltip": null,
            "layout": "IPY_MODEL_6051c60cc3664795a90a4a256f3ece9a",
            "placeholder": "​",
            "style": "IPY_MODEL_ab47ea68fd37419689177bbfe518685e",
            "value": "Downloading: 100%"
          }
        },
        "86b1e9ab43af4bd7acb4f9240aca12cf": {
          "model_module": "@jupyter-widgets/controls",
          "model_name": "FloatProgressModel",
          "model_module_version": "1.5.0",
          "state": {
            "_dom_classes": [],
            "_model_module": "@jupyter-widgets/controls",
            "_model_module_version": "1.5.0",
            "_model_name": "FloatProgressModel",
            "_view_count": null,
            "_view_module": "@jupyter-widgets/controls",
            "_view_module_version": "1.5.0",
            "_view_name": "ProgressView",
            "bar_style": "success",
            "description": "",
            "description_tooltip": null,
            "layout": "IPY_MODEL_30259c3d5e6a4be0b35812047a2b9fb7",
            "max": 791656,
            "min": 0,
            "orientation": "horizontal",
            "style": "IPY_MODEL_b6aa3d85549b497f9df1d839ba845ef7",
            "value": 791656
          }
        },
        "23fc60bd1920471abb7e8c727378be19": {
          "model_module": "@jupyter-widgets/controls",
          "model_name": "HTMLModel",
          "model_module_version": "1.5.0",
          "state": {
            "_dom_classes": [],
            "_model_module": "@jupyter-widgets/controls",
            "_model_module_version": "1.5.0",
            "_model_name": "HTMLModel",
            "_view_count": null,
            "_view_module": "@jupyter-widgets/controls",
            "_view_module_version": "1.5.0",
            "_view_name": "HTMLView",
            "description": "",
            "description_tooltip": null,
            "layout": "IPY_MODEL_2cb3b5cde0424f719f537794711d63af",
            "placeholder": "​",
            "style": "IPY_MODEL_78fc9a7c0a1e4a44a7633a462dc2528e",
            "value": " 792k/792k [00:01&lt;00:00, 1.08MB/s]"
          }
        },
        "661d972312f04758a9045fcb05d1dcbe": {
          "model_module": "@jupyter-widgets/base",
          "model_name": "LayoutModel",
          "model_module_version": "1.2.0",
          "state": {
            "_model_module": "@jupyter-widgets/base",
            "_model_module_version": "1.2.0",
            "_model_name": "LayoutModel",
            "_view_count": null,
            "_view_module": "@jupyter-widgets/base",
            "_view_module_version": "1.2.0",
            "_view_name": "LayoutView",
            "align_content": null,
            "align_items": null,
            "align_self": null,
            "border": null,
            "bottom": null,
            "display": null,
            "flex": null,
            "flex_flow": null,
            "grid_area": null,
            "grid_auto_columns": null,
            "grid_auto_flow": null,
            "grid_auto_rows": null,
            "grid_column": null,
            "grid_gap": null,
            "grid_row": null,
            "grid_template_areas": null,
            "grid_template_columns": null,
            "grid_template_rows": null,
            "height": null,
            "justify_content": null,
            "justify_items": null,
            "left": null,
            "margin": null,
            "max_height": null,
            "max_width": null,
            "min_height": null,
            "min_width": null,
            "object_fit": null,
            "object_position": null,
            "order": null,
            "overflow": null,
            "overflow_x": null,
            "overflow_y": null,
            "padding": null,
            "right": null,
            "top": null,
            "visibility": null,
            "width": null
          }
        },
        "6051c60cc3664795a90a4a256f3ece9a": {
          "model_module": "@jupyter-widgets/base",
          "model_name": "LayoutModel",
          "model_module_version": "1.2.0",
          "state": {
            "_model_module": "@jupyter-widgets/base",
            "_model_module_version": "1.2.0",
            "_model_name": "LayoutModel",
            "_view_count": null,
            "_view_module": "@jupyter-widgets/base",
            "_view_module_version": "1.2.0",
            "_view_name": "LayoutView",
            "align_content": null,
            "align_items": null,
            "align_self": null,
            "border": null,
            "bottom": null,
            "display": null,
            "flex": null,
            "flex_flow": null,
            "grid_area": null,
            "grid_auto_columns": null,
            "grid_auto_flow": null,
            "grid_auto_rows": null,
            "grid_column": null,
            "grid_gap": null,
            "grid_row": null,
            "grid_template_areas": null,
            "grid_template_columns": null,
            "grid_template_rows": null,
            "height": null,
            "justify_content": null,
            "justify_items": null,
            "left": null,
            "margin": null,
            "max_height": null,
            "max_width": null,
            "min_height": null,
            "min_width": null,
            "object_fit": null,
            "object_position": null,
            "order": null,
            "overflow": null,
            "overflow_x": null,
            "overflow_y": null,
            "padding": null,
            "right": null,
            "top": null,
            "visibility": null,
            "width": null
          }
        },
        "ab47ea68fd37419689177bbfe518685e": {
          "model_module": "@jupyter-widgets/controls",
          "model_name": "DescriptionStyleModel",
          "model_module_version": "1.5.0",
          "state": {
            "_model_module": "@jupyter-widgets/controls",
            "_model_module_version": "1.5.0",
            "_model_name": "DescriptionStyleModel",
            "_view_count": null,
            "_view_module": "@jupyter-widgets/base",
            "_view_module_version": "1.2.0",
            "_view_name": "StyleView",
            "description_width": ""
          }
        },
        "30259c3d5e6a4be0b35812047a2b9fb7": {
          "model_module": "@jupyter-widgets/base",
          "model_name": "LayoutModel",
          "model_module_version": "1.2.0",
          "state": {
            "_model_module": "@jupyter-widgets/base",
            "_model_module_version": "1.2.0",
            "_model_name": "LayoutModel",
            "_view_count": null,
            "_view_module": "@jupyter-widgets/base",
            "_view_module_version": "1.2.0",
            "_view_name": "LayoutView",
            "align_content": null,
            "align_items": null,
            "align_self": null,
            "border": null,
            "bottom": null,
            "display": null,
            "flex": null,
            "flex_flow": null,
            "grid_area": null,
            "grid_auto_columns": null,
            "grid_auto_flow": null,
            "grid_auto_rows": null,
            "grid_column": null,
            "grid_gap": null,
            "grid_row": null,
            "grid_template_areas": null,
            "grid_template_columns": null,
            "grid_template_rows": null,
            "height": null,
            "justify_content": null,
            "justify_items": null,
            "left": null,
            "margin": null,
            "max_height": null,
            "max_width": null,
            "min_height": null,
            "min_width": null,
            "object_fit": null,
            "object_position": null,
            "order": null,
            "overflow": null,
            "overflow_x": null,
            "overflow_y": null,
            "padding": null,
            "right": null,
            "top": null,
            "visibility": null,
            "width": null
          }
        },
        "b6aa3d85549b497f9df1d839ba845ef7": {
          "model_module": "@jupyter-widgets/controls",
          "model_name": "ProgressStyleModel",
          "model_module_version": "1.5.0",
          "state": {
            "_model_module": "@jupyter-widgets/controls",
            "_model_module_version": "1.5.0",
            "_model_name": "ProgressStyleModel",
            "_view_count": null,
            "_view_module": "@jupyter-widgets/base",
            "_view_module_version": "1.2.0",
            "_view_name": "StyleView",
            "bar_color": null,
            "description_width": ""
          }
        },
        "2cb3b5cde0424f719f537794711d63af": {
          "model_module": "@jupyter-widgets/base",
          "model_name": "LayoutModel",
          "model_module_version": "1.2.0",
          "state": {
            "_model_module": "@jupyter-widgets/base",
            "_model_module_version": "1.2.0",
            "_model_name": "LayoutModel",
            "_view_count": null,
            "_view_module": "@jupyter-widgets/base",
            "_view_module_version": "1.2.0",
            "_view_name": "LayoutView",
            "align_content": null,
            "align_items": null,
            "align_self": null,
            "border": null,
            "bottom": null,
            "display": null,
            "flex": null,
            "flex_flow": null,
            "grid_area": null,
            "grid_auto_columns": null,
            "grid_auto_flow": null,
            "grid_auto_rows": null,
            "grid_column": null,
            "grid_gap": null,
            "grid_row": null,
            "grid_template_areas": null,
            "grid_template_columns": null,
            "grid_template_rows": null,
            "height": null,
            "justify_content": null,
            "justify_items": null,
            "left": null,
            "margin": null,
            "max_height": null,
            "max_width": null,
            "min_height": null,
            "min_width": null,
            "object_fit": null,
            "object_position": null,
            "order": null,
            "overflow": null,
            "overflow_x": null,
            "overflow_y": null,
            "padding": null,
            "right": null,
            "top": null,
            "visibility": null,
            "width": null
          }
        },
        "78fc9a7c0a1e4a44a7633a462dc2528e": {
          "model_module": "@jupyter-widgets/controls",
          "model_name": "DescriptionStyleModel",
          "model_module_version": "1.5.0",
          "state": {
            "_model_module": "@jupyter-widgets/controls",
            "_model_module_version": "1.5.0",
            "_model_name": "DescriptionStyleModel",
            "_view_count": null,
            "_view_module": "@jupyter-widgets/base",
            "_view_module_version": "1.2.0",
            "_view_name": "StyleView",
            "description_width": ""
          }
        },
        "e516aace20634d9b8aaae8ddf6fd7793": {
          "model_module": "@jupyter-widgets/controls",
          "model_name": "HBoxModel",
          "model_module_version": "1.5.0",
          "state": {
            "_dom_classes": [],
            "_model_module": "@jupyter-widgets/controls",
            "_model_module_version": "1.5.0",
            "_model_name": "HBoxModel",
            "_view_count": null,
            "_view_module": "@jupyter-widgets/controls",
            "_view_module_version": "1.5.0",
            "_view_name": "HBoxView",
            "box_style": "",
            "children": [
              "IPY_MODEL_0a1a2e27fe6e4b6bb48250abb032dc91",
              "IPY_MODEL_764a12e0acad48a3af6f2a7d1d6bb1e7",
              "IPY_MODEL_f550d373304a485a949ea163207250e4"
            ],
            "layout": "IPY_MODEL_96bcd4d4ecc74b6ca88cd4675bdd4d5d"
          }
        },
        "0a1a2e27fe6e4b6bb48250abb032dc91": {
          "model_module": "@jupyter-widgets/controls",
          "model_name": "HTMLModel",
          "model_module_version": "1.5.0",
          "state": {
            "_dom_classes": [],
            "_model_module": "@jupyter-widgets/controls",
            "_model_module_version": "1.5.0",
            "_model_name": "HTMLModel",
            "_view_count": null,
            "_view_module": "@jupyter-widgets/controls",
            "_view_module_version": "1.5.0",
            "_view_name": "HTMLView",
            "description": "",
            "description_tooltip": null,
            "layout": "IPY_MODEL_46a2fbc987b549719e472a649c1912f6",
            "placeholder": "​",
            "style": "IPY_MODEL_c3b5750029a24c3483c30e790558b4ca",
            "value": "Downloading: 100%"
          }
        },
        "764a12e0acad48a3af6f2a7d1d6bb1e7": {
          "model_module": "@jupyter-widgets/controls",
          "model_name": "FloatProgressModel",
          "model_module_version": "1.5.0",
          "state": {
            "_dom_classes": [],
            "_model_module": "@jupyter-widgets/controls",
            "_model_module_version": "1.5.0",
            "_model_name": "FloatProgressModel",
            "_view_count": null,
            "_view_module": "@jupyter-widgets/controls",
            "_view_module_version": "1.5.0",
            "_view_name": "ProgressView",
            "bar_style": "success",
            "description": "",
            "description_tooltip": null,
            "layout": "IPY_MODEL_f1530a4c12db4b3095311137bcd18698",
            "max": 1389353,
            "min": 0,
            "orientation": "horizontal",
            "style": "IPY_MODEL_5777c001186a468d8ae8b6222586eed7",
            "value": 1389353
          }
        },
        "f550d373304a485a949ea163207250e4": {
          "model_module": "@jupyter-widgets/controls",
          "model_name": "HTMLModel",
          "model_module_version": "1.5.0",
          "state": {
            "_dom_classes": [],
            "_model_module": "@jupyter-widgets/controls",
            "_model_module_version": "1.5.0",
            "_model_name": "HTMLModel",
            "_view_count": null,
            "_view_module": "@jupyter-widgets/controls",
            "_view_module_version": "1.5.0",
            "_view_name": "HTMLView",
            "description": "",
            "description_tooltip": null,
            "layout": "IPY_MODEL_e024071f463a45ba8b5b3ed3a4583f10",
            "placeholder": "​",
            "style": "IPY_MODEL_bcf2e501773943909ee199d1354be30d",
            "value": " 1.39M/1.39M [00:01&lt;00:00, 1.11MB/s]"
          }
        },
        "96bcd4d4ecc74b6ca88cd4675bdd4d5d": {
          "model_module": "@jupyter-widgets/base",
          "model_name": "LayoutModel",
          "model_module_version": "1.2.0",
          "state": {
            "_model_module": "@jupyter-widgets/base",
            "_model_module_version": "1.2.0",
            "_model_name": "LayoutModel",
            "_view_count": null,
            "_view_module": "@jupyter-widgets/base",
            "_view_module_version": "1.2.0",
            "_view_name": "LayoutView",
            "align_content": null,
            "align_items": null,
            "align_self": null,
            "border": null,
            "bottom": null,
            "display": null,
            "flex": null,
            "flex_flow": null,
            "grid_area": null,
            "grid_auto_columns": null,
            "grid_auto_flow": null,
            "grid_auto_rows": null,
            "grid_column": null,
            "grid_gap": null,
            "grid_row": null,
            "grid_template_areas": null,
            "grid_template_columns": null,
            "grid_template_rows": null,
            "height": null,
            "justify_content": null,
            "justify_items": null,
            "left": null,
            "margin": null,
            "max_height": null,
            "max_width": null,
            "min_height": null,
            "min_width": null,
            "object_fit": null,
            "object_position": null,
            "order": null,
            "overflow": null,
            "overflow_x": null,
            "overflow_y": null,
            "padding": null,
            "right": null,
            "top": null,
            "visibility": null,
            "width": null
          }
        },
        "46a2fbc987b549719e472a649c1912f6": {
          "model_module": "@jupyter-widgets/base",
          "model_name": "LayoutModel",
          "model_module_version": "1.2.0",
          "state": {
            "_model_module": "@jupyter-widgets/base",
            "_model_module_version": "1.2.0",
            "_model_name": "LayoutModel",
            "_view_count": null,
            "_view_module": "@jupyter-widgets/base",
            "_view_module_version": "1.2.0",
            "_view_name": "LayoutView",
            "align_content": null,
            "align_items": null,
            "align_self": null,
            "border": null,
            "bottom": null,
            "display": null,
            "flex": null,
            "flex_flow": null,
            "grid_area": null,
            "grid_auto_columns": null,
            "grid_auto_flow": null,
            "grid_auto_rows": null,
            "grid_column": null,
            "grid_gap": null,
            "grid_row": null,
            "grid_template_areas": null,
            "grid_template_columns": null,
            "grid_template_rows": null,
            "height": null,
            "justify_content": null,
            "justify_items": null,
            "left": null,
            "margin": null,
            "max_height": null,
            "max_width": null,
            "min_height": null,
            "min_width": null,
            "object_fit": null,
            "object_position": null,
            "order": null,
            "overflow": null,
            "overflow_x": null,
            "overflow_y": null,
            "padding": null,
            "right": null,
            "top": null,
            "visibility": null,
            "width": null
          }
        },
        "c3b5750029a24c3483c30e790558b4ca": {
          "model_module": "@jupyter-widgets/controls",
          "model_name": "DescriptionStyleModel",
          "model_module_version": "1.5.0",
          "state": {
            "_model_module": "@jupyter-widgets/controls",
            "_model_module_version": "1.5.0",
            "_model_name": "DescriptionStyleModel",
            "_view_count": null,
            "_view_module": "@jupyter-widgets/base",
            "_view_module_version": "1.2.0",
            "_view_name": "StyleView",
            "description_width": ""
          }
        },
        "f1530a4c12db4b3095311137bcd18698": {
          "model_module": "@jupyter-widgets/base",
          "model_name": "LayoutModel",
          "model_module_version": "1.2.0",
          "state": {
            "_model_module": "@jupyter-widgets/base",
            "_model_module_version": "1.2.0",
            "_model_name": "LayoutModel",
            "_view_count": null,
            "_view_module": "@jupyter-widgets/base",
            "_view_module_version": "1.2.0",
            "_view_name": "LayoutView",
            "align_content": null,
            "align_items": null,
            "align_self": null,
            "border": null,
            "bottom": null,
            "display": null,
            "flex": null,
            "flex_flow": null,
            "grid_area": null,
            "grid_auto_columns": null,
            "grid_auto_flow": null,
            "grid_auto_rows": null,
            "grid_column": null,
            "grid_gap": null,
            "grid_row": null,
            "grid_template_areas": null,
            "grid_template_columns": null,
            "grid_template_rows": null,
            "height": null,
            "justify_content": null,
            "justify_items": null,
            "left": null,
            "margin": null,
            "max_height": null,
            "max_width": null,
            "min_height": null,
            "min_width": null,
            "object_fit": null,
            "object_position": null,
            "order": null,
            "overflow": null,
            "overflow_x": null,
            "overflow_y": null,
            "padding": null,
            "right": null,
            "top": null,
            "visibility": null,
            "width": null
          }
        },
        "5777c001186a468d8ae8b6222586eed7": {
          "model_module": "@jupyter-widgets/controls",
          "model_name": "ProgressStyleModel",
          "model_module_version": "1.5.0",
          "state": {
            "_model_module": "@jupyter-widgets/controls",
            "_model_module_version": "1.5.0",
            "_model_name": "ProgressStyleModel",
            "_view_count": null,
            "_view_module": "@jupyter-widgets/base",
            "_view_module_version": "1.2.0",
            "_view_name": "StyleView",
            "bar_color": null,
            "description_width": ""
          }
        },
        "e024071f463a45ba8b5b3ed3a4583f10": {
          "model_module": "@jupyter-widgets/base",
          "model_name": "LayoutModel",
          "model_module_version": "1.2.0",
          "state": {
            "_model_module": "@jupyter-widgets/base",
            "_model_module_version": "1.2.0",
            "_model_name": "LayoutModel",
            "_view_count": null,
            "_view_module": "@jupyter-widgets/base",
            "_view_module_version": "1.2.0",
            "_view_name": "LayoutView",
            "align_content": null,
            "align_items": null,
            "align_self": null,
            "border": null,
            "bottom": null,
            "display": null,
            "flex": null,
            "flex_flow": null,
            "grid_area": null,
            "grid_auto_columns": null,
            "grid_auto_flow": null,
            "grid_auto_rows": null,
            "grid_column": null,
            "grid_gap": null,
            "grid_row": null,
            "grid_template_areas": null,
            "grid_template_columns": null,
            "grid_template_rows": null,
            "height": null,
            "justify_content": null,
            "justify_items": null,
            "left": null,
            "margin": null,
            "max_height": null,
            "max_width": null,
            "min_height": null,
            "min_width": null,
            "object_fit": null,
            "object_position": null,
            "order": null,
            "overflow": null,
            "overflow_x": null,
            "overflow_y": null,
            "padding": null,
            "right": null,
            "top": null,
            "visibility": null,
            "width": null
          }
        },
        "bcf2e501773943909ee199d1354be30d": {
          "model_module": "@jupyter-widgets/controls",
          "model_name": "DescriptionStyleModel",
          "model_module_version": "1.5.0",
          "state": {
            "_model_module": "@jupyter-widgets/controls",
            "_model_module_version": "1.5.0",
            "_model_name": "DescriptionStyleModel",
            "_view_count": null,
            "_view_module": "@jupyter-widgets/base",
            "_view_module_version": "1.2.0",
            "_view_name": "StyleView",
            "description_width": ""
          }
        }
      }
    }
  },
  "nbformat": 4,
  "nbformat_minor": 0
}