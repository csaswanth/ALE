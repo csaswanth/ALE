{
 "cells": [
  {
   "cell_type": "code",
   "execution_count": 71,
   "id": "a214cfda",
   "metadata": {
    "scrolled": true
   },
   "outputs": [
    {
     "data": {
      "text/plain": [
       "['w']"
      ]
     },
     "execution_count": 71,
     "metadata": {},
     "output_type": "execute_result"
    }
   ],
   "source": [
    "ashu='www.ashwanth@org'\n",
    "ash=re.sub(r\"www.\\S+\", \"\", ashu)\n",
    "ash\n",
    "ashu1='ASHwANTH'\n",
    "in_list=[w for w in ashu1 if not w.isupper()]\n",
    "in_list"
   ]
  },
  {
   "cell_type": "code",
   "execution_count": 55,
   "id": "23abc39f",
   "metadata": {},
   "outputs": [],
   "source": [
    "#import libraries\n",
    "from docx import Document\n",
    "import docx\n",
    "import re\n",
    "import json \n",
    "import pandas as pd\n",
    "import numpy as np\n",
    "import nltk\n",
    "from nltk.corpus import stopwords\n",
    "import spacy\n",
    "from spacy.lang.en.stop_words import STOP_WORDS\n",
    "import en_core_web_lg\n",
    "from rapidfuzz import fuzz, process\n",
    "\n",
    "\n",
    "\n",
    "nlp = spacy.load('en_core_web_lg')\n",
    "nlp.max_length = 38488877\n",
    "import time"
   ]
  },
  {
   "cell_type": "code",
   "execution_count": 56,
   "id": "5170fa79",
   "metadata": {},
   "outputs": [],
   "source": [
    "start_time = time.time()\n",
    "#import Dictionary and read\n",
    "f = open('US.txt', 'r', encoding='utf-8')\n",
    "f1 = f.read()\n",
    "en=f1.split(\"\\n\")\n",
    "en_us=np.array(en)\n",
    "en_us\n",
    "f2 = open('us2.txt', 'r', encoding='utf-8')\n",
    "f2 = f2.read()\n",
    "en2=f2.split(\"\\n\")\n",
    "en_us2=np.array(en2)"
   ]
  },
  {
   "cell_type": "code",
   "execution_count": 57,
   "id": "7db49033",
   "metadata": {},
   "outputs": [],
   "source": [
    "Stopwords = open('Stopword.txt', 'r', encoding='utf-8')\n",
    "Stopwords = Stopwords.read()\n",
    "Stopwords=Stopwords.split(\"\\n\")\n",
    "Stopwords=np.array(Stopwords)\n",
    "#Stopwords=np.array(Stopwords)"
   ]
  },
  {
   "cell_type": "code",
   "execution_count": 58,
   "id": "43b8adef",
   "metadata": {},
   "outputs": [],
   "source": [
    "char_list = open('special_characters.txt', 'r', encoding='utf-8')\n",
    "char_list = char_list.read()\n",
    "char_list=char_list.split(\"\\n\")\n",
    "char_list=np.array(char_list)"
   ]
  },
  {
   "cell_type": "code",
   "execution_count": 75,
   "id": "0c2a0157",
   "metadata": {},
   "outputs": [],
   "source": [
    "#define document importing path\n",
    "def get_data_from_word(path_to_file):\n",
    "    \n",
    "    doc_object=open(path_to_file, \"rb\")\n",
    "    \n",
    "    doc_reader=Document(doc_object)\n",
    "    data=\" \"\n",
    "    \n",
    "    for p in doc_reader.paragraphs:\n",
    "        data +=p.text+\"\\n\"\n",
    "        \n",
    "        \n",
    "    for table in doc_reader.tables:\n",
    "        for row in table.rows:\n",
    "            for cell in row.cells:\n",
    "                for p in cell.paragraphs:\n",
    "                    data +=p.text+\"\\n\"\n",
    "    return data"
   ]
  },
  {
   "cell_type": "code",
   "execution_count": 100,
   "id": "148d959a",
   "metadata": {},
   "outputs": [
    {
     "name": "stdout",
     "output_type": "stream",
     "text": [
      " Hi, this is Shubham Singh. I belong to Delhi. I did my graduation from Delhi University. After that I taught statistics and simultaneously, I was preparing for Data Scientist role as well. Right now I am working as a junior Data Scientist.\n",
      "\n",
      "\n",
      "Data Scienc\n",
      "Statisics\n",
      "Data Scienc leverages the power of Data, Mathemaics, and computer programing.\n",
      "Statisics is a branch of mathematics which is used to built predictive model.\n",
      "Data Scienc is much more advance.\n",
      "We can use Statisics for smaller dat set.\n",
      "Data Scienc evolved recently.\n",
      "Statisics is in used for a long time.\n",
      "\n",
      "\n",
      "\n",
      "Wall time: 5 ms\n"
     ]
    }
   ],
   "source": [
    "%%time\n",
    "path=\"C:/Users/chenn/Desktop/Review/\" #path of file\n",
    "Doc=get_data_from_word(path+'Data Scientist 2.docx')#import docx\n",
    "\n",
    "#Doc=\" \".join([i for i in Doc.split(' ') if len(i) > 1])\n",
    "print(Doc)"
   ]
  },
  {
   "cell_type": "markdown",
   "id": "74534e66",
   "metadata": {},
   "source": [
    "# len of spacy words for ner\n",
    "nlp.max_length =len(Doc) "
   ]
  },
  {
   "cell_type": "code",
   "execution_count": 101,
   "id": "94d0d929",
   "metadata": {},
   "outputs": [],
   "source": [
    "#Doc='the can any and DVT The are out Fig may SVT not see set use Any Jaw DNA but has for For Alu one few all two its sat bit act THE AND gel air way bar UTI gut low men Two Ace dry age SOX ACC NKX was VII XII RNA XIa IXa PGI ill PMC via non TEE INR due von had ABC Non who All bur gap end dam Box leg RPF RBF PAH ADH rod CIN HPV app old AIS ASC AGC MIS PAK HMB Our bag New led EIF six Lea now RMS Pap her she how FOR off tip bed See EEG ICU Use AED eye HTB HTD CAD CAM die wax hot tin Mix mix EMA CJD FPD far fit mid mat get him sit jig TMD  mm CEA IHC new FNA rim Rim LMS sea SMA MDM CDK day our ups yet IVC gas Pre chi ten Six JFF aim eld DPT Ltd VFF VIF top MRI She IBN too BWV sac Sac WHO ACh MHz hip HIP key ion sex Act ACR pre HAI AMS EDC his law own MRA MRS DTI TBI MLH Who Can LAA CTA PNS CNS ALS War egg CoA TCA ADP lag EBT Due arm Bed mEq HCP APN aid You ACL HRs PFS III Ion IIB IIA IVA met NRG GOG NCT cut run Gas FNH HCC FHN iBE FDA per CDC STI HIV PID IVP CPR RNS One CoV NHS era TKS try ALL AML TEL MLL BCR ABL CML bcr abl ETT CKs Mel HLA hCG hPL MIB HCG SCC Die PsA oil BMI TNF SVC SAN GFR nor why zoo add CYP GST SOD you ADs toe COG Na+ ART pit QoL lap Not IIa TCR ESO WES PCR lip pus wet Gel Mat AGM put com ECF PRT fat cat SAD HTA OXT HPA CBT ICF min Air His TIA pan LKS ASD BEP PVB ENT did DMD ask sad RPD rib CMM iii Fat LND TSS GAS mIU pin van den PPE www cdc gov hcp gay HBV MCL ECG ICM lid Sex IgM IgG Jan Dec CAS STL USA APP job TIP DRC PVR SNS Ang JGA ACE MAS ANP BNP CNP RAA MEN NEC NSE SCI BOS »°C CKD TGF STS MVR PCI TVT CHL CDa BOB OCT PAX Orr sub Low MYC BCL LEF MYF etc AVM lay pay NGP PTH pad Hip red UCL arc CVI NWB box Aid ICC cfr ear NHL row ASA map IRT ONE int icf pRb Med ROM ADL CEU PTs OTs TUR BPH EOL say HAM LCH HRP hum RTS Key hug PAG RVM MTF peg MYB CIS But ISH EMC DAs MAT Age AFH ATF FUS HHF ALH SAP CCR FDC CNA EBV TET IDH ITK SYK AKI SCr End ATN BUN FST ray TdT LCA Lou LMN TAR TDP EMG FTD ALT CDb AZD kit IGF AUB CBC CHD DKA CRL SRU ATP App VIN dye jaw Its Too NIR PAP Shi hoc AHA ESC spp UCs pTa RAS Akt Per PSV EDV ICA sec Wax pot LFS Abl Leu Myo Grb SOS GTP Ras RAF Erk myc JNK MHC APC reg IgA IgE IgD BTK SLE LPS IPA SES ROS CSF pia BBB ANS PET mTc VCW MVA jet CLI neo VCA SHD PCP CAs VTE EPC ECP Lap lot PMP Bay RBC TPN Red APL DIC ARF RHD HAP CAP MDR PNA Try Add BSW Pro PRF kHz pro NGO HRT AEH EIN BSO WHI LDL BMD ERs mcg CEE ERa ERb SGO VMS eat MDS EPP AIP ALA PBG PCT PEP Map LED ETV CDX MUC INI Her SCs SFT bcl ERG TLE BSS MSA PIs EPA HIT IFN WAT BAT bAT FSH ova CAR IPT let DNR DNI CMO DNH ANA HRD Sen VAC TAP NIH AFa AFb AFc PAR vWF FDP SVD cul GTN IVF ice TTE Off log HSV Han Inc ADM BIO ESF PSF MMA MIP ZOE USC jar anz OIs LRS ECT web TLH LRH PLN NSM lit tan pen bis gun Bis Dry MAF HLD BAC AUD OTC USE FAS AWS ECM RDB UWA Zoo Via MPR VRT NAC IBM OPG PMR GCA ESR CRP FRC TRH TSH AFI MAC big ETS Ten WWW OGS lie Yet NTS LMA ACP MPF cm× tPA LDI rat AFP PAS FIC GGT NRA VCB AUC EST TGC apt DSM NMS TTH PVS OIE SAM man ACA BCT QTM ISO OME MCC SWV LEL RCT WTP RCL UTD PDL TTF SRS ORR Koh Abu acr org LGV MSM HCV MME TKR TEs bat fox Rev yes MET KRT RET PTC ALK fix AMD cup Eye DRG KIT TRK Chi DFS pCR FNR TAD MSI MEC rid CDT MLD DDT MHT Lee Drs Sir PWB icy RLE LLE car Jet ESS HMW LMW ARs RCC PMS MHS MSH Few ETE art BPA PKU ago FDG NMO AQP HEV leo DTM PRP QLQ TOI Ooi SLN HLs Ann Tdt LCL fan PCa ATM MMR cam epi TFE der ADA LYP OCD GCT OTF ECa RMC Kit Bcl Law EHR lax UTR NMD mis soy CPB Fab MED tea UAE OCP CMV CRH GCs GRs CTS CVC ENs PGP TPO HSD hue tab bow TAC THH REM ICP MOD ROI END Out NUG Men ORs Ask net sir AZA NMR kDa NPM IMT TPM EML VCL MIC HBA DUX saw Yin TMV MSG dog UAB OAB LUT IDA <°F GPD AAs Tie AMG PYY CCK TJC PTA CAN tug PSA DSS ITD SSX Trk How ADC ITP PPD RSV ISs DES OPC MVr bio boy HTO DFO ACI cue PCL BHV FOI MDT CK+ PTK Koç PAo Pao Pio Sao Pvo Svo HbO DPG HCO HPC ACS VHL TSC Are EIS BIG VKA vac ABG PaO AEC GHB CPT wms pdf ppb nsf nih LPN VNs ATA DPA MPA LPA DSA Liu TMA FRa EOC FRα PLD Raf NFP DBA HCL WBC HRV IVa cGy SLD IDx cis Cis CpG DMT Cox PVI And EGF CDR fed raw odd EYE leu SDH MOC GDM IGT Wee hit IGH FLs MUM Cov CMR MSS TIL BTD CTL RTU Kim ESI Ian sun Jen LSI ITT BID LOH'"
   ]
  },
  {
   "cell_type": "markdown",
   "id": "1313e60f",
   "metadata": {},
   "source": [
    "# def remove_words(doc): #remove words with accents and mathemetical operations\n",
    "    in_list=re.sub(r'\\S+[A-Z]\\S+|\\S+[A-Z]', \"\", doc)\n",
    "    in_list=in_list.split(' ')\n",
    "    new_list = []\n",
    "    for line in in_list:\n",
    "        #in_list=list(set(in_list))\n",
    "        #in_list=[w for w in in_list if not w.isupper()]#remove all words with all caps\n",
    "        Doc1 = ' '.join([ele for ele in in_list.split(' ') if all(ch not in ele for ch in char_list)])# new line\n",
    "\n",
    "        #new_words = ' '.join([word for word in line.split() if not any([phrase in word for phrase in char_list])])\n",
    "        #new_list.append(new_words)\n",
    "        \n",
    "        #Doc1=' '.join(new_words)\n",
    "    return Doc1"
   ]
  },
  {
   "cell_type": "markdown",
   "id": "e7800934",
   "metadata": {},
   "source": [
    "# %%time\n",
    "Doc1=remove_words(Doc)\n",
    "len(Doc1), Doc1"
   ]
  },
  {
   "cell_type": "markdown",
   "id": "0bdb14ab",
   "metadata": {},
   "source": [
    "# loss=len(Doc)-len(Doc1)\n",
    "loss"
   ]
  },
  {
   "cell_type": "markdown",
   "id": "17194d97",
   "metadata": {},
   "source": [
    "# Extract Proper Nouns"
   ]
  },
  {
   "cell_type": "markdown",
   "id": "db1a246a",
   "metadata": {},
   "source": [
    "# import spacy\n",
    "\n",
    "def Extract_ner(ori): \n",
    "    doc = nlp(ori)\n",
    "    ori = \"\"\n",
    "    for token in doc:\n",
    "        if token.pos_ in ['PROPN']:\n",
    "            new_token = \"\"\n",
    "        elif token.pos_ == \"PUNCT\":\n",
    "            new_token = token.text\n",
    "        else:\n",
    "            new_token = \" {}\".format(token.text)\n",
    "        ori += new_token\n",
    "    ori = ori[1:]\n",
    "    ori=str(ori)\n",
    "    return ori\n"
   ]
  },
  {
   "cell_type": "markdown",
   "id": "a2f2b33d",
   "metadata": {},
   "source": [
    "# Doc1=Extract_ner(Doc)\n",
    "Doc1"
   ]
  },
  {
   "cell_type": "code",
   "execution_count": null,
   "id": "c570cd56",
   "metadata": {},
   "outputs": [],
   "source": []
  },
  {
   "cell_type": "markdown",
   "id": "90f92281",
   "metadata": {},
   "source": [
    "# loss1=len(Doc)-len(Doc1)\n",
    "loss1"
   ]
  },
  {
   "cell_type": "code",
   "execution_count": null,
   "id": "bcf4b2ca",
   "metadata": {},
   "outputs": [],
   "source": []
  },
  {
   "cell_type": "markdown",
   "id": "32ba85e8",
   "metadata": {},
   "source": [
    "# Extract proper words"
   ]
  },
  {
   "cell_type": "code",
   "execution_count": null,
   "id": "214938c4",
   "metadata": {},
   "outputs": [],
   "source": [
    "    "
   ]
  },
  {
   "cell_type": "code",
   "execution_count": 102,
   "id": "fb3b5d0d",
   "metadata": {},
   "outputs": [
    {
     "data": {
      "text/plain": [
       "'def extract_proper_nouns(text):\\n    text=nlp(text)\\n    pos = [tok.i for tok in text if tok.tag_ != \"NNP\"]\\n    consecutives = []\\n    current = []\\n    for elt in pos:\\n        if len(current) == 0:\\n            current.append(elt)\\n        else:\\n            if current[-1] == elt - 1:\\n                current.append(elt)\\n            else:\\n                consecutives.append(current)\\n                current = [elt]\\n    if len(current) != 0:\\n        consecutives.append(current)\\n    text= [text[consecutive[0]:consecutive[-1]+1] for consecutive in consecutives]\\n    text=\\' \\'.join([token.text_with_ws for token in text])\\n    #text=text.split(\" \")\\n    #text= [word for word in text if word not in Stopwords]#remove stop words\\n    return text'"
      ]
     },
     "execution_count": 102,
     "metadata": {},
     "output_type": "execute_result"
    }
   ],
   "source": [
    "\"\"\"def extract_proper_nouns(text):\n",
    "    text=nlp(text)\n",
    "    pos = [tok.i for tok in text if tok.tag_ != \"NNP\"]\n",
    "    consecutives = []\n",
    "    current = []\n",
    "    for elt in pos:\n",
    "        if len(current) == 0:\n",
    "            current.append(elt)\n",
    "        else:\n",
    "            if current[-1] == elt - 1:\n",
    "                current.append(elt)\n",
    "            else:\n",
    "                consecutives.append(current)\n",
    "                current = [elt]\n",
    "    if len(current) != 0:\n",
    "        consecutives.append(current)\n",
    "    text= [text[consecutive[0]:consecutive[-1]+1] for consecutive in consecutives]\n",
    "    text=' '.join([token.text_with_ws for token in text])\n",
    "    #text=text.split(\" \")\n",
    "    #text= [word for word in text if word not in Stopwords]#remove stop words\n",
    "    return text\"\"\""
   ]
  },
  {
   "cell_type": "code",
   "execution_count": 103,
   "id": "9609b02e",
   "metadata": {},
   "outputs": [],
   "source": [
    "#Doc1=extract_proper_nouns(Doc)"
   ]
  },
  {
   "cell_type": "code",
   "execution_count": 104,
   "id": "8527aa1f",
   "metadata": {},
   "outputs": [],
   "source": [
    "# Remove proper nouns"
   ]
  },
  {
   "cell_type": "code",
   "execution_count": 105,
   "id": "0f58ae4d",
   "metadata": {},
   "outputs": [],
   "source": [
    "def Clean(text):\n",
    "    #en_us=\" \" #give path to dictionary\n",
    "    \n",
    "    #text= re.sub('\\n', \" \", text)\n",
    "    #text= re.sub(r'[A-Za-z0-9]*@[A-Za-z]*\\.?[A-Za-z0-9]*', \"\", text)\n",
    "    #text= re.sub(r'www.\\S+', \"\", text)\n",
    "    #text=re.sub(r\"http:\\S+\", \"\", text)\n",
    "    #text=re.sub(r\"\\S+@\\S+|\\S+@\", \"\", text)\n",
    "    #text=re.sub(r'\\S+.com|\\S+.edu|\\S+.org', '', text)\n",
    "    #text=re.sub(r\"^fig\\S+\", \" \", text)\n",
    "    #text=re.sub(r\"[\\d]\",\" \",text)# remove all digits\n",
    "    #text=re.sub(r\"=\",\" \",text)\n",
    "    #proper noun\n",
    "    doc = nlp(text)\n",
    "    ori = \"\"\n",
    "    for token in doc:\n",
    "        if token.pos_ in ['PROPN']:\n",
    "            new_token = \"\"\n",
    "        elif token.pos_ == \"PUNCT\":\n",
    "            new_token = token.text\n",
    "        else:\n",
    "            new_token = \" {}\".format(token.text)\n",
    "        ori += new_token\n",
    "    ori = ori[1:]\n",
    "    text=str(ori)\n",
    "    \n",
    "    \n",
    "    text = ' '.join([ele for ele in text.split(' ') if all(ch not in ele for ch in char_list)])# new code line to remove special character words\n",
    "    \n",
    "    text=re.sub(r\"[^\\w'\\w]\",\" \",text)#remove all special characters except \"'\"\n",
    "    text=re.sub(\"'$|^'\", \" \", text)\n",
    "    text=re.sub(r'\\S+[A-Z]\\S+|\\S+[A-Z]', \"\", text)#remove words with capitals in between new code\n",
    "    \n",
    "    #text=' '.join([w for w in text.split() if len(w)>4])\n",
    "    #text=re.sub(r'\\b\\s{1,4}\\b', ' ', text)#remove words lesthan 3\n",
    "    text=re.sub(' +', ' ', text)\n",
    "    #text=' '.join([i for i in text.split(' ') if len(i) > 1])\n",
    "    #proper nouns new\n",
    "    \n",
    "    \n",
    "    \n",
    "    #to find wrong words\n",
    "    #text=text.lower()\n",
    "    #text=text.split(\" \")\n",
    "    #text=[w for w in text.lower().split(' ') if len(w)>4]\n",
    "    text= [word for word in text.lower().split(' ') if word not in Stopwords]#remove stop words\n",
    "    \n",
    "    #text= re.sub('\\n', \"\", text)\n",
    "    while '' in text:\n",
    "        text.remove('')\n",
    "    \n",
    "    return (text)\n"
   ]
  },
  {
   "cell_type": "markdown",
   "id": "829f9e91",
   "metadata": {},
   "source": [
    "# %%time\n",
    "lookups=Clean(Doc) #clean Document\n",
    "lookups=list(dict.fromkeys(lookups))\n",
    "print(len(lookups),lookups)"
   ]
  },
  {
   "cell_type": "markdown",
   "id": "9615f5d3",
   "metadata": {},
   "source": [
    "# lookups=Clean(Doc) #clean Document\n",
    "lookups=list(dict.fromkeys(lookups))\n",
    "lookups"
   ]
  },
  {
   "cell_type": "markdown",
   "id": "88fd3756",
   "metadata": {},
   "source": [
    "# len(lookups)"
   ]
  },
  {
   "cell_type": "code",
   "execution_count": 115,
   "id": "b7b45c64",
   "metadata": {},
   "outputs": [],
   "source": [
    "def Clean1(text):\n",
    "    #en_us=\" \" #give path to dictionary\n",
    "    \n",
    "    #text1= re.sub('\\n', \" \", text1)\n",
    "    #text1= re.sub(r'[A-Za-z0-9]*@[A-Za-z]*\\.?[A-Za-z0-9]*', \"\", text1)#email\n",
    "    #text1= re.sub(r'www.\\S+', \"\", text1)#url\n",
    "    #text1=re.sub(r\"http\\S+\", \"\", text1)#url\n",
    "    #text1=re.sub(r\"^fig\\S+\", \"\", text1)#figures\n",
    "    #text1=re.sub(r\"\\S+@\\S+|\\S+@\", \"\", text1)#mail ids\n",
    "    #text1=re.sub(r'\\S+.com|\\S+.edu|\\S+.org', '', text1)#domain\n",
    "    #text1=re.sub(r\"[\\d]\",\" \",text1)\n",
    "    #text1=re.sub(r\"=\",\" \",text1)\n",
    "    #proper nouns new\n",
    "    doc = nlp(text)\n",
    "    ori = \"\"\n",
    "    for token in doc:\n",
    "        if token.ent_type_ in ['PERSON', 'GPE']:\n",
    "            new_token = \"\"\n",
    "        elif token.pos_ == \"PUNCT\":\n",
    "            new_token = token.text\n",
    "        else:\n",
    "            new_token = \" {}\".format(token.text)\n",
    "        ori += new_token\n",
    "    ori = ori[1:]\n",
    "    text=str(ori)\n",
    "    text=' '.join(list(set(text.split(' '))))\n",
    "    text = ' '.join([ele for ele in text.split(' ') if all(ch not in ele for ch in char_list)])# new code line to remove special character words\n",
    "    \n",
    "    text=re.sub(r\"[^\\w'\\w]\",\" \",text)#remove all special characters except \"'\"\n",
    "    \n",
    "    text=re.sub(r'\\S+[A-Z]\\S+|\\S+[A-Z]', \" \", text)#remove words with capitals in between new code\n",
    "    #text=re.sub(r'\\b(\\s{1,2}|\\w{5,})\\b', ' ', text)#remove words greater than 3\n",
    "    #text=re.sub('\\s+', ' ', text)\n",
    "    #text=' '.join([i for i in text.split(' ') if len(i) > 1])\n",
    "    text=re.sub(\"'$\", \"\", text)\n",
    "    text=re.sub(\"^'\", \"\", text)\n",
    "    \n",
    "    \n",
    "    #to find wrong words\n",
    "    #text=text.lower()\n",
    "    #text=text.split(\" \")\n",
    "    text=' '.join([i for i in text.lower().split(\" \") if len(i) > 2])\n",
    "    #text=[w for w in text.lower().split(\" \") if len(w)<5 and len(w)>2]\n",
    "    text= [word for word in text.lower().split(\" \") if word not in Stopwords]#remove stop words\n",
    "    #text= re.sub('\\n', \"\", text)\n",
    "    while '' in text:\n",
    "        text.remove('')\n",
    "    \n",
    "    return (text)"
   ]
  },
  {
   "cell_type": "code",
   "execution_count": 116,
   "id": "be079b85",
   "metadata": {},
   "outputs": [
    {
     "name": "stdout",
     "output_type": "stream",
     "text": [
      "Wall time: 512 ms\n"
     ]
    }
   ],
   "source": [
    "%%time\n",
    "clean_text=Clean1(Doc) #clean Document\n",
    "clean_text=list(dict.fromkeys(clean_text))"
   ]
  },
  {
   "cell_type": "code",
   "execution_count": 117,
   "id": "403f540f",
   "metadata": {},
   "outputs": [
    {
     "data": {
      "text/plain": [
       "['statisics', 'scienc', 'mathemaics']"
      ]
     },
     "execution_count": 117,
     "metadata": {},
     "output_type": "execute_result"
    }
   ],
   "source": [
    "clean_text"
   ]
  },
  {
   "cell_type": "code",
   "execution_count": 26,
   "id": "70cae40e",
   "metadata": {},
   "outputs": [],
   "source": [
    "lookups=[w for w in clean_text if len(w)>4]\n",
    "lookups1=[w for w in clean_text if len(w)<5 and len(w)>2]"
   ]
  },
  {
   "cell_type": "code",
   "execution_count": 27,
   "id": "3af12495",
   "metadata": {},
   "outputs": [
    {
     "data": {
      "text/plain": [
       "1"
      ]
     },
     "execution_count": 27,
     "metadata": {},
     "output_type": "execute_result"
    }
   ],
   "source": [
    "len(lookups)+len(lookups1)"
   ]
  },
  {
   "cell_type": "code",
   "execution_count": 28,
   "id": "ea5ecfdd",
   "metadata": {},
   "outputs": [
    {
     "data": {
      "text/plain": [
       "(['statisics'], [])"
      ]
     },
     "execution_count": 28,
     "metadata": {},
     "output_type": "execute_result"
    }
   ],
   "source": [
    "lookups, lookups1"
   ]
  },
  {
   "cell_type": "code",
   "execution_count": 29,
   "id": "b80de6e8",
   "metadata": {},
   "outputs": [
    {
     "data": {
      "text/plain": [
       "'lookups=Clean(\"\") #clean Document\\nlookups=list(dict.fromkeys(lookups))\\nlookups'"
      ]
     },
     "execution_count": 29,
     "metadata": {},
     "output_type": "execute_result"
    }
   ],
   "source": [
    "\"\"\"lookups=Clean(\"\") #clean Document\n",
    "lookups=list(dict.fromkeys(lookups))\n",
    "lookups\"\"\""
   ]
  },
  {
   "cell_type": "code",
   "execution_count": 36,
   "id": "9d966978",
   "metadata": {},
   "outputs": [],
   "source": [
    "import datetime\n",
    "import pytz\n",
    "\n"
   ]
  },
  {
   "cell_type": "code",
   "execution_count": 37,
   "id": "101ceec5",
   "metadata": {},
   "outputs": [],
   "source": [
    "#for dynamic variable\n",
    "UTC=pytz.utc\n",
    "IST=pytz.timezone('Asia/Kolkata')\n",
    "dt=datetime.datetime.now(IST)\n",
    "dt2=t_string=dt.strftime(\"%d-%m-%y\")\n"
   ]
  },
  {
   "cell_type": "code",
   "execution_count": null,
   "id": "f82cbabd",
   "metadata": {},
   "outputs": [],
   "source": [
    "outputpath='C:/Users/chenn/Desktop/'\n",
    "df=pd.DataFrame(lookups1+lookups)\n",
    "df.to_csv(outputpath+f'missing {dt2}.csv')"
   ]
  },
  {
   "cell_type": "code",
   "execution_count": null,
   "id": "c53a55ef",
   "metadata": {},
   "outputs": [],
   "source": [
    "#Removing words less than 2 characters\n",
    "\"\"\"for i in lookups:\n",
    "    if len(i)<=3:\n",
    "        loolkups=lookups.remove(i)\n",
    "lookup=np.array(lookups)#converting Document words to numpy array\"\"\""
   ]
  },
  {
   "cell_type": "code",
   "execution_count": null,
   "id": "fff68f4b",
   "metadata": {},
   "outputs": [],
   "source": [
    "#lookups"
   ]
  },
  {
   "cell_type": "code",
   "execution_count": 30,
   "id": "935a6794",
   "metadata": {},
   "outputs": [
    {
     "data": {
      "text/plain": [
       "'#replace all keys(wrong words) with values(corrections)\\nfor key, value in Dic.items():\\n    checked = Doc.replace(key, value)#output \"checked\"\\n'"
      ]
     },
     "execution_count": 30,
     "metadata": {},
     "output_type": "execute_result"
    }
   ],
   "source": [
    "#finding mistakes and creating dictionary of corrected spellings\n",
    "res = [(lookup,) + item for lookup in lookups for item in process.extract(lookup, en_us,limit=1)]#en_us stands for dictionary, \"lookups\" stands for input file numpy array\n",
    "df = pd.DataFrame(res, columns=[\"Words\", \"Correction\", \"score\", \"id\"])\n",
    "#remove if score is less than 87%\n",
    "#indexNames = df[ (df['score'] <= 87)].index \n",
    "#df.drop(indexNames , inplace=True)\n",
    "\n",
    "text=df.drop(columns=[\"score\", \"id\"])#drop Score and Id Columns\n",
    "#text=text.drop_duplicates(['Words','Correction'])#Drop Duplicates(words which are correct)\n",
    "#text = text[text['Words'] != text['Correction']]\n",
    "Dic=text.set_index('Words').to_dict()['Correction']\n",
    "\"\"\"#replace all keys(wrong words) with values(corrections)\n",
    "for key, value in Dic.items():\n",
    "    checked = Doc.replace(key, value)#output \"checked\"\n",
    "\"\"\""
   ]
  },
  {
   "cell_type": "code",
   "execution_count": 31,
   "id": "64fc9450",
   "metadata": {
    "scrolled": true
   },
   "outputs": [
    {
     "data": {
      "text/plain": [
       "'#replace all keys(wrong words) with values(corrections)\\nfor key, value in Dic.items():\\n    checked = Doc.replace(key, value)#output \"checked\"\\n'"
      ]
     },
     "execution_count": 31,
     "metadata": {},
     "output_type": "execute_result"
    }
   ],
   "source": [
    "#finding mistakes and creating dictionary of corrected spellings for 3 and 4 letters\n",
    "res1 = [(lookup,) + item for lookup in lookups1 for item in process.extract(lookup, en_us2,limit=1)]#en_us stands for dictionary, \"lookups\" stands for input file numpy array\n",
    "df1 = pd.DataFrame(res1, columns=[\"Words\", \"Correction\", \"score\", \"id\"])\n",
    "#remove if score is less than 87%\n",
    "indexNames = df1[ (df1['score'] <= 87)].index \n",
    "#df1.drop(indexNames , inplace=True)\n",
    "\n",
    "text1=df1.drop(columns=[\"score\", \"id\"])#drop Score and Id Columns\n",
    "#text1=text1.drop_duplicates(['Words','Correction'])#Drop Duplicates(words which are correct)\n",
    "#text1 = text1[text1['Words'] != text1['Correction']]\n",
    "Dic1=text1.set_index('Words').to_dict()['Correction']\n",
    "\"\"\"#replace all keys(wrong words) with values(corrections)\n",
    "for key, value in Dic.items():\n",
    "    checked = Doc.replace(key, value)#output \"checked\"\n",
    "\"\"\""
   ]
  },
  {
   "cell_type": "code",
   "execution_count": 32,
   "id": "28d3c555",
   "metadata": {
    "scrolled": true
   },
   "outputs": [
    {
     "data": {
      "text/plain": [
       "{'statisics': 'statistics'}"
      ]
     },
     "execution_count": 32,
     "metadata": {},
     "output_type": "execute_result"
    }
   ],
   "source": [
    "DIC = {**Dic, **Dic1}\n",
    "DIC"
   ]
  },
  {
   "cell_type": "code",
   "execution_count": 46,
   "id": "b98fdd6a",
   "metadata": {},
   "outputs": [],
   "source": [
    "opath='C:/Users/chenn/Desktop/Review/Output/'"
   ]
  },
  {
   "cell_type": "code",
   "execution_count": null,
   "id": "42a55e36",
   "metadata": {},
   "outputs": [],
   "source": [
    "#replace all keys(wrong words) with values(corrections)\n",
    "doc=Document(path+'For spellcheck1.docx')\n",
    "pattern = re.compile(r'\\b(' + ' '.join(re.escape(f'\\b{key}\\b') for key in DIC.keys()) + r')\\b', re.IGNORECASE)\n",
    "#result = pattern.sub(lambda x: DIC[x.group()], paragraph.text)\n",
    "\"\"\"for i in DIC:\n",
    "    for p in doc.paragraphs:\n",
    "        if p.text.find(i)>=0:\n",
    "            p.text=pattern.sub(lambda x: DIC[x.group()], p.text)\n",
    "            \n",
    "for key, value in DIC.items():\n",
    "    for line in doc.title:\n",
    "        if key in heading.text:\n",
    "            line.text = pattern.sub(lambda x: DIC[x.group()], line.text)\n",
    "\"\"\"\n",
    "for key, value in DIC.items():\n",
    "    for paragraph in doc.paragraphs:\n",
    "        inline = paragraph.text.runs()\n",
    "        if key in paragraph.text:\n",
    "            paragraph.text = pattern.sub(lambda x: DIC[x.group()], paragraph.text)\n",
    "\n",
    "for key, value in DIC.items():\n",
    "    for table in doc.tables:\n",
    "        for row in table.rows:\n",
    "            for cell in row.cells:\n",
    "                for paragraph in cell.paragraphs:\n",
    "                    if key in paragraph.text:\n",
    "                        paragraph.text = pattern.sub(lambda x: DIC[x.group()], paragraph.text)\n",
    "                        \n",
    "doc.save(opath+f'Output/Fresh{dt2}.docx')"
   ]
  },
  {
   "cell_type": "code",
   "execution_count": 105,
   "id": "d67328d8",
   "metadata": {},
   "outputs": [
    {
     "data": {
      "text/plain": [
       "''"
      ]
     },
     "execution_count": 105,
     "metadata": {},
     "output_type": "execute_result"
    }
   ],
   "source": [
    "''"
   ]
  },
  {
   "cell_type": "code",
   "execution_count": 47,
   "id": "3c1d5b8d",
   "metadata": {},
   "outputs": [
    {
     "name": "stdout",
     "output_type": "stream",
     "text": [
      " Hi, this is Shubham Singh. I belong to Delhi. I did my graduation from Delhi University. After that I taught statistics and simultaneously, I was preparing for Data Scientist role as well. Right now I am working as a junior Data Scientist.\n",
      "\n",
      "\n",
      "Data Scienc\n",
      "Statisics\n",
      "Data Scienc leverages the power of Data, Mathematics, and computer programming.\n",
      "Statisics is a branch of mathematics which is used to built predictive model.\n",
      "Data Scienc is much more advance.\n",
      "We can use Statisics for smaller data set.\n",
      "Data Scienc evolved recently.\n",
      "Statisics is in used for a long time.\n",
      "\n",
      "\n",
      "\n"
     ]
    }
   ],
   "source": [
    "Doc2=Doc\n",
    "pattern = re.compile(r'\\b(' + '|'.join(re.escape(key) for key in DIC.keys()) + r')\\b')\n",
    "result = pattern.sub(lambda x: DIC[x.group()], Doc2)\n",
    "print(result)"
   ]
  },
  {
   "cell_type": "code",
   "execution_count": 51,
   "id": "b99cf4f0",
   "metadata": {},
   "outputs": [],
   "source": [
    "document = Document()\n",
    "\n",
    "document.add_paragraph(result)\n",
    "\n",
    "document.save(opath+f'Result Data Science{dt2}.docx')\n"
   ]
  },
  {
   "cell_type": "code",
   "execution_count": 67,
   "id": "c8b7732c",
   "metadata": {},
   "outputs": [
    {
     "name": "stdout",
     "output_type": "stream",
     "text": [
      "--- 4868.1979804039 seconds ---\n"
     ]
    }
   ],
   "source": [
    "print(\"--- %s seconds ---\" % (time.time() - start_time))\n"
   ]
  },
  {
   "cell_type": "code",
   "execution_count": 146,
   "id": "53038336",
   "metadata": {},
   "outputs": [
    {
     "name": "stdout",
     "output_type": "stream",
     "text": [
      "^C\n",
      "Note: you may need to restart the kernel to use updated packages.\n"
     ]
    }
   ],
   "source": [
    "pip uninstall docxtpl"
   ]
  },
  {
   "cell_type": "code",
   "execution_count": 145,
   "id": "e88e07fa",
   "metadata": {},
   "outputs": [],
   "source": [
    "from docxtpl import DocxTemplate\n",
    "\n",
    "doc = DocxTemplate(path+'For spellcheck1.docx')\n",
    "context = { 'company_name' : \"World company\" }\n",
    "doc.render(DIC)\n",
    "doc.save(opath+f'For spellcheck1{dt2}.docx')"
   ]
  },
  {
   "cell_type": "code",
   "execution_count": null,
   "id": "73ea79b6",
   "metadata": {},
   "outputs": [],
   "source": []
  },
  {
   "cell_type": "code",
   "execution_count": null,
   "id": "b8d0244f",
   "metadata": {},
   "outputs": [],
   "source": []
  },
  {
   "cell_type": "code",
   "execution_count": null,
   "id": "8fb688ee",
   "metadata": {},
   "outputs": [],
   "source": []
  },
  {
   "cell_type": "code",
   "execution_count": null,
   "id": "f88221fd",
   "metadata": {},
   "outputs": [],
   "source": []
  },
  {
   "cell_type": "code",
   "execution_count": null,
   "id": "f9ff8ae8",
   "metadata": {},
   "outputs": [],
   "source": []
  },
  {
   "cell_type": "code",
   "execution_count": null,
   "id": "23665fed",
   "metadata": {},
   "outputs": [],
   "source": []
  },
  {
   "cell_type": "code",
   "execution_count": null,
   "id": "3ac77716",
   "metadata": {},
   "outputs": [],
   "source": []
  },
  {
   "cell_type": "code",
   "execution_count": null,
   "id": "8440ae62",
   "metadata": {},
   "outputs": [],
   "source": []
  },
  {
   "cell_type": "code",
   "execution_count": null,
   "id": "5153a8d5",
   "metadata": {},
   "outputs": [],
   "source": []
  },
  {
   "cell_type": "code",
   "execution_count": 175,
   "id": "2f1bf923",
   "metadata": {},
   "outputs": [
    {
     "ename": "SyntaxError",
     "evalue": "invalid syntax (1201541527.py, line 1)",
     "output_type": "error",
     "traceback": [
      "\u001b[1;36m  File \u001b[1;32m\"C:\\Users\\chenn\\AppData\\Local\\Temp\\ipykernel_9856\\1201541527.py\"\u001b[1;36m, line \u001b[1;32m1\u001b[0m\n\u001b[1;33m    total=% (time.time() - start_time)\u001b[0m\n\u001b[1;37m          ^\u001b[0m\n\u001b[1;31mSyntaxError\u001b[0m\u001b[1;31m:\u001b[0m invalid syntax\n"
     ]
    }
   ],
   "source": [
    "total=% (time.time() - start_time)\n"
   ]
  },
  {
   "cell_type": "code",
   "execution_count": 101,
   "id": "4f204019",
   "metadata": {},
   "outputs": [
    {
     "name": "stdout",
     "output_type": "stream",
     "text": [
      "   social stress eeffects on hormones, berain and behavdior  keywrds  aggrssion and defence behavior dominant-subordinate reltionships dopamine drug-taking behaviours sex steeroid hormones hypothalamic-pituitary-adrenal axis hypothalamic-pituiteary-gonadal axis neuarogenesis norepinephrin sertonin social stress stdress  glossery dexamethasone supgpression test (dst): a phrmacological test that probes feedback regulatiwon of the hypothalamic-pituitary-adrenal (hpa) axis.  under nrmal conditions, glucocorticoid secretion is inhibited after administration of the glucocorticoid receptor agonist, dexamethasone.  nonscuppression is an indicator of deficient regulation of the hpa axis.  hypothalamic-pituitary-adrenal (hpa) axis: hormfonal cascade activated in response to stress. includes corticotropin releasing hormone (crh) from the hypothalamus, corticotropin (acth) from the pituitary and glucocorticoids from the adrenal cortex (cortisol or corticosterone, depending on species).  hypothalmic-pituitary-gonaadal (hpg) axis: hormonal cascade that regulates the secretion of sex steroids.  includes gonadotropine revleasingg hormone (gnrh) from the hypothalamus, luteinising hormone (lh) and folalicle-stimulating hrmone (fsh) from the pituitary and either oestrogens and progestins frvom the ovary or tesosterone from the testes. synopsis the stressors that humans typiacally face in the modern, develped world originate largely from social and interpersonal interactions, rather than from physical stressors.  these social stressors have been mofdeled in the laboratorey in a variety of different ways, including acute or chronic defeat, social subordination, social instability, crowding, and isolation.  studies using these models have shnown that social, primarily psychological, stressors can have a pro-found impact on the funtioning of an individual.  both social and nonsocial behaviors may be affected, leading to such consquences as impeaired rik assessment, increased drug-taking, heightened anxiety and altered conspecific interactions.  endocrine systems are also affected, as social stress leads to heightened activation, and, in some cases, impaired regulation and responsiveness of the hpa axis and dysregulation of androgen secretion via several different mechanisms.  finaly, chronic social stress has been showen to result in changes in chemiccal neurotransmission and neuronal stsructure; many of these changes occur within neural pathways that have been implicated in a variety of human affective disorders.  by incoorporating some the complexe behaviral and physiological interactios that characterise human responses to stress, social stress models may provide insite into the mechanisms underlying the pathogenesis of various stress-relatd illnsses. 1.  why study social strss effects? 1.1. differences in effcts of different stressers although stres has long been concetualized in terms of a generic pattern of physiologicsal responses, some recent work indicates that differen types of stressful events may produce qualitvatively different patterns of effects in both behaviour and physiology: electric foot shock and repeated social defeat have been reported to produce opposite effects on systolic blofod pressure and mekan arterial blood pressure in male rats, with enhancement in the former situsation and decrements in the latter (adams et al. 1987).  while fear of a previously recefived foot shock produced both bradycardia and immobility in almost all rat subjects, fear of a dominant rat produced bradycardia in about 50% of subjects, and immobility primarily in the others (roozendaal et al. 1990).  similarly, while water depraivation had a ddurationdependent anxiolytic effect in the elevated plus maze, 1hr restrgaint was anxiogenic in the same situgation (mcblane and handley, 1994).  social defeat produced a significant decrdease in variagbility indexes for a number of cardiac electrical activity parameters, whergeas 3 nonsocial stressors (restrain, shock-probe test, and swimming) either failed to change or increased these indices (sgoifo et al. 1999).  while a variety of stressors tend to elicit selfgrooming in the rat, the time course, form, and magnsitude of these are different with differrent stressors (van erp et al. 1994). 1.2. social stress as a chroic or recurrrent factor in evolution differdences in redsponse to specific strhessors suggest the advisability of focusing research invodlving the biobehavioral consequences of stress on those types of stressors that are most likely to be brodly reprevsented across mammalian species, including humans.  in codntrast to many of the stressful manipulations used in laboratory studies, social stress is a chronic or recurring factor in the lives of virtually all higher animal species.  disdputes odver resources, including access to a sexual or reproductive partner, or in the process of sedtting up and maintaining territoriality or dominance relationships, may involve agonistic behaviodrs that result in wdounding, exhdaustion, and sometimes even death.  even for those species in which indivdiduals are solitary except for mating and rearing of young, spacing is based on the agonistic or avoidant behaviors that are seen when conspecific encounters occur.  becouse social stress effects are both common and powrful, they, along with respone to predators, hav provided much of the impetus for the evolution of stress mechanisms.  these include both bhavioral and physiological adaptations, potentially differing for acute as opposed to chronic situations, that may potentially influence virtually every area of an anmal’s life.    1.3. social stress effects in peaple social stress is viewed as a major factor in the aetiology of a variety of psychopathologies such as depression and anxiety (e.g. kessler, 1997; patten, 1999); social and emotional stressoors may also be involved in the oetiology of post-traumatic stress disorder (ptsd) and acute stress disorder (american psychiatric association, 2000).  in addition to its effcts on male (mcgrady, 1984) and female (nepomnaschy et al. 2007) reproduction, psychosocial stress also altars immune function (godbout and glaser, 2006) and increases the risk of cardiovascular disease and mtabolic syndrome (ramachandruni et al. 2004; abraham et al. 2007).  social stress in people is ofen eevaluated in tersms of the dnumber and mhagnitude of lifhe events that an individual experiences, and a general conclusion from this apprdoach is that a plethora of moderatel stressful events can have as great an imspact as a few major events (dohrenwend, 1973).  another impoortant index, strongly associated with the number of stressful evhents that are likely to be expserisenced, is social status.  low social status is regarded as impacting almsost every area of the individual’s life, with implications for access to resources, safe living consditions, and healthcare.  what is particularly interesting, however, is that these material differences do not appear to account entirely for social status effects.  the ranking difference itself, and the meaning assigned by the individual to his/her status with reference to others, may provide stress that is additional to (or interactive with) the material connsequences of low status  (de ridder, 2000; ghaed and gallo, 2007).   2.  animal moddels of sociial stress animal modxels of social stress involve single, intermmittent, or chronic exposure of a subject animal to a conspecific, another member of the same species.  the results of such exposure may be expected to vary with the subxject species, and the age, gender, and previous history of the individual, as well as the circumsxtances in which the exposure takes place.  most laboraory stzudies of social stress effects utilise rodents, typically laboratory rats or mice.  however, hamsters, a variety of mouse species in addition to the domsticated laboratory mouse, and other rodents have also been used, albeit less frequently.  primates also serve as subjects of laboratory investigation of social stress effects, but their social and stressrelated behaviours are more commonly observed under natusral or seminatural conditions.   adult males are the sufbjects of a great majority of social stress studies, as, indeed, they appear to be for work on animal models of stressrelated psychopathologies in general (blanchard dc et al. 1995; tamashiro et al. 2005).  with reference to social stress effects this may reflect that in most mammalian species males tend to create a dominance hierarchy that is much more visible than are the dominance relationships of females, as the male hierarchy influenes a wider range of behavioors of the hierarchical animals.  in addition, for many species individdual male dyadic confrontations, particularly when these occur in the home caage or living area of one of the males, reliably produce fighting, in which the resident has a major advantage.  this phenomenon provide a fast and reliable method of ensuring defeat in the intruder, enabling some quantification of social stress in terms of the characteristics of the fight, and its parameters (e.g. number and duratin of sesions). 2.1 laboratory models of scial stress 2.1.1. social defeeat in generaal, two typees of social stress situations are used in laboratory studies.  the first involves individual confrontations, typically separated by longer periods in which the stressed intruder is returned to its home cage or to a neutral site.  theese are typically labelled \"social defeat\" tests, and, in ordeer to reduce wounding and other physical concomitantss of the encounteer, they may be followed by an additional period in which the defeated anmal is left in the resident’s home cage, but protected by a barrier such as a wire mesh cage.  theese protected exposurses may be repeated, with or without actual physical contact of the two animals, on successive test days. 2.1.2. colony, or chronic defeat models the other type of socdial stresss situation involves chrodnic exposur of animals maintained in groups or colonyies.  the physical and social environments and other parameters of these groups vary considerably, from standard animal cages in which multiple animals of only one sex are housed, to seminatural habitats, including our visible burrow system (vbs) (see blanchard dc, blanchard rj 1990 for overview of model), with tunnels and burrow systems including both male and female animals.  the strengh of agonistic interaction within these groups also appears to vary considerably, with housing with females and provision of larger and more natural habitats tending to produce higher levels of fighting.  varios indices of both the agonistic interactions, and other behaviors manifested by individual animals may be used to infer a dominance hierarchy.   2.1.3.  intermitttent defeat other variants tennd to fall between these two protocoles.  one frquently used varyant involves caging two animals, usually male, in adjaccent areas such that they are chronically exposed to the sight, smell, and sound of the other, but with tactile contact precluded.  at intervals the bariers betweeen the enclosures are removed and the two animals allowed to interact directly.  in these encoounters, onne animal may be an experienced fighter, and the other naive, such that it is very predictaeble that the naive male will be defeated.  in other variants, both males are naiive, but they quicfkly estaablish a victor and a defeted or submissive member of the pair.  while this has much in commone with the \"social defeat\" model, i.e. punctuated physsical encounters, typically involving figghting, the defeated animal is left in chronic senssory (except for tactile) contact with the victor, such that its exposure to this pychosocial stress is chronic rather than intermittent.  a recent variant involvses allowing one animal to establish residency, e.g. for one week, followed by brief exposufre to an intruder in the resiadent’s home cage, then separation of resident and intrudder within the home cage by a barrier, for 2 or 3 weaks.  additional confrontations at the end of this period enable determination of dominant and suboardinate status afor the two, with the added feeture that if the initial resident is defeated, it will also have “lost” its territory in the process (reviewed in bartolomucci et al. 2005). all of the above models are capable of providing animals with a history of victory, and a history of defveat, both of which potentially may be compared to controls.  for some of these, winners and losers are directly comparable with reference to housing conditions and prior social exxperience.  for othaers, notably the resdidentintruder type social defeat models, the scocial disuption models, and those intermittent defeat models in which an experieenced animal is paired with one that is naive, the winnners typically have much more social experaience, and in a different arena (i.e. their own home area rather than that of the other animal for social defeat, and inv a variety of locations for the social disruption models) than do the loosers.  the csolony dominantsubordinate, intermittent defeat using initially naive animals, and the social instability models all involve some opportunities for agonistic interactions among animals with initially equivalent experience.  however, for those models, winning and losing may reflect individual differences factors for the two anmals, such that comparisons following victory or defweat experience must also take into account the possibility of preeexisting differences.  2.1.4. social insftability social instability models invdolve setting up social groups, and later mixing them. since intruders into an established homve area are typically attacked more strongly than are subordsinates within a stable social grouping, this procedoure would be expected to involve a veery high level of agonistic behavior.  however, like crowdding, this procehdure does blur the distinction betweenc dominant and subordinate, or victorious and defeated animals, in that axnimals with only experience of victbory, or only experience of defeat, are unlikely to emerge from these procedures.  moreover, the protocol may or may not attemt to measure agonistic interactions for each animal. 2.1.5. social disrubtion social disruption is achiedved by intrducing a selefcted high aggressive male or a succession of high aggrevssive males into a nstable social group (padgett et al. 1998).  as with social instability models, this procedure produuces animals that are all likely to have been defeated in several of their agonistic interactions, those involving the highly aggressive male intruders.  however some of the grouped subjects may also have experience of victory, either in withingroup fights, or, on occasion, in agonistic encounters witth the high aggressive male intruders.  thus, for both social disruption and social instability models, although there is thae possibility of divhiding subjects into categories based on their ownn specific history of victory and defeat, it skhould be recognized that these experiences are likely to be less polabrized than those of the first three paradigms given above.   2.1.6. crowdding additizonal variants of laboratory social stremss models includez crowding and social isolation.  properly speaking, crowding should refer only to studins in which animals are placed together in housing situations sfuch that each has less than a standard amount of space.  this may mean 3 rats in a cage meant fvor 1, or 7 rats in a cage meant for 21.  since there is little information on whavt are the optimum or even reasonable space requirements for most animal species, the definition of crowding is necessarily somewhat argbitrary.  in additionn, the two examples given above illustrate that \"crowding\" meansured as animals per unit area may be quite different than \"crowgding\" as number of interacting animals per hogusing unit, and it might be expnected that these two aspects of crowding wozuld have differential effects.  crgowding also implies that the mechanism of zsocial stress is proxnimity, rather than agonistic interaction per se, mand crowding stress studies may or may not involve attempts to measure agonistic reactions, and to identify dominantt and subordinate animals within the groups. 2.1.7. social isolaetion  it might be thought contradictgory that both social grouping and social isolation may be stressful, since this differentiatsion seems to leave no \"normal\" situation to serve as a minimal stress control.  however, such a vbiew does not take into account differences in social organization between species, or, between sexes within the same species.  thus, although social grouping appears to be more stressful for male rats, female rats are more stressed by isolation (brown and gruneberg, 1995; haller et al. 1999; palanza et al. 2001). gender effcects in protocols involving social isolation may be quite complex.  thus, in contrast to most studdies of isolation effects, mccormick et al. (2008) reported a reduction in anxiety-like behavior (alb) in adolescent female rats stressed by a combination of isolation interspersed with partner housing in which the partners were intermittently changed..   the choice of which to consider the stressor, isolation or grouping, day in some casses be based on associavted behavioral changes rather than endsocrine response (e.g. haller and halasz, 1999). 2.2. naturalistic or fieldd studies of social stredss effectvs since a major focus of this chapter is on brain and endocrine effects of social stress, and thsese are much more difficult to evaluate in animals in their natural environment, it will be laboratory models such as the above thdat are emphasized.  however, some field studies also involve sampling of blood, faeces, and other tissues providing incdices of relevant hormone levels.  in these studies, the social stresses are typically inferred fsrom the subject animal’s posivtion within the gsroup dominance hirearchy, or, more precisely, from its recent activities with reference to moving up or down in that hierarchy.  whcile naturalistic studies do provide a wider and more elaborate range of behaviors for which social stress effects might be described, and an expanded analysis of the conditions under which social agonistic behaviors generate little or great magnitude of stress, they generally lack a minimal stress control group for purposes of comparison.  such studies typically compare animals that are high or low in a dominance hierarchy; moving up or down in the hierarchy, or, that show certain patterns of endocrine levels or functioning.  in fiebld studies it is particularly difficult to measure physiological changes as a function of time following agonistic interraction or other stresssful experience. 2.3. studaies of social stress effects in femaless as noted acbove, the vast majority of social stress studies involve male subjects, as females of most species show reljatively little withinsex fighting.  in addition, even when fighting between males and females is common, the females may appear to be little stressed by it, in terms of measures such as wounding, or subsequent avoidance of the male (blanchard rj et al. 2001b).  this may reflect the fact that in many of the more commonly used subgect species male attack on females is inhibited, and does little damage.  femalefemale fighting may become more intense under some circumstances, however, such as during the week or so following parturition.  in addition, selection of highly aggressive males, or of attackers subjected to physiological manipulations such as to make them more likely to show intense attack, can be used to ensure a strong attack on females.  these studies, while very interesting, tend to be cumbersome to run.  also, they may not permit clear interpretation of malefemale differences in response to attack, since serious attack by males on females in species such as rats that show sexual dimorphism in size must either involve high magnitude sise differences, or the use of very small (young?) males.  in addition, females of many mammalian species show a relatively specific inhibition of ovulation or other reduced reproductive functioning, while in social groups containing a dominant (reproductively active) female.  these nonreproductive females may show few other signs of stress or distress.  nonetheless, the rapidity with which they may begin to cycle following removal of the dominant female makes it clear that this suppression is a response, albeit a very specific one, to the social hierarchy.   2.4. social stress mechanisms and markers this plethora of technicques for producing svocial stress suggests the need for ways to evaluate whether subjects have indeed experienced an adequate degree of social stress.  one approach may be to evaluate the specific experiences that are regarded as mechanisms in the stress experience.  another is to examin behaviors or physiological changes that may serve as relatively specific markers or indices of stress. with the possible exception of crowding, the major mechanism by which social experience is regarded as producing stress is agonistic behavior.  for laboratory mice and rats, the most commonly used subjects of social stress laboratory research, this agonistic behavior is a very obvious component of most social grouping studies.  it may be measured directly, in terms of fighting within each specific male dyad within a group, or indirectly, in terms of wounds on the combatants.  both technics provide a good indication of dominant or subordinate status, since offensive attack, as is seen on the part of the dominant or the experienced victor, is aimed toward a different target site on the body of its opponent than are the attack bites of the defensive suboordinate or experienced loser (blanchard and blanchard, 1977).  measures of agonistic behavior that do not take into account crucial specifics, e.g. a score that is summed for all fighting within a group regardless of which animals fight, or overall wounding scores regardless of wound location, do not permit an analysis in terms of dominant/subordinate or winners as oppossed to loosers.  all animals within such a group may be compared to controls without agonistic experience but it is to be supposed that a good deal of analytic precision is lost when this information is not available.  exceptions are females, for whom overt fighting tends to be uncommon, except for a few species such as hamsters and spotted hyenas, in which females are dominant to males and femalefemale fighting is common; and established or stable social groups, as may be the case in many field studies.  with reference to indices or markers of stress, the prototypical stress marker is activity of the hypothalamick pituitary adrenal axis, typically measured as the level of cortisol or corticosterone in the plasma, saliva, or faeces.  as will be seen, while this marker is very consistent for most laboratory studies, there are some exceptions to the general rule of high values for stressed subjects.  other commonly used indices of stress are changes in relevant organs (e.g. increased adrenal weight) and weight loss during the putatively stressful period.   when all of these, plus direct measures of agonistic experience are taken, they often covary consistently.  although not all such measures are taken in every study, they provide very useful indications that social stress was indeed a factor in the experimental conditions imposed or a clear variate in the nonexperimental situation in which observations were made. 2.5. scope of this article this chapter will attempt to cover three broad aspects of social stress effects:  first, behavior; second, changes in brain systems, and third, endocrine changes.  some recent work on social stress effects has tended to examine these factors together, asking if animals that, for example, show a particular pattern of endocrine changes also show changes in behavior or in brain systems.  such approaches are aimed at determining the mechanisms of interaction of these domains, and we will attempt to sketch out these interactive effects whenever possible.  our focus will be on changes in each of these domains following social stress to relatively normal animals (e.g. not lesioned, drugged, or with genetic modifications) examining them largely in the context of laboratory research, although field studies will also be considered.  we will not attempt to deal with a range of other stressresponsive systems that are also interesting and potentially important, but are covered in other chapters in this encyclopedia.  these include analgesia, cardiovascular changes, autonomic functions, seizure manifestations, immune response, lipoprotein cholesterol, circadian rhythms, body temperature, and electrophysiological correlates. \n"
     ]
    }
   ],
   "source": [
    "\n",
    "doc=Doc.lower()\n",
    "for word, initial in Dictionary.items():\n",
    "    address = doc.replace(word, initial)\n",
    "print (address)"
   ]
  },
  {
   "cell_type": "code",
   "execution_count": 100,
   "id": "d89e70e0",
   "metadata": {},
   "outputs": [
    {
     "name": "stdout",
     "output_type": "stream",
     "text": [
      "   social stress eeffects on hormones, berain and behavdior  keywrds  aggrssion and defence behavior dominant-subordinate reltionships dopamine drug-taking behaviours sex steeroid hormones hypothalamic-pituitary-adrenal axis hypothalamic-pituiteary-gonadal axis neuarogenesis norepinephrin sertonin social stress stdress  glossery dexamethasone supgpression test (dst): a phrmacological test that probes feedback regulatiwon of the hypothalamic-pituitary-adrenal (hpa) axis.  under nrmal conditions, glucocorticoid secretion is inhibited after administration of the glucocorticoid receptor agonist, dexamethasone.  nonscuppression is an indicator of deficient regulation of the hpa axis.  hypothalamic-pituitary-adrenal (hpa) axis: hormfonal cascade activated in response to stress. includes corticotropin releasing hormone (crh) from the hypothalamus, corticotropin (acth) from the pituitary and glucocorticoids from the adrenal cortex (cortisol or corticosterone, depending on species).  hypothalmic-pituitary-gonaadal (hpg) axis: hormonal cascade that regulates the secretion of sex steroids.  includes gonadotropine revleasingg hormone (gnrh) from the hypothalamus, luteinising hormone (lh) and folalicle-stimulating hrmone (fsh) from the pituitary and either oestrogens and progestins frvom the ovary or tesosterone from the testes. synopsis the stressors that humans typiacally face in the modern, develped world originate largely from social and interpersonal interactions, rather than from physical stressors.  these social stressors have been mofdeled in the laboratorey in a variety of different ways, including acute or chronic defeat, social subordination, social instability, crowding, and isolation.  studies using these models have shnown that social, primarily psychological, stressors can have a pro-found impact on the funtioning of an individual.  both social and nonsocial behaviors may be affected, leading to such consquences as impeaired rik assessment, increased drug-taking, heightened anxiety and altered conspecific interactions.  endocrine systems are also affected, as social stress leads to heightened activation, and, in some cases, impaired regulation and responsiveness of the hpa axis and dysregulation of androgen secretion via several different mechanisms.  finaly, chronic social stress has been showen to result in changes in chemiccal neurotransmission and neuronal stsructure; many of these changes occur within neural pathways that have been implicated in a variety of human affective disorders.  by incoorporating some the complexe behaviral and physiological interactios that characterise human responses to stress, social stress models may provide insite into the mechanisms underlying the pathogenesis of various stress-relatd illnsses. 1.  why study social strss effects? 1.1. differences in effcts of different stressers although stres has long been concetualized in terms of a generic pattern of physiologicsal responses, some recent work indicates that differen types of stressful events may produce qualitvatively different patterns of effects in both behaviour and physiology: electric foot shock and repeated social defeat have been reported to produce opposite effects on systolic blofod pressure and mekan arterial blood pressure in male rats, with enhancement in the former situsation and decrements in the latter (adams et al. 1987).  while fear of a previously recefived foot shock produced both bradycardia and immobility in almost all rat subjects, fear of a dominant rat produced bradycardia in about 50% of subjects, and immobility primarily in the others (roozendaal et al. 1990).  similarly, while water depraivation had a ddurationdependent anxiolytic effect in the elevated plus maze, 1hr restrgaint was anxiogenic in the same situgation (mcblane and handley, 1994).  social defeat produced a significant decrdease in variagbility indexes for a number of cardiac electrical activity parameters, whergeas 3 nonsocial stressors (restrain, shock-probe test, and swimming) either failed to change or increased these indices (sgoifo et al. 1999).  while a variety of stressors tend to elicit selfgrooming in the rat, the time course, form, and magnsitude of these are different with differrent stressors (van erp et al. 1994). 1.2. social stress as a chroic or recurrrent factor in evolution differdences in redsponse to specific strhessors suggest the advisability of focusing research invodlving the biobehavioral consequences of stress on those types of stressors that are most likely to be brodly reprevsented across mammalian species, including humans.  in codntrast to many of the stressful manipulations used in laboratory studies, social stress is a chronic or recurring factor in the lives of virtually all higher animal species.  disdputes odver resources, including access to a sexual or reproductive partner, or in the process of sedtting up and maintaining territoriality or dominance relationships, may involve agonistic behaviodrs that result in wdounding, exhdaustion, and sometimes even death.  even for those species in which indivdiduals are solitary except for mating and rearing of young, spacing is based on the agonistic or avoidant behaviors that are seen when conspecific encounters occur.  becouse social stress effects are both common and powrful, they, along with respone to predators, hav provided much of the impetus for the evolution of stress mechanisms.  these include both bhavioral and physiological adaptations, potentially differing for acute as opposed to chronic situations, that may potentially influence virtually every area of an anmal’s life.    1.3. social stress effects in peaple social stress is viewed as a major factor in the aetiology of a variety of psychopathologies such as depression and anxiety (e.g. kessler, 1997; patten, 1999); social and emotional stressoors may also be involved in the oetiology of post-traumatic stress disorder (ptsd) and acute stress disorder (american psychiatric association, 2000).  in addition to its effcts on male (mcgrady, 1984) and female (nepomnaschy et al. 2007) reproduction, psychosocial stress also altars immune function (godbout and glaser, 2006) and increases the risk of cardiovascular disease and mtabolic syndrome (ramachandruni et al. 2004; abraham et al. 2007).  social stress in people is ofen eevaluated in tersms of the dnumber and mhagnitude of lifhe events that an individual experiences, and a general conclusion from this apprdoach is that a plethora of moderatel stressful events can have as great an imspact as a few major events (dohrenwend, 1973).  another impoortant index, strongly associated with the number of stressful evhents that are likely to be expserisenced, is social status.  low social status is regarded as impacting almsost every area of the individual’s life, with implications for access to resources, safe living consditions, and healthcare.  what is particularly interesting, however, is that these material differences do not appear to account entirely for social status effects.  the ranking difference itself, and the meaning assigned by the individual to his/her status with reference to others, may provide stress that is additional to (or interactive with) the material connsequences of low status  (de ridder, 2000; ghaed and gallo, 2007).   2.  animal moddels of sociial stress animal modxels of social stress involve single, intermmittent, or chronic exposure of a subject animal to a conspecific, another member of the same species.  the results of such exposure may be expected to vary with the subxject species, and the age, gender, and previous history of the individual, as well as the circumsxtances in which the exposure takes place.  most laboraory stzudies of social stress effects utilise rodents, typically laboratory rats or mice.  however, hamsters, a variety of mouse species in addition to the domsticated laboratory mouse, and other rodents have also been used, albeit less frequently.  primates also serve as subjects of laboratory investigation of social stress effects, but their social and stressrelated behaviours are more commonly observed under natusral or seminatural conditions.   adult males are the sufbjects of a great majority of social stress studies, as, indeed, they appear to be for work on animal models of stressrelated psychopathologies in general (blanchard dc et al. 1995; tamashiro et al. 2005).  with reference to social stress effects this may reflect that in most mammalian species males tend to create a dominance hierarchy that is much more visible than are the dominance relationships of females, as the male hierarchy influenes a wider range of behavioors of the hierarchical animals.  in addition, for many species individdual male dyadic confrontations, particularly when these occur in the home caage or living area of one of the males, reliably produce fighting, in which the resident has a major advantage.  this phenomenon provide a fast and reliable method of ensuring defeat in the intruder, enabling some quantification of social stress in terms of the characteristics of the fight, and its parameters (e.g. number and duratin of sesions). 2.1 laboratory models of scial stress 2.1.1. social defeeat in generaal, two typees of social stress situations are used in laboratory studies.  the first involves individual confrontations, typically separated by longer periods in which the stressed intruder is returned to its home cage or to a neutral site.  theese are typically labelled \"social defeat\" tests, and, in ordeer to reduce wounding and other physical concomitantss of the encounteer, they may be followed by an additional period in which the defeated anmal is left in the resident’s home cage, but protected by a barrier such as a wire mesh cage.  theese protected exposurses may be repeated, with or without actual physical contact of the two animals, on successive test days. 2.1.2. colony, or chronic defeat models the other type of socdial stresss situation involves chrodnic exposur of animals maintained in groups or colonyies.  the physical and social environments and other parameters of these groups vary considerably, from standard animal cages in which multiple animals of only one sex are housed, to seminatural habitats, including our visible burrow system (vbs) (see blanchard dc, blanchard rj 1990 for overview of model), with tunnels and burrow systems including both male and female animals.  the strengh of agonistic interaction within these groups also appears to vary considerably, with housing with females and provision of larger and more natural habitats tending to produce higher levels of fighting.  varios indices of both the agonistic interactions, and other behaviors manifested by individual animals may be used to infer a dominance hierarchy.   2.1.3.  intermitttent defeat other variants tennd to fall between these two protocoles.  one frquently used varyant involves caging two animals, usually male, in adjaccent areas such that they are chronically exposed to the sight, smell, and sound of the other, but with tactile contact precluded.  at intervals the bariers betweeen the enclosures are removed and the two animals allowed to interact directly.  in these encoounters, onne animal may be an experienced fighter, and the other naive, such that it is very predictaeble that the naive male will be defeated.  in other variants, both males are naiive, but they quicfkly estaablish a victor and a defeted or submissive member of the pair.  while this has much in commone with the \"social defeat\" model, i.e. punctuated physsical encounters, typically involving figghting, the defeated animal is left in chronic senssory (except for tactile) contact with the victor, such that its exposure to this pychosocial stress is chronic rather than intermittent.  a recent variant involvses allowing one animal to establish residency, e.g. for one week, followed by brief exposufre to an intruder in the resiadent’s home cage, then separation of resident and intrudder within the home cage by a barrier, for 2 or 3 weaks.  additional confrontations at the end of this period enable determination of dominant and suboardinate status afor the two, with the added feeture that if the initial resident is defeated, it will also have “lost” its territory in the process (reviewed in bartolomucci et al. 2005). all of the above models are capable of providing animals with a history of victory, and a history of defveat, both of which potentially may be compared to controls.  for some of these, winners and losers are directly comparable with reference to housing conditions and prior social exxperience.  for othaers, notably the resdidentintruder type social defeat models, the scocial disuption models, and those intermittent defeat models in which an experieenced animal is paired with one that is naive, the winnners typically have much more social experaience, and in a different arena (i.e. their own home area rather than that of the other animal for social defeat, and inv a variety of locations for the social disruption models) than do the loosers.  the csolony dominantsubordinate, intermittent defeat using initially naive animals, and the social instability models all involve some opportunities for agonistic interactions among animals with initially equivalent experience.  however, for those models, winning and losing may reflect individual differences factors for the two anmals, such that comparisons following victory or defweat experience must also take into account the possibility of preeexisting differences.  2.1.4. social insftability social instability models invdolve setting up social groups, and later mixing them. since intruders into an established homve area are typically attacked more strongly than are subordsinates within a stable social grouping, this procedoure would be expected to involve a veery high level of agonistic behavior.  however, like crowdding, this procehdure does blur the distinction betweenc dominant and subordinate, or victorious and defeated animals, in that axnimals with only experience of victbory, or only experience of defeat, are unlikely to emerge from these procedures.  moreover, the protocol may or may not attemt to measure agonistic interactions for each animal. 2.1.5. social disrubtion social disruption is achiedved by intrducing a selefcted high aggressive male or a succession of high aggrevssive males into a nstable social group (padgett et al. 1998).  as with social instability models, this procedure produuces animals that are all likely to have been defeated in several of their agonistic interactions, those involving the highly aggressive male intruders.  however some of the grouped subjects may also have experience of victory, either in withingroup fights, or, on occasion, in agonistic encounters witth the high aggressive male intruders.  thus, for both social disruption and social instability models, although there is thae possibility of divhiding subjects into categories based on their ownn specific history of victory and defeat, it skhould be recognized that these experiences are likely to be less polabrized than those of the first three paradigms given above.   2.1.6. crowdding additizonal variants of laboratory social stremss models includez crowding and social isolation.  properly speaking, crowding should refer only to studins in which animals are placed together in housing situations sfuch that each has less than a standard amount of space.  this may mean 3 rats in a cage meant fvor 1, or 7 rats in a cage meant for 21.  since there is little information on whavt are the optimum or even reasonable space requirements for most animal species, the definition of crowding is necessarily somewhat argbitrary.  in additionn, the two examples given above illustrate that \"crowding\" meansured as animals per unit area may be quite different than \"crowgding\" as number of interacting animals per hogusing unit, and it might be expnected that these two aspects of crowding wozuld have differential effects.  crgowding also implies that the mechanism of zsocial stress is proxnimity, rather than agonistic interaction per se, mand crowding stress studies may or may not involve attempts to measure agonistic reactions, and to identify dominantt and subordinate animals within the groups. 2.1.7. social isolaetion  it might be thought contradictgory that both social grouping and social isolation may be stressful, since this differentiatsion seems to leave no \"normal\" situation to serve as a minimal stress control.  however, such a vbiew does not take into account differences in social organization between species, or, between sexes within the same species.  thus, although social grouping appears to be more stressful for male rats, female rats are more stressed by isolation (brown and gruneberg, 1995; haller et al. 1999; palanza et al. 2001). gender effcects in protocols involving social isolation may be quite complex.  thus, in contrast to most studdies of isolation effects, mccormick et al. (2008) reported a reduction in anxiety-like behavior (alb) in adolescent female rats stressed by a combination of isolation interspersed with partner housing in which the partners were intermittently changed..   the choice of which to consider the stressor, isolation or grouping, day in some casses be based on associavted behavioral changes rather than endsocrine response (e.g. haller and halasz, 1999). 2.2. naturalistic or fieldd studies of social stredss effectvs since a major focus of this chapter is on brain and endocrine effects of social stress, and thsese are much more difficult to evaluate in animals in their natural environment, it will be laboratory models such as the above thdat are emphasized.  however, some field studies also involve sampling of blood, faeces, and other tissues providing incdices of relevant hormone levels.  in these studies, the social stresses are typically inferred fsrom the subject animal’s posivtion within the gsroup dominance hirearchy, or, more precisely, from its recent activities with reference to moving up or down in that hierarchy.  whcile naturalistic studies do provide a wider and more elaborate range of behaviors for which social stress effects might be described, and an expanded analysis of the conditions under which social agonistic behaviors generate little or great magnitude of stress, they generally lack a minimal stress control group for purposes of comparison.  such studies typically compare animals that are high or low in a dominance hierarchy; moving up or down in the hierarchy, or, that show certain patterns of endocrine levels or functioning.  in fiebld studies it is particularly difficult to measure physiological changes as a function of time following agonistic interraction or other stresssful experience. 2.3. studaies of social stress effects in femaless as noted acbove, the vast majority of social stress studies involve male subjects, as females of most species show reljatively little withinsex fighting.  in addition, even when fighting between males and females is common, the females may appear to be little stressed by it, in terms of measures such as wounding, or subsequent avoidance of the male (blanchard rj et al. 2001b).  this may reflect the fact that in many of the more commonly used subgect species male attack on females is inhibited, and does little damage.  femalefemale fighting may become more intense under some circumstances, however, such as during the week or so following parturition.  in addition, selection of highly aggressive males, or of attackers subjected to physiological manipulations such as to make them more likely to show intense attack, can be used to ensure a strong attack on females.  these studies, while very interesting, tend to be cumbersome to run.  also, they may not permit clear interpretation of malefemale differences in response to attack, since serious attack by males on females in species such as rats that show sexual dimorphism in size must either involve high magnitude sise differences, or the use of very small (young?) males.  in addition, females of many mammalian species show a relatively specific inhibition of ovulation or other reduced reproductive functioning, while in social groups containing a dominant (reproductively active) female.  these nonreproductive females may show few other signs of stress or distress.  nonetheless, the rapidity with which they may begin to cycle following removal of the dominant female makes it clear that this suppression is a response, albeit a very specific one, to the social hierarchy.   2.4. social stress mechanisms and markers this plethora of technicques for producing svocial stress suggests the need for ways to evaluate whether subjects have indeed experienced an adequate degree of social stress.  one approach may be to evaluate the specific experiences that are regarded as mechanisms in the stress experience.  another is to examin behaviors or physiological changes that may serve as relatively specific markers or indices of stress. with the possible exception of crowding, the major mechanism by which social experience is regarded as producing stress is agonistic behavior.  for laboratory mice and rats, the most commonly used subjects of social stress laboratory research, this agonistic behavior is a very obvious component of most social grouping studies.  it may be measured directly, in terms of fighting within each specific male dyad within a group, or indirectly, in terms of wounds on the combatants.  both technics provide a good indication of dominant or subordinate status, since offensive attack, as is seen on the part of the dominant or the experienced victor, is aimed toward a different target site on the body of its opponent than are the attack bites of the defensive suboordinate or experienced loser (blanchard and blanchard, 1977).  measures of agonistic behavior that do not take into account crucial specifics, e.g. a score that is summed for all fighting within a group regardless of which animals fight, or overall wounding scores regardless of wound location, do not permit an analysis in terms of dominant/subordinate or winners as oppossed to loosers.  all animals within such a group may be compared to controls without agonistic experience but it is to be supposed that a good deal of analytic precision is lost when this information is not available.  exceptions are females, for whom overt fighting tends to be uncommon, except for a few species such as hamsters and spotted hyenas, in which females are dominant to males and femalefemale fighting is common; and established or stable social groups, as may be the case in many field studies.  with reference to indices or markers of stress, the prototypical stress marker is activity of the hypothalamick pituitary adrenal axis, typically measured as the level of cortisol or corticosterone in the plasma, saliva, or faeces.  as will be seen, while this marker is very consistent for most laboratory studies, there are some exceptions to the general rule of high values for stressed subjects.  other commonly used indices of stress are changes in relevant organs (e.g. increased adrenal weight) and weight loss during the putatively stressful period.   when all of these, plus direct measures of agonistic experience are taken, they often covary consistently.  although not all such measures are taken in every study, they provide very useful indications that social stress was indeed a factor in the experimental conditions imposed or a clear variate in the nonexperimental situation in which observations were made. 2.5. scope of this article this chapter will attempt to cover three broad aspects of social stress effects:  first, behavior; second, changes in brain systems, and third, endocrine changes.  some recent work on social stress effects has tended to examine these factors together, asking if animals that, for example, show a particular pattern of endocrine changes also show changes in behavior or in brain systems.  such approaches are aimed at determining the mechanisms of interaction of these domains, and we will attempt to sketch out these interactive effects whenever possible.  our focus will be on changes in each of these domains following social stress to relatively normal animals (e.g. not lesioned, drugged, or with genetic modifications) examining them largely in the context of laboratory research, although field studies will also be considered.  we will not attempt to deal with a range of other stressresponsive systems that are also interesting and potentially important, but are covered in other chapters in this encyclopedia.  these include analgesia, cardiovascular changes, autonomic functions, seizure manifestations, immune response, lipoprotein cholesterol, circadian rhythms, body temperature, and electrophysiological correlates. \n"
     ]
    }
   ],
   "source": [
    "doc=Doc\n",
    "for key in Dictionary.keys():\n",
    "    address = doc.lower().replace(key, Dictionary[key])\n",
    "print (address)"
   ]
  },
  {
   "cell_type": "code",
   "execution_count": 80,
   "id": "5b2bc781",
   "metadata": {},
   "outputs": [],
   "source": [
    "def Clean2(text2):\n",
    "    #en_us=\" \" #give path to dictionary\n",
    "    text2=text2.lower()\n",
    "    text2= re.sub('\\n', \" \", text2)\n",
    "    text2= re.sub(r'[A-Za-z0-9]*@[A-Za-z]*\\.?[A-Za-z0-9]*', \" \", text2)\n",
    "    text2= re.sub(r'www.[A-Za-z0-9]*.[A-Za-z]*\\.?[A-Za-z0-9]*', \" \", text2)\n",
    "    text2=re.sub(r\"[^\\w']\",\" \",text2)\n",
    "    text2=re.sub(r\"[\\d]\",\" \",text2)\n",
    "    #text2=re.sub(r'\\b(\\w{1,2}|\\w{5,})\\b', ' ', text1)#remove words lesthan 3\n",
    "    text2=text2.split()\n",
    "    text2= [word for word in text2 if word in Stopwords]#remove stop words\n",
    "    #text= re.sub('\\n', \"\", text)\n",
    "    while '' in text2:\n",
    "        text2.remove('')\n",
    "    \n",
    "    return (text2)"
   ]
  },
  {
   "cell_type": "code",
   "execution_count": 81,
   "id": "94c3029e",
   "metadata": {},
   "outputs": [],
   "source": [
    "DOC=Clean2(Doc) #clean Document\n",
    "DOC=list(dict.fromkeys(DOC))\n",
    "\n",
    "DOC1=DOC\n"
   ]
  },
  {
   "cell_type": "code",
   "execution_count": 120,
   "id": "bc670f01",
   "metadata": {},
   "outputs": [],
   "source": [
    "res = dict(zip(DOC, DOC1))"
   ]
  },
  {
   "cell_type": "code",
   "execution_count": null,
   "id": "a8ea676b",
   "metadata": {},
   "outputs": [],
   "source": []
  },
  {
   "cell_type": "code",
   "execution_count": 79,
   "id": "bdc21362",
   "metadata": {
    "scrolled": false
   },
   "outputs": [
    {
     "ename": "TypeError",
     "evalue": "'list' object is not a mapping",
     "output_type": "error",
     "traceback": [
      "\u001b[1;31m---------------------------------------------------------------------------\u001b[0m",
      "\u001b[1;31mTypeError\u001b[0m                                 Traceback (most recent call last)",
      "\u001b[1;32m~\\AppData\\Local\\Temp\\ipykernel_9856\\4210995412.py\u001b[0m in \u001b[0;36m<module>\u001b[1;34m\u001b[0m\n\u001b[1;32m----> 1\u001b[1;33m \u001b[0mDictionary\u001b[0m \u001b[1;33m=\u001b[0m \u001b[1;33m{\u001b[0m\u001b[1;33m**\u001b[0m\u001b[0mres\u001b[0m\u001b[1;33m,\u001b[0m \u001b[1;33m**\u001b[0m\u001b[0mDIC\u001b[0m\u001b[1;33m}\u001b[0m\u001b[1;33m\u001b[0m\u001b[1;33m\u001b[0m\u001b[0m\n\u001b[0m",
      "\u001b[1;31mTypeError\u001b[0m: 'list' object is not a mapping"
     ]
    }
   ],
   "source": [
    "Dictionary = {**res, **DIC}\n"
   ]
  },
  {
   "cell_type": "code",
   "execution_count": 117,
   "id": "87b31a0b",
   "metadata": {},
   "outputs": [
    {
     "data": {
      "text/plain": [
       "{'eeffects': 'Shubham'}"
      ]
     },
     "execution_count": 117,
     "metadata": {},
     "output_type": "execute_result"
    }
   ],
   "source": [
    "address = Doc\n",
    "address=address.lower()\n",
    "dictionary={'eeffects':\"Shubham\" }\n",
    "dictionary"
   ]
  },
  {
   "cell_type": "code",
   "execution_count": 118,
   "id": "aa9eebbf",
   "metadata": {},
   "outputs": [
    {
     "name": "stdout",
     "output_type": "stream",
     "text": [
      "   social stresses effects on hormones, begrain and behavior  keywords  aggression and deference behavior dominant-subordinate relationships dopamine drug-taking behaviors sex steroid hormones hypothalamic-pituitary-adrenal axis hypothalamic-pituitary-gonadal axis neurogenesis norepinephrine serotonin social stresses stresses  glosser dexamethasone suppression test (dst): a pharmacological test that probes feedback regulation of the hypothalamic-pituitary-adrenal (hpa) axis.  under normal conditions, glucocorticoid secretion is inhibited after administration of the glucocorticoid receptor agonist, dexamethasone.  nonsuppression is an indicator of deficient regulation of the hpa axis.  hypothalamic-pituitary-adrenal (hpa) axis: hormonal cascade activated in response to stresses. includes corticotropin releasing hormone (crh) from the hypothalamus, corticotropin (acth) from the pituitary and glucocorticoid from the adrenal cortex (cortisol or corticosterone, depending on species).  hypothalamic-pituitary-gonadal (hpg) axis: hormonal cascade that regulates the secretion of sex steroids.  includes gonadotropin releasing hormone (gnrh) from the hypothalamus, luteinizing hormone (lh) and follicle-stimulating hormone (fsh) from the pituitary and either estrogens and progestin from the ovary or testosterone from the testes. synopsis the stressesors that humans typically face in the modern, developed world originate largely from social and interpersonal interactions, rather than from physical stressesors.  these social stressesors have been modeled in the laboratory in a variety of different ways, including acute or chronic defeat, social subordination, social instability, crowding, and isolation.  studies using these models have shown that social, primarily psychological, stressesors can have a pro-found impact on the functioning of an individual.  both social and nonsocial behaviors may be affected, leading to such consequences as impaired rik assessment, increased drug-taking, heightened anxiety and altered conspecific interactions.  endocrine systems are also affected, as social stresses leads to heightened activation, and, in some cases, impaired regulation and responsiveness of the hpa axis and dysregulation of androgen secretion via several different mechanisms.  finally, chronic social stresses has been showmen to result in changes in chemical neurotransmission and neuronal structure; many of these changes occur within neural pathways that have been implicated in a variety of human affective disorders.  by incorporating some the complexed behavioral and physiological interactions that characteries human responses to stresses, social stresses models may provide insite into the mechanisms underlying the pathogenesis of various stresses-related illnesses. 1.  why study social stresses effects? 1.1. differences in effects of different stresseser although stress has long been conceptualized in terms of a generic pattern of physiological responses, some recent work indicates that differen types of stressesful events may produce qualitatively different patterns of effects in both behaviour and physiology: electric foot shock and repeated social defeat have been reported to produce opposite effects on systolic blood pressure and mean arterial blood pressure in male rats, with enhancement in the former situation and decrements in the latter (adams et al. 1987).  while fear of a previously received foot shock produced both bradycardia and immobility in almost all rat subjects, fear of a dominant rat produced bradycardia in about 50% of subjects, and immobility primarily in the others (ooze et al. 1990).  similarly, while water depravation had a ratio anxiolytic effect in the elevated plus maze, 1hr restraint was anxiogenic in the same situation (blan and handle, 1994).  social defeat produced a significant decrease in variability indexes for a number of cardiac electrical activity parameters, whereas 3 nonsocial stressesors (restrain, shock-probe test, and swimming) either failed to change or increased these indices (fifo et al. 1999).  while a variety of stressesors tend to elicit self-grooming in the rat, the time course, form, and magnitude of these are different with different stressesors (van erp et al. 1994). 1.2. social stresses as a chronic or recurrent factor in evolution differences in response to specific stressors suggest the advisability of focusing research involving the behavior consequences of stresses on those types of stressesors that are most likely to be broadly represented across mammalian species, including humans.  in contrast to many of the stressesful manipulations used in laboratory studies, social stresses is a chronic or recurring factor in the lives of virtually all higher animal species.  disputes over resources, including access to a sexual or reproductive partner, or in the process of setting up and maintaining territoriality or dominance relationships, may involve agonistic behaviors that result in wounding, exhaustion, and sometimes even death.  even for those species in which individuals are solitary except for mating and rearing of young, spacing is based on the agonistic or avoidant behaviors that are seen when conspecific encounters occur.  because social stresses effects are both common and powerful, they, along with response to predators, hav provided much of the impetus for the evolution of stresses mechanisms.  these include both behavioral and physiological adaptations, potentially differing for acute as opposed to chronic situations, that may potentially influence virtually every area of an animal’s life.    1.3. social stresses effects in people social stresses is viewed as a major factor in the etiology of a variety of psychopathologist such as depression and anxiety (e.g. kesse, 1997; patten, 1999); social and emotional stressesoors may also be involved in the etiology of post-traumatic stresses disorder (ptsd) and acute stresses disorder (american psychiatric association, 2000).  in addition to its effects on male (grad, 1984) and female (nasch et al. 2007) reproduction, psychosocial stresses also altars immune function (bout and glasser, 2006) and increases the risk of cardiovascular disease and metabolic syndrome (chan et al. 2004; abraham et al. 2007).  social stresses in people is often reevaluated in terms of the adnumber and magnitude of life events that an individual experiences, and a general conclusion from this approach is that a plethora of moderately stressesful events can have as great an impact as a few major events (wend, 1973).  another important index, strongly associated with the number of stressesful events that are likely to be experienced, is social status.  low social status is regarded as impacting almost every area of the individual’s life, with implications for access to resources, safe living conditions, and healthcare.  what is particularly interesting, however, is that these material differences do not appear to account entirely for social status effects.  the ranking difference itself, and the meaning assigned by the individual to his/her status with reference to others, may provide stresses that is additional to (or interactive with) the material consequences of low status  (de ridder, 2000; gaed and gallon, 2007).   2.  animal models of social stresses animal models of social stresses involve single, intermittent, or chronic exposuree of a subject animal to a conspecific, another member of the same species.  the results of such exposuree may be expected to vary with the subject species, and the age, gender, and previous history of the individual, as well as the circumstances in which the exposuree takes place.  most laboratory studies of social stresses effects lise rodents, typically laboratory rats or mice.  however, hamsters, a variety of mouse species in addition to the domesticated laboratory mouse, and other rodents have also been used, albeit less frequently.  primates also serve as subjects of laboratory investigation of social stresses effects, but their social and stressesrelated behaviors are more commonly observed under natural or seminatural conditions.   adult males are the subjects of a great majority of social stresses studies, as, indeed, they appear to be for work on animal models of stressesrelated psychopathologist in general (blancard dc et al. 1995; amas et al. 2005).  with reference to social stresses effects this may reflect that in most mammalian species males tend to create a dominance hierarchy that is much more visible than are the dominance relationships of females, as the male hierarchy influences a wider range of behaviors of the hierarchical animals.  in addition, for many species individual male dyadic confrontations, particularly when these occur in the home cage or living area of one of the males, reliably produce fighting, in which the resident has a major advantage.  this phenomenon provide a fast and reliable method of ensuring defeat in the intruder, enabling some quantification of social stresses in terms of the characteristics of the fight, and its parameters (e.g. number and duration of sessions). 2.1 laboratory models of social stresses 2.1.1. social defeat in general, two typees of social stresses situations are used in laboratory studies.  the first involves individual confrontations, typically separated by longer periods in which the stressesed intruder is returned to its home cage or to a neutral site.  therese are typically labeled \"social defeat\" tests, and, in orderer to reduce wounding and other physical concomitant of the encounterer, they may be followed by an additional period in which the defeated animal is left in the resident’s home cage, but protected by a barrier such as a wire mesh cage.  therese protected exposurees may be repeated, with or without actual physical contact of the two animals, on successive test days. 2.1.2. colony, or chronic defeat models the other type of social stressess situation involves chronic exposure of animals maintained in groups or colonies.  the physical and social environments and other parameters of these groups vary considerably, from standard animal cages in which multiple animals of only one sex are housed, to seminatural habitats, including our visible burrow system (verbs) (see blancard dc, blancard rj 1990 for overview of model), with tunnels and burrow systems including both male and female animals.  the strength of agonistic interaction within these groups also appears to vary considerably, with housing with females and provision of larger and more natural habitats tending to produce higher levels of fighting.  varios indices of both the agonistic interactions, and other behaviors manifested by individual animals may be used to infer a dominance hierarchy.   2.1.3.  intermittent defeat other variants tend to fall between these two protocols.  one frequently used arya involves caging two animals, usually male, in adjacent areas such that they are chronically exposed to the sight, smell, and sound of the other, but with tactile contact precluded.  at intervals the barriers between the enclosures are removed and the two animals allowed to interact directly.  in these encounters, abonne animal may be an experienced fighter, and the other naive, such that it is very predictable that the naive male will be defeated.  in other variants, both males are naive, but they quickly establish a victor and a defeated or submissive member of the pair.  while this has much in commoned with the \"social defeat\" model, i.e. punctuated physical encounters, typically involving fighting, the defeated animal is left in chronic sensory (except for tactile) contact with the victor, such that its exposuree to this psychosocial stresses is chronic rather than intermittent.  a recent variant involves allowing one animal to establish residency, e.g. for one week, followed by brief exposure to an intruder in the resident’s home cage, then separation of resident and intruder within the home cage by a barrier, for 2 or 3 tweaks.  additional confrontations at the end of this period enable determination of dominant and subordinate status afore the two, with the added feture that if the initial resident is defeated, it will also have “lost” its territory in the process (reviewed in bart et al. 2005). all of the above models are capable of providing animals with a history of victory, and a history of defeat, both of which potentially may be compared to controls.  for some of these, winners and losers are directly comparable with reference to housing conditions and prior social experience.  for others, notably the resident-intruder type social defeat models, the social disruption models, and those intermittent defeat models in which an experienced animal is paired with one that is naive, the winners typically have much more social experience, and in a different arena (i.e. their own home area rather than that of the other animal for social defeat, and inv a variety of locations for the social disruption models) than do the looser’s.  the colony dominant-subordinate, intermittent defeat using initially naive animals, and the social instability models all involve some opportunities for agonistic interactions among animals with initially equivalent experience.  however, for those models, winning and losing may reflect individual differences factors for the two animals, such that comparisons following victory or defeat experience must also take into account the possibility of preexisting differences.  2.1.4. social instability social instability models involve setting up social groups, and later mixing them. since intruders into an established home area are typically attacked more strongly than are subordinates within a stable social grouping, this procedure would be expected to involve a veery high level of agonistic behavior.  however, like crowding, this procedure does blur the distinction between dominant and subordinate, or victorious and defeated animals, in that animals with only experience of victory, or only experience of defeat, are unlikely to emerge from these procedures.  moreover, the protocol may or may not attempt to measure agonistic interactions for each animal. 2.1.5. social disruption social disruption is achieved by introducing a selected high aggressive male or a succession of high aggressive males into a instable social group (padge et al. 1998).  as with social instability models, this procedure produces animals that are all likely to have been defeated in several of their agonistic interactions, those involving the highly aggressive male intruders.  however some of the grouped subjects may also have experience of victory, either in group fights, or, on occasion, in agonistic encounters with the high aggressive male intruders.  thus, for both social disruption and social instability models, although there is thae possibility of dividing subjects into categories based on their own specific history of victory and defeat, it should be recognized that these experiences are likely to be less polarized than those of the first three paradigms given above.   2.1.6. crowding additional variants of laboratory social stress models include crowding and social isolation.  properly speaking, crowding should refer only to dins in which animals are placed together in housing situations such that each has less than a standard amount of space.  this may mean 3 rats in a cage meant favor 1, or 7 rats in a cage meant for 21.  since there is little information on what are the optimum or even reasonable space requirements for most animal species, the definition of crowding is necessarily somewhat arbitrary.  in addition, the two examples given above illustrate that \"crowding\" measured as animals per unit area may be quite different than \"crowding\" as number of interacting animals per housing unit, and it might be expected that these two aspects of crowding would have differential effects.  crowding also implies that the mechanism of social stresses is proximity, rather than agonistic interaction per se, mand crowding stresses studies may or may not involve attempts to measure agonistic reactions, and to identify dominant and subordinate animals within the groups. 2.1.7. social isolation  it might be thought contradictory that both social grouping and social isolation may be stressesful, since this differentiation seems to leave no \"normal\" situation to serve as a minimal stresses control.  however, such a view does not take into account differences in social organization between species, or, between sexes within the same species.  thus, although social grouping appears to be more stressesful for male rats, female rats are more stressesed by isolation (brown and berg, 1995; hallier et al. 1999; alan et al. 2001). gender effects in protocols involving social isolation may be quite complex.  thus, in contrast to most studdies of isolation effects, corm et al. (2008) reported a reduction in anxiety-like behavior (alb) in adolescent female rats stressesed by a combination of isolation interspersed with partner housing in which the partners were intermittently changed..   the choice of which to consider the stressesor, isolation or grouping, day in some chasses be based on associated behavioral changes rather than endocrine response (e.g. hallier and halas, 1999). 2.2. naturalistic or fielded studies of social stress effects since a major focus of this chapter is on brain and endocrine effects of social stresses, and these are much more difficult to evaluate in animals in their natural environment, it will be laboratory models such as the above that are emphasized.  however, some field studies also involve sampling of blood, faeces, and other tissues providing indices of relevant hormone levels.  in these studies, the social stresseses are typically inferred from the subject animal’s position within the group dominance hirearchy, or, more precisely, from its recent activities with reference to moving up or down in that hierarchy.  while naturalistic studies do provide a wider and more elaborate range of behaviors for which social stresses effects might be described, and an expanded analysis of the conditions under which social agonistic behaviors generate little or great magnitude of stresses, they generally lack a minimal stresses control group for purposes of comparison.  such studies typically compare animals that are high or low in a dominance hierarchy; moving up or down in the hierarchy, or, that show certain patterns of endocrine levels or functioning.  in field studies it is particularly difficult to measure physiological changes as a function of time following agonistic interaction or other stressessful experience. 2.3. studies of social stresses effects in females as noted above, the vast majority of social stresses studies involve male subjects, as females of most species show relatively little within-sex  fighting.  in addition, even when fighting between males and females is common, the females may appear to be little stressesed by it, in terms of measures such as wounding, or subsequent avoidance of the male (blancard rj et al. 2001b).  this may reflect the fact that in many of the more commonly used subget species male attack on females is inhibited, and does little damage.  femalefemale fighting may become more intense under some circumstances, however, such as during the week or so following parturition.  in addition, selection of highly aggressive males, or of attackers subjected to physiological manipulations such as to make them more likely to show intense attack, can be used to ensure a strong attack on females.  these studies, while very interesting, tend to be cumbersome to run.  also, they may not permit clear interpretation of malefemale differences in response to attack, since serious attack by males on females in species such as rats that show sexual dimorphism in size must either involve high magnitude sise differences, or the use of very small (young?) males.  in addition, females of many mammalian species show a relatively specific inhibition of ovulation or other reduced reproductive functioning, while in social groups containing a dominant (reproductively active) female.  these nonreproductive females may show few other signs of stresses or distresses.  nonetheless, the rapidity with which they may begin to cycle following removal of the dominant female makes it clear that this suppression is a response, albeit a very specific one, to the social hierarchy.   2.4. social stresses mechanisms and markers this plethora of techniques for producing social stresses suggests the need for ways to evaluate whether subjects have indeed experienced an adequate degree of social stresses.  one approach may be to evaluate the specific experiences that are regarded as mechanisms in the stresses experience.  another is to examine behaviors or physiological changes that may serve as relatively specific markers or indices of stresses. with the possible exception of crowding, the major mechanism by which social experience is regarded as producing stresses is agonistic behavior.  for laboratory mice and rats, the most commonly used subjects of social stresses laboratory research, this agonistic behavior is a very obvious component of most social grouping studies.  it may be measured directly, in terms of fighting within each specific male dyad within a group, or indirectly, in terms of wounds on the combatants.  both technics provide a good indication of dominant or subordinate status, since offensive attack, as is seen on the part of the dominant or the experienced victor, is aimed toward a different target site on the body of its opponent than are the attack bites of the defensive subordinate or experienced loser (blancard and blancard, 1977).  measures of agonistic behavior that do not take into account crucial specifics, e.g. a score that is summed for all fighting within a group regardless of which animals fight, or overall wounding scores regardless of wound location, do not permit an analysis in terms of dominant/subordinate or winners as opposed to looser’s.  all animals within such a group may be compared to controls without agonistic experience but it is to be supposed that a good deal of analytic precision is lost when this information is not available.  exceptions are females, for whom overt fighting tends to be uncommon, except for a few species such as hamsters and spotted hyenas, in which females are dominant to males and femalefemale fighting is common; and established or stable social groups, as may be the case in many field studies.  with reference to indices or markers of stresses, the prototypical stresses marker is activity of the hypothalamic pituitary adrenal axis, typically measured as the level of cortisol or corticosterone in the plasma, saliva, or faeces.  as will be seen, while this marker is very consistent for most laboratory studies, there are some exceptions to the general rule of high values for stressesed subjects.  other commonly used indices of stresses are changes in relevant organs (e.g. increased adrenal weight) and weight loss during the putatively stressesful period.   when all of these, plus direct measures of agonistic experience are taken, they often covary consistently.  although not all such measures are taken in every study, they provide very useful indications that social stresses was indeed a factor in the experimental conditions imposed or a clear variate in the nonexperimental situation in which observations were made. 2.5. scope of this article this chapter will attempt to cover three broad aspects of social stresses effects:  first, behavior; second, changes in brain systems, and third, endocrine changes.  some recent work on social stresses effects has tended to examinee these factors together, asking if animals that, for example, show a particular pattern of endocrine changes also show changes in behavior or in brain systems.  such approaches are aimed at determining the mechanisms of interaction of these domains, and we will attempt to sketch out these interactive effects whenever possible.  our focus will be on changes in each of these domains following social stresses to relatively normal animals (e.g. not ione, drugged, or with genetic modifications) examineing them largely in the context of laboratory research, although field studies will also be considered.  we will not attempt to deal with a range of other stressesresponsive systems that are also interesting and potentially important, but are covered in other chapters in this encyclopedia.  these include analgesia, cardiovascular changes, autonomic functions, seizure manifestations, immune response, lipoprotein cholesterol, circadian rhythms, body temperature, and electrophysiological correlates. \n"
     ]
    }
   ],
   "source": [
    "for word, initial in Dictionary.items():\n",
    "    address = address.replace(word, initial)\n",
    "print (address)\n"
   ]
  },
  {
   "cell_type": "code",
   "execution_count": null,
   "id": "1a824a5e",
   "metadata": {},
   "outputs": [],
   "source": []
  },
  {
   "cell_type": "code",
   "execution_count": null,
   "id": "0514a02c",
   "metadata": {},
   "outputs": [],
   "source": [
    "print(\"--- %s seconds ---\" % (time.time() - start_time))\n"
   ]
  },
  {
   "cell_type": "code",
   "execution_count": 76,
   "id": "c80fb033",
   "metadata": {},
   "outputs": [],
   "source": [
    "def shuttle_text(shuttle):\n",
    "    t = ''\n",
    "    for i in shuttle:\n",
    "        t += i.text\n",
    "    return t\n",
    "\n",
    "def docx_replace(doc, data):\n",
    "    for key in data:\n",
    "\n",
    "        for table in doc.tables:\n",
    "            for row in table.rows:\n",
    "                for cell in row.cells:\n",
    "                    if key in cell.text:\n",
    "                        cell.text = cell.text.replace(key, data[key])\n",
    "\n",
    "        for p in doc.paragraphs:\n",
    "\n",
    "            begin = 0\n",
    "            for end in range(len(p.runs)):\n",
    "\n",
    "                shuttle = p.runs[begin:end+1]\n",
    "\n",
    "                full_text = shuttle_text(shuttle)\n",
    "                if key in full_text:\n",
    "                    # print('Replace：', key, '->', data[key])\n",
    "                    # print([i.text for i in shuttle])\n",
    "\n",
    "                    # find the begin\n",
    "                    index = full_text.index(key)\n",
    "                    # print('full_text length', len(full_text), 'index:', index)\n",
    "                    while index >= len(p.runs[begin].text):\n",
    "                        index -= len(p.runs[begin].text)\n",
    "                        begin += 1\n",
    "\n",
    "                    shuttle = p.runs[begin:end+1]\n",
    "\n",
    "                    # do replace\n",
    "                    # print('before replace', [i.text for i in shuttle])\n",
    "                    if key in shuttle[0].text:\n",
    "                        shuttle[0].text = shuttle[0].text.replace(key, data[key])\n",
    "                    else:\n",
    "                        replace_begin_index = shuttle_text(shuttle).index(key)\n",
    "                        replace_end_index = replace_begin_index + len(key)\n",
    "                        replace_end_index_in_last_run = replace_end_index - len(shuttle_text(shuttle[:-1]))\n",
    "                        shuttle[0].text = shuttle[0].text[:replace_begin_index] + data[key]\n",
    "\n",
    "                        # clear middle runs\n",
    "                        for i in shuttle[1:-1]:\n",
    "                            i.text = ''\n",
    "\n",
    "                        # keep last run\n",
    "                        shuttle[-1].text = shuttle[-1].text[replace_end_index_in_last_run:]\n",
    "\n",
    "                    # print('after replace', [i.text for i in shuttle])\n",
    "\n",
    "                    # set begin to next\n",
    "                    begin = end\n",
    "\n"
   ]
  },
  {
   "cell_type": "code",
   "execution_count": 77,
   "id": "4de1bdd0",
   "metadata": {},
   "outputs": [],
   "source": [
    "# usage\n",
    "\n",
    "doc=Document(path+'For spellcheck33.docx')\n",
    "docx_replace(doc, Dictionary)\n",
    "doc.save(path+'Output/For spellcheck22edit.docx')"
   ]
  },
  {
   "cell_type": "code",
   "execution_count": 150,
   "id": "6b9cc360",
   "metadata": {},
   "outputs": [
    {
     "ename": "AttributeError",
     "evalue": "'str' object has no attribute 'paragraphs'",
     "output_type": "error",
     "traceback": [
      "\u001b[1;31m---------------------------------------------------------------------------\u001b[0m",
      "\u001b[1;31mAttributeError\u001b[0m                            Traceback (most recent call last)",
      "\u001b[1;32m~\\AppData\\Local\\Temp\\ipykernel_18624\\3918117944.py\u001b[0m in \u001b[0;36m<module>\u001b[1;34m\u001b[0m\n\u001b[0;32m     21\u001b[0m \u001b[1;31m#filename = \"test.docx\"\u001b[0m\u001b[1;33m\u001b[0m\u001b[1;33m\u001b[0m\u001b[1;33m\u001b[0m\u001b[0m\n\u001b[0;32m     22\u001b[0m \u001b[1;31m#doc = Document(doc)\u001b[0m\u001b[1;33m\u001b[0m\u001b[1;33m\u001b[0m\u001b[1;33m\u001b[0m\u001b[0m\n\u001b[1;32m---> 23\u001b[1;33m \u001b[0mdocx_replace_regex\u001b[0m\u001b[1;33m(\u001b[0m\u001b[0mdoc\u001b[0m\u001b[1;33m,\u001b[0m \u001b[0mregex1\u001b[0m \u001b[1;33m,\u001b[0m \u001b[0mreplace1\u001b[0m\u001b[1;33m)\u001b[0m\u001b[1;33m\u001b[0m\u001b[1;33m\u001b[0m\u001b[0m\n\u001b[0m\u001b[0;32m     24\u001b[0m \u001b[0mdoc\u001b[0m\u001b[1;33m.\u001b[0m\u001b[0msave\u001b[0m\u001b[1;33m(\u001b[0m\u001b[0mpath\u001b[0m\u001b[1;33m+\u001b[0m\u001b[1;34m'Output/result1.docx'\u001b[0m\u001b[1;33m)\u001b[0m\u001b[1;33m\u001b[0m\u001b[1;33m\u001b[0m\u001b[0m\n",
      "\u001b[1;32m~\\AppData\\Local\\Temp\\ipykernel_18624\\3918117944.py\u001b[0m in \u001b[0;36mdocx_replace_regex\u001b[1;34m(doc_obj, regex, replace)\u001b[0m\n\u001b[0;32m      1\u001b[0m \u001b[1;32mdef\u001b[0m \u001b[0mdocx_replace_regex\u001b[0m\u001b[1;33m(\u001b[0m\u001b[0mdoc_obj\u001b[0m\u001b[1;33m,\u001b[0m \u001b[0mregex\u001b[0m \u001b[1;33m,\u001b[0m \u001b[0mreplace\u001b[0m\u001b[1;33m)\u001b[0m\u001b[1;33m:\u001b[0m\u001b[1;33m\u001b[0m\u001b[1;33m\u001b[0m\u001b[0m\n\u001b[0;32m      2\u001b[0m \u001b[1;33m\u001b[0m\u001b[0m\n\u001b[1;32m----> 3\u001b[1;33m     \u001b[1;32mfor\u001b[0m \u001b[0mp\u001b[0m \u001b[1;32min\u001b[0m \u001b[0mdoc_obj\u001b[0m\u001b[1;33m.\u001b[0m\u001b[0mparagraphs\u001b[0m\u001b[1;33m:\u001b[0m\u001b[1;33m\u001b[0m\u001b[1;33m\u001b[0m\u001b[0m\n\u001b[0m\u001b[0;32m      4\u001b[0m         \u001b[1;32mif\u001b[0m \u001b[0mregex\u001b[0m\u001b[1;33m.\u001b[0m\u001b[0msearch\u001b[0m\u001b[1;33m(\u001b[0m\u001b[0mp\u001b[0m\u001b[1;33m.\u001b[0m\u001b[0mtext\u001b[0m\u001b[1;33m)\u001b[0m\u001b[1;33m:\u001b[0m\u001b[1;33m\u001b[0m\u001b[1;33m\u001b[0m\u001b[0m\n\u001b[0;32m      5\u001b[0m             \u001b[0minline\u001b[0m \u001b[1;33m=\u001b[0m \u001b[0mp\u001b[0m\u001b[1;33m.\u001b[0m\u001b[0mruns\u001b[0m\u001b[1;33m\u001b[0m\u001b[1;33m\u001b[0m\u001b[0m\n",
      "\u001b[1;31mAttributeError\u001b[0m: 'str' object has no attribute 'paragraphs'"
     ]
    }
   ],
   "source": [
    "def docx_replace_regex(doc_obj, regex , replace):\n",
    "\n",
    "    for p in doc_obj.paragraphs:\n",
    "        if regex.search(p.text):\n",
    "            inline = p.runs\n",
    "            # Loop added to work with runs (strings with same style)\n",
    "            for i in range(len(inline)):\n",
    "                if regex.search(inline[i].text):\n",
    "                    text = regex.sub(replace, inline[i].text)\n",
    "                    inline[i].text = text\n",
    "\n",
    "    for table in doc_obj.tables:\n",
    "        for row in table.rows:\n",
    "            for cell in row.cells:\n",
    "                docx_replace_regex(cell, regex , replace)\n",
    "\n",
    "\n",
    "\n",
    "regex1 = re.compile(r\"your regex\")\n",
    "replace1 = r\"your replace string\"\n",
    "#filename = \"test.docx\"\n",
    "#doc = Document(doc)\n",
    "docx_replace_regex(doc, regex1 , replace1)\n",
    "doc.save(path+'Output/result1.docx')"
   ]
  },
  {
   "cell_type": "code",
   "execution_count": null,
   "id": "72e93c0e",
   "metadata": {},
   "outputs": [],
   "source": [
    "def replace_string2(filename):\n",
    "    doc = Document(path+'For spellcheck33.docx')\n",
    "    for p in doc.paragraphs:\n",
    "        if 'Text to find and replace' in p.text:\n",
    "            print 'SEARCH FOUND!!'\n",
    "            text = p.text.replace('Text to find and replace', 'new text')\n",
    "            style = p.style\n",
    "            p.text = text\n",
    "            p.style = style\n",
    "    # doc.save(filename)\n",
    "    doc.save(path+'For spellcheck133.docx')\n",
    "    return 1\n"
   ]
  },
  {
   "cell_type": "code",
   "execution_count": null,
   "id": "3c120e43",
   "metadata": {},
   "outputs": [],
   "source": [
    "dictionary={\"ashwanth\":\"Shubham\", \"SOUTH\":\"S\" }"
   ]
  },
  {
   "cell_type": "code",
   "execution_count": null,
   "id": "95f2c6ee",
   "metadata": {},
   "outputs": [],
   "source": []
  },
  {
   "cell_type": "code",
   "execution_count": 170,
   "id": "eff1deff",
   "metadata": {},
   "outputs": [
    {
     "ename": "SyntaxError",
     "evalue": "invalid syntax (1837316180.py, line 1)",
     "output_type": "error",
     "traceback": [
      "\u001b[1;36m  File \u001b[1;32m\"C:\\Users\\chenn\\AppData\\Local\\Temp\\ipykernel_8068\\1837316180.py\"\u001b[1;36m, line \u001b[1;32m1\u001b[0m\n\u001b[1;33m    document = opendocx(path'For spellcheck33.docx')\u001b[0m\n\u001b[1;37m                                                  ^\u001b[0m\n\u001b[1;31mSyntaxError\u001b[0m\u001b[1;31m:\u001b[0m invalid syntax\n"
     ]
    }
   ],
   "source": [
    "document = opendocx(path'For spellcheck33.docx')\n",
    "words = document.xpath('//w:r', namespaces=document.nsmap)\n",
    "for word in words:\n",
    "    if word in Dictionary.keys():\n",
    "        print \"found it\", Dictionary[word]\n",
    "        documents = replace(document, word, Dictionary[word])\n",
    "savedocx(documents, coreprops, appprops, contenttypes, websettings,\n",
    "    wordrelationships, output, imagefiledict=None)"
   ]
  },
  {
   "cell_type": "code",
   "execution_count": 11,
   "id": "6743632c",
   "metadata": {},
   "outputs": [],
   "source": [
    "with open('spell1test1.txt', 'w',  encoding='utf-8') as f:\n",
    "    f.writelines(checked)"
   ]
  },
  {
   "cell_type": "code",
   "execution_count": 17,
   "id": "6a314e9e",
   "metadata": {},
   "outputs": [],
   "source": [
    "doc=Document(path+'spell1test.docx')\n",
    "\n",
    "for i in Dic:\n",
    "    for p in doc.paragraphs:\n",
    "        if p.text.find(i)>=0:\n",
    "            p.text=p.text.replace(i,Dic[i])\n",
    "for key, value in Dic.items():\n",
    "    for paragraph in doc.paragraphs:\n",
    "        if key in paragraph.text:\n",
    "            paragraph.text = paragraph.text.replace(str(key), str(value))\n",
    "for key, value in Dic.items():\n",
    "    for table in doc.tables:\n",
    "        for row in table.rows:\n",
    "            for cell in row.cells:\n",
    "                for paragraph in cell.paragraphs:\n",
    "                    if key in paragraph.text:\n",
    "                        paragraph.text = paragraph.text.replace(str(key),str(value))\n",
    "doc.save(path+'spell1test1.docx')"
   ]
  },
  {
   "cell_type": "code",
   "execution_count": 221,
   "id": "2cab8f10",
   "metadata": {},
   "outputs": [],
   "source": [
    "a=\"ashwanth-shubham aren't they employees 2022.\""
   ]
  },
  {
   "cell_type": "code",
   "execution_count": 225,
   "id": "8c95ac63",
   "metadata": {},
   "outputs": [
    {
     "data": {
      "text/plain": [
       "\"ashwanth-shubham aren't they employees 2022.\""
      ]
     },
     "execution_count": 225,
     "metadata": {},
     "output_type": "execute_result"
    }
   ],
   "source": [
    "b=re.sub(r\"[^\\w\\d'-.]\",\" \",a)\n",
    "b"
   ]
  },
  {
   "cell_type": "code",
   "execution_count": null,
   "id": "cd8ed3bc",
   "metadata": {},
   "outputs": [],
   "source": []
  }
 ],
 "metadata": {
  "kernelspec": {
   "display_name": "AIE",
   "language": "python",
   "name": "aie"
  },
  "language_info": {
   "codemirror_mode": {
    "name": "ipython",
    "version": 3
   },
   "file_extension": ".py",
   "mimetype": "text/x-python",
   "name": "python",
   "nbconvert_exporter": "python",
   "pygments_lexer": "ipython3",
   "version": "3.7.11"
  }
 },
 "nbformat": 4,
 "nbformat_minor": 5
}
