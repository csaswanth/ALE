{
 "cells": [
  {
   "cell_type": "code",
   "execution_count": 1,
   "id": "b5f8d4ae",
   "metadata": {},
   "outputs": [],
   "source": [
    "import json \n",
    "import pandas as pd\n",
    "import numpy as np\n",
    "import re\n",
    "import nltk\n",
    "from nltk.corpus import stopwords\n",
    "from spacy.lang.en.stop_words import STOP_WORDS\n",
    "from spacy.lang.en import English\n",
    "\n",
    "nlp = English()\n",
    "\n",
    "\n",
    "path=\"D:/Final Dictionary/\""
   ]
  },
  {
   "cell_type": "code",
   "execution_count": 2,
   "id": "a12bf9ef",
   "metadata": {},
   "outputs": [],
   "source": [
    "master = pd.read_csv(path+\"webster medical dictionary1.csv\")\n",
    "master.drop_duplicates(subset =\"Dictionary\",keep = False, inplace = True)\n",
    "master=master.sort_values('Dictionary')\n",
    "\n",
    "master.replace('\\s+$', '', regex=True, inplace=True) #end\n",
    "master.replace('^\\s+', '', regex=True, inplace=True) #end\n",
    "master.replace(\"[^a-zA-Z'-]\",\"\", regex=True, inplace=True)\n",
    "#master= master.str.replace('  ', '')\n",
    "\n",
    "master.reset_index(drop=True, inplace=True)\n"
   ]
  },
  {
   "cell_type": "code",
   "execution_count": 3,
   "id": "4a7abcaf",
   "metadata": {},
   "outputs": [
    {
     "data": {
      "text/plain": [
       "364158"
      ]
     },
     "execution_count": 3,
     "metadata": {},
     "output_type": "execute_result"
    }
   ],
   "source": [
    "choices = master[\"Dictionary\"].tolist()\n",
    "choice=[]\n",
    "for i in choices:\n",
    "    if not len(i)<=3:\n",
    "        choice.append(i)\n",
    "\n",
    "choices =[] \n",
    "\n",
    "for word in choice:\n",
    "    lexeme = nlp.vocab[word]\n",
    "    if lexeme.is_stop == False:\n",
    "        choices.append(word)\n",
    "choices.sort()\n",
    "choices = pd.DataFrame(choices, columns =['Dictionary'])\n",
    "len(choices)"
   ]
  },
  {
   "cell_type": "code",
   "execution_count": 57,
   "id": "023022bb",
   "metadata": {},
   "outputs": [],
   "source": [
    "choices.to_csv(r'usme.txt', header=None, index=None, encoding='utf-8')"
   ]
  },
  {
   "cell_type": "code",
   "execution_count": null,
   "id": "964f8454",
   "metadata": {},
   "outputs": [],
   "source": []
  }
 ],
 "metadata": {
  "kernelspec": {
   "display_name": "AIE",
   "language": "python",
   "name": "aie"
  },
  "language_info": {
   "codemirror_mode": {
    "name": "ipython",
    "version": 3
   },
   "file_extension": ".py",
   "mimetype": "text/x-python",
   "name": "python",
   "nbconvert_exporter": "python",
   "pygments_lexer": "ipython3",
   "version": "3.7.11"
  }
 },
 "nbformat": 4,
 "nbformat_minor": 5
}
