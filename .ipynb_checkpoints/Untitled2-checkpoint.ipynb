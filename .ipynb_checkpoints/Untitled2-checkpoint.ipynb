{
 "cells": [
  {
   "cell_type": "code",
   "execution_count": 5,
   "id": "5df23c96",
   "metadata": {},
   "outputs": [],
   "source": [
    "l = ['I', 'am', 'John','John', 'is', 'going', 'to', 'US', 'JOHN']\n",
    "import re"
   ]
  },
  {
   "cell_type": "code",
   "execution_count": 5,
   "id": "fad837d3",
   "metadata": {},
   "outputs": [
    {
     "name": "stdout",
     "output_type": "stream",
     "text": [
      "['I John', 'John US']\n"
     ]
    }
   ],
   "source": [
    "output = []\n",
    "for sentence in l:\n",
    "    output.append(\" \".join([word for word in sentence.strip().split(\" \") if not re.match(r\"[a-z]+\",word)]))\n",
    "print(output)"
   ]
  },
  {
   "cell_type": "code",
   "execution_count": null,
   "id": "647ca0cb",
   "metadata": {},
   "outputs": [],
   "source": [
    "# Python3 code to demonstrate working of\n",
    "# Eliminate Capital Letter Starting words from String\n",
    "# Using join() + split() + isupper()\n",
    "     \n",
    "# initializing string\n",
    "test_str = 'GeeksforGeeks is Best for Geeks'\n",
    " \n",
    "# printing original string\n",
    "print(\"The original string is : \" + str(test_str))\n",
    " \n",
    "# Eliminate Capital Letter Starting words from String\n",
    "# Using join() + split() + isupper()\n",
    "temp = test_str.split()\n",
    "res = \" \".join([ele for ele in temp if not ele[0].isupper()])\n",
    " \n",
    "# printing result\n",
    "print(\"The filtered string : \" + str(res))\n"
   ]
  },
  {
   "cell_type": "code",
   "execution_count": 2,
   "id": "a2eb0514",
   "metadata": {},
   "outputs": [],
   "source": [
    "from string import *\n",
    "t=[w for w in l if not w.isupper()]"
   ]
  },
  {
   "cell_type": "code",
   "execution_count": 139,
   "id": "cdd6965a",
   "metadata": {},
   "outputs": [
    {
     "data": {
      "text/plain": [
       "['asHwanth', 'ashwantH']"
      ]
     },
     "execution_count": 139,
     "metadata": {},
     "output_type": "execute_result"
    }
   ],
   "source": [
    "import re\n",
    "s=\"Ashwanth asHwanth NIDHI vI ShuBHam ashwantH ashwanth\"\n",
    "b=re.findall(r'\\b[a-z]+(?:[A-Z][a-z]+)+\\b|\\b[A-Z]+(?:[A-Z][a-z]+)+\\b|\\b[a-z]+(?:[A-Z][a-z]+)+\\b|\\b[a-z]+(?:[a-z][A-Z]+)+\\b|\\b[A-Z]+(?:[A-Z][a-z]+)+\\b', s)\n",
    "b"
   ]
  },
  {
   "cell_type": "code",
   "execution_count": 144,
   "id": "739f57df",
   "metadata": {},
   "outputs": [
    {
     "data": {
      "text/plain": [
       "'Ashwanth asHwanth NIDHI vI ShuBHam ashwantH ashwanth'"
      ]
     },
     "execution_count": 144,
     "metadata": {},
     "output_type": "execute_result"
    }
   ],
   "source": [
    "c=text=re.sub(r\"[^\\S'\\S]\",\" \",s)#remove all special characters except \"'\"\n",
    "c"
   ]
  },
  {
   "cell_type": "code",
   "execution_count": 62,
   "id": "226c2e24",
   "metadata": {},
   "outputs": [],
   "source": [
    "textt=\"Ashwanth is 'Data Scientist'. figre ashwanth= AsHwanth\"\n",
    "tex=[]\n",
    "def check(word):\n",
    "    cap = word[0].isupper()\n",
    "    for i,char in enumerate(word):\n",
    "        \n",
    "        if char.isupper() and not cap:\n",
    "               tex.append\n",
    "        print('detected upper case in the middle of the word at position', i)"
   ]
  },
  {
   "cell_type": "code",
   "execution_count": 63,
   "id": "2f7d7831",
   "metadata": {},
   "outputs": [
    {
     "name": "stdout",
     "output_type": "stream",
     "text": [
      "detected upper case in the middle of the word at position 0\n",
      "detected upper case in the middle of the word at position 1\n",
      "detected upper case in the middle of the word at position 2\n",
      "detected upper case in the middle of the word at position 3\n",
      "detected upper case in the middle of the word at position 4\n",
      "detected upper case in the middle of the word at position 5\n",
      "detected upper case in the middle of the word at position 6\n",
      "detected upper case in the middle of the word at position 7\n",
      "detected upper case in the middle of the word at position 8\n",
      "detected upper case in the middle of the word at position 9\n",
      "detected upper case in the middle of the word at position 10\n",
      "detected upper case in the middle of the word at position 11\n",
      "detected upper case in the middle of the word at position 12\n",
      "detected upper case in the middle of the word at position 13\n",
      "detected upper case in the middle of the word at position 14\n",
      "detected upper case in the middle of the word at position 15\n",
      "detected upper case in the middle of the word at position 16\n",
      "detected upper case in the middle of the word at position 17\n",
      "detected upper case in the middle of the word at position 18\n",
      "detected upper case in the middle of the word at position 19\n",
      "detected upper case in the middle of the word at position 20\n",
      "detected upper case in the middle of the word at position 21\n",
      "detected upper case in the middle of the word at position 22\n",
      "detected upper case in the middle of the word at position 23\n",
      "detected upper case in the middle of the word at position 24\n",
      "detected upper case in the middle of the word at position 25\n",
      "detected upper case in the middle of the word at position 26\n",
      "detected upper case in the middle of the word at position 27\n",
      "detected upper case in the middle of the word at position 28\n",
      "detected upper case in the middle of the word at position 29\n",
      "detected upper case in the middle of the word at position 30\n",
      "detected upper case in the middle of the word at position 31\n",
      "detected upper case in the middle of the word at position 32\n",
      "detected upper case in the middle of the word at position 33\n",
      "detected upper case in the middle of the word at position 34\n",
      "detected upper case in the middle of the word at position 35\n",
      "detected upper case in the middle of the word at position 36\n",
      "detected upper case in the middle of the word at position 37\n",
      "detected upper case in the middle of the word at position 38\n",
      "detected upper case in the middle of the word at position 39\n",
      "detected upper case in the middle of the word at position 40\n",
      "detected upper case in the middle of the word at position 41\n",
      "detected upper case in the middle of the word at position 42\n",
      "detected upper case in the middle of the word at position 43\n",
      "detected upper case in the middle of the word at position 44\n",
      "detected upper case in the middle of the word at position 45\n",
      "detected upper case in the middle of the word at position 46\n",
      "detected upper case in the middle of the word at position 47\n",
      "detected upper case in the middle of the word at position 48\n",
      "detected upper case in the middle of the word at position 49\n",
      "detected upper case in the middle of the word at position 50\n",
      "detected upper case in the middle of the word at position 51\n",
      "detected upper case in the middle of the word at position 52\n",
      "detected upper case in the middle of the word at position 53\n"
     ]
    }
   ],
   "source": [
    "text=check(textt)"
   ]
  },
  {
   "cell_type": "code",
   "execution_count": 64,
   "id": "50a0d3a7",
   "metadata": {},
   "outputs": [],
   "source": [
    "from docx import Document\n",
    "import docx\n",
    "import re\n",
    "import json \n",
    "import pandas as pd\n",
    "import numpy as np\n",
    "import nltk\n",
    "from nltk.corpus import stopwords\n",
    "import spacy\n",
    "from spacy.lang.en.stop_words import STOP_WORDS\n",
    "import en_core_web_lg\n",
    "from rapidfuzz import fuzz, process\n",
    "\n",
    "\n",
    "\n",
    "nlp = spacy.load('en_core_web_lg')\n"
   ]
  },
  {
   "cell_type": "code",
   "execution_count": 128,
   "id": "aa8dbe25",
   "metadata": {},
   "outputs": [],
   "source": [
    "textt=\"vimal, kalyan, ashwanth are goinng to lake\"\n",
    "\n",
    "def Extract_ner(ori): \n",
    "    doc = nlp(ori)\n",
    "    ori = \"\"\n",
    "    for token in doc:\n",
    "        if token.dep_ in ['nsubj|compund']:\n",
    "            new_token = \"\"\n",
    "        elif token.pos_ == \"PUNCT\":\n",
    "            new_token = token.text\n",
    "        else:\n",
    "            new_token = \" {}\".format(token.text)\n",
    "        ori += new_token\n",
    "    ori = ori[1:]\n",
    "    ori=str(ori)\n",
    "    return ori\n",
    "t=Extract_ner(textt)"
   ]
  },
  {
   "cell_type": "code",
   "execution_count": 135,
   "id": "2e711a5b",
   "metadata": {},
   "outputs": [
    {
     "name": "stdout",
     "output_type": "stream",
     "text": [
      "ashwanth ADJ JJ amod xxxx True False\n",
      ", PUNCT , punct , False False\n",
      "vimal ADJ JJ amod xxxx True False\n",
      ", PUNCT , punct , False False\n",
      "kalyan PROPN NNP nsubj xxxx True False\n",
      "are AUX VBP aux xxx True True\n",
      "going VERB VBG ROOT xxxx True False\n",
      "to PART TO aux xx True True\n",
      "lake VERB VB xcomp xxxx True False\n"
     ]
    }
   ],
   "source": [
    "import spacy\n",
    "\n",
    "nlp = spacy.load(\"en_core_web_sm\")\n",
    "doc = nlp(\"ashwanth, vimal, kalyan are going to lake\")\n",
    "\n",
    "for token in doc:\n",
    "    print(token.text,  token.pos_, token.tag_, token.dep_,\n",
    "            token.shape_, token.is_alpha, token.is_stop)"
   ]
  },
  {
   "cell_type": "code",
   "execution_count": 137,
   "id": "46e41d10",
   "metadata": {},
   "outputs": [],
   "source": [
    "import re\n",
    "in_list='Ashwanth is @ware ho%se'\n",
    "\n",
    "char_list =['@', '%']\n",
    "Doc1 = ' '.join([ele for ele in in_list.split(' ') if all(ch not in ele for ch in char_list)])"
   ]
  },
  {
   "cell_type": "code",
   "execution_count": 138,
   "id": "c425e0be",
   "metadata": {},
   "outputs": [
    {
     "data": {
      "text/plain": [
       "'Ashwanth is'"
      ]
     },
     "execution_count": 138,
     "metadata": {},
     "output_type": "execute_result"
    }
   ],
   "source": [
    "Doc1"
   ]
  },
  {
   "cell_type": "code",
   "execution_count": null,
   "id": "a213a059",
   "metadata": {},
   "outputs": [],
   "source": []
  }
 ],
 "metadata": {
  "kernelspec": {
   "display_name": "Spellings",
   "language": "python",
   "name": "spellings"
  },
  "language_info": {
   "codemirror_mode": {
    "name": "ipython",
    "version": 3
   },
   "file_extension": ".py",
   "mimetype": "text/x-python",
   "name": "python",
   "nbconvert_exporter": "python",
   "pygments_lexer": "ipython3",
   "version": "3.7.11"
  }
 },
 "nbformat": 4,
 "nbformat_minor": 5
}
