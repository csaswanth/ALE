{
 "cells": [
  {
   "cell_type": "code",
   "execution_count": 56,
   "id": "b5f8d4ae",
   "metadata": {},
   "outputs": [],
   "source": [
    "import pandas as pd\n",
    "import numpy as np\n",
    "import re\n",
    "import nltk\n",
    "from nltk.corpus import stopwords\n",
    "from spacy.lang.en.stop_words import STOP_WORDS\n",
    "from spacy.lang.en import English\n",
    "\n",
    "nlp = English()\n",
    "\n",
    "\n",
    "path=\"D:/Dictionaries/Final Dictionary/\""
   ]
  },
  {
   "cell_type": "code",
   "execution_count": 57,
   "id": "a12bf9ef",
   "metadata": {
    "scrolled": true
   },
   "outputs": [],
   "source": [
    "master = pd.read_csv(path+\"webster medical dictionary1.csv\")\n",
    "master.drop_duplicates(subset =\"Dictionary\",keep = False, inplace = True)\n",
    "master=master.sort_values('Dictionary')\n",
    "master.replace(\"[\\(\\[].*?[\\)\\]]\", \"\", regex=True, inplace=True)\n",
    "\n",
    "\"\"\"\n",
    "master.replace('\\s+$', '', regex=True, inplace=True) #end\n",
    "master.replace('^\\s+', '', regex=True, inplace=True) #start\n",
    "master.replace('-$', '', regex=True, inplace=True) #end\n",
    "master.replace('^-', '', regex=True, inplace=True) #start\n",
    "master.replace('.$', '', regex=True, inplace=True) #end\n",
    "master.replace('^.', '', regex=True, inplace=True) #start\n",
    "\n",
    "master.replace(\"[^a-zA-Z'&-.]\",\"\", regex=True, inplace=True)\"\"\"\n",
    "#master= master.str.replace('  ', '')\n",
    "\n",
    "master.reset_index(drop=True, inplace=True)\n"
   ]
  },
  {
   "cell_type": "code",
   "execution_count": 58,
   "id": "4a7abcaf",
   "metadata": {},
   "outputs": [
    {
     "data": {
      "text/html": [
       "<div>\n",
       "<style scoped>\n",
       "    .dataframe tbody tr th:only-of-type {\n",
       "        vertical-align: middle;\n",
       "    }\n",
       "\n",
       "    .dataframe tbody tr th {\n",
       "        vertical-align: top;\n",
       "    }\n",
       "\n",
       "    .dataframe thead th {\n",
       "        text-align: right;\n",
       "    }\n",
       "</style>\n",
       "<table border=\"1\" class=\"dataframe\">\n",
       "  <thead>\n",
       "    <tr style=\"text-align: right;\">\n",
       "      <th></th>\n",
       "      <th>Dictionary</th>\n",
       "    </tr>\n",
       "  </thead>\n",
       "  <tbody>\n",
       "    <tr>\n",
       "      <th>0</th>\n",
       "      <td>AAAS</td>\n",
       "    </tr>\n",
       "    <tr>\n",
       "      <th>1</th>\n",
       "      <td>AAFP</td>\n",
       "    </tr>\n",
       "    <tr>\n",
       "      <th>2</th>\n",
       "      <td>AAOS</td>\n",
       "    </tr>\n",
       "    <tr>\n",
       "      <th>3</th>\n",
       "      <td>ACE-inhibitor</td>\n",
       "    </tr>\n",
       "    <tr>\n",
       "      <th>4</th>\n",
       "      <td>ACOG</td>\n",
       "    </tr>\n",
       "    <tr>\n",
       "      <th>...</th>\n",
       "      <td>...</td>\n",
       "    </tr>\n",
       "    <tr>\n",
       "      <th>364365</th>\n",
       "      <td>zyzzyva</td>\n",
       "    </tr>\n",
       "    <tr>\n",
       "      <th>364366</th>\n",
       "      <td>zyzzyvas</td>\n",
       "    </tr>\n",
       "    <tr>\n",
       "      <th>364367</th>\n",
       "      <td>“bad”</td>\n",
       "    </tr>\n",
       "    <tr>\n",
       "      <th>364368</th>\n",
       "      <td>“good”</td>\n",
       "    </tr>\n",
       "    <tr>\n",
       "      <th>364369</th>\n",
       "      <td>“super”</td>\n",
       "    </tr>\n",
       "  </tbody>\n",
       "</table>\n",
       "<p>364370 rows × 1 columns</p>\n",
       "</div>"
      ],
      "text/plain": [
       "           Dictionary\n",
       "0                AAAS\n",
       "1                AAFP\n",
       "2                AAOS\n",
       "3       ACE-inhibitor\n",
       "4                ACOG\n",
       "...               ...\n",
       "364365        zyzzyva\n",
       "364366       zyzzyvas\n",
       "364367          “bad”\n",
       "364368         “good”\n",
       "364369        “super”\n",
       "\n",
       "[364370 rows x 1 columns]"
      ]
     },
     "execution_count": 58,
     "metadata": {},
     "output_type": "execute_result"
    }
   ],
   "source": [
    "choices = master[\"Dictionary\"].tolist()\n",
    "choices=set(choices)\n",
    "choice=[]\n",
    "for i in choices:\n",
    "    if not len(i)<=3:\n",
    "        choice.append(i)\n",
    "choice.sort()\n",
    "\n",
    "\n",
    "\"\"\"choices =[] \n",
    "\n",
    "for word in choice:\n",
    "    lexeme = nlp.vocab[word]\n",
    "    if lexeme.is_stop == False:\n",
    "        choices.append(word)\n",
    "\"\"\"\n",
    "choice = pd.DataFrame(choice, columns =['Dictionary'])\n",
    "\n",
    "choice\n"
   ]
  },
  {
   "cell_type": "code",
   "execution_count": 59,
   "id": "023022bb",
   "metadata": {},
   "outputs": [],
   "source": [
    "choice.to_csv(r'US-en.txt', header=None, index=None,  encoding='utf-8')"
   ]
  },
  {
   "cell_type": "code",
   "execution_count": 30,
   "id": "964f8454",
   "metadata": {},
   "outputs": [],
   "source": [
    "\"\"\"with open('USmed.txt', 'w',  encoding='utf-8') as f:\n",
    "    f.writelines(content)\n",
    "\"\"\""
   ]
  },
  {
   "cell_type": "code",
   "execution_count": 24,
   "id": "9934d2ed",
   "metadata": {},
   "outputs": [],
   "source": [
    "#choices.to_csv(r'pds.txt', header=None, index=None, sep=' ', mode='a', encoding='utf-8')\n"
   ]
  },
  {
   "cell_type": "code",
   "execution_count": null,
   "id": "85b241b1",
   "metadata": {},
   "outputs": [],
   "source": []
  }
 ],
 "metadata": {
  "kernelspec": {
   "display_name": "AIE",
   "language": "python",
   "name": "aie"
  },
  "language_info": {
   "codemirror_mode": {
    "name": "ipython",
    "version": 3
   },
   "file_extension": ".py",
   "mimetype": "text/x-python",
   "name": "python",
   "nbconvert_exporter": "python",
   "pygments_lexer": "ipython3",
   "version": "3.7.11"
  }
 },
 "nbformat": 4,
 "nbformat_minor": 5
}
